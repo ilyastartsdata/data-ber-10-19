{
 "cells": [
  {
   "cell_type": "code",
   "execution_count": 1,
   "metadata": {},
   "outputs": [],
   "source": [
    "import pandas as pd\n",
    "import numpy as np\n",
    "import seaborn as sns\n",
    "import matplotlib.pyplot as plt\n",
    "import plotly.express as px\n",
    "import plotly.graph_objects as go\n",
    "\n",
    "pd.set_option('display.max_rows', 500)\n",
    "%matplotlib inline\n",
    "sns.set()\n",
    "sns.set_style(\"ticks\")"
   ]
  },
  {
   "cell_type": "code",
   "execution_count": 2,
   "metadata": {},
   "outputs": [
    {
     "name": "stdout",
     "output_type": "stream",
     "text": [
      "<class 'pandas.core.frame.DataFrame'>\n",
      "RangeIndex: 217839 entries, 0 to 217838\n",
      "Data columns (total 13 columns):\n",
      "country                  217777 non-null object\n",
      "description              217839 non-null object\n",
      "designation              153398 non-null object\n",
      "points                   217839 non-null int64\n",
      "price                    200724 non-null float64\n",
      "province                 217777 non-null object\n",
      "region_1                 182347 non-null object\n",
      "region_2                 86260 non-null object\n",
      "taster_name              95071 non-null object\n",
      "taster_twitter_handle    90542 non-null object\n",
      "title                    119988 non-null object\n",
      "variety                  217838 non-null object\n",
      "winery                   217839 non-null object\n",
      "dtypes: float64(1), int64(1), object(11)\n",
      "memory usage: 21.6+ MB\n"
     ]
    }
   ],
   "source": [
    "# Uploading data and adjusting data\n",
    "\n",
    "df1 = pd.read_csv('winemag-data-130k-v2.csv', encoding='latin1')\n",
    "df2 = pd.read_csv('winemag-data_first150k.csv', encoding='latin1')\n",
    "df = pd.concat([df1,df2],sort = False)\n",
    "df = df.drop(['Unnamed: 0'], axis = 1)\n",
    "df = df.drop_duplicates().reset_index(drop=True)\n",
    "df.info()"
   ]
  },
  {
   "cell_type": "code",
   "execution_count": 3,
   "metadata": {},
   "outputs": [],
   "source": [
    "# Adding grade based on points\n",
    "\n",
    "def grades(points):\n",
    "    if points in range(80,83):\n",
    "        return 0\n",
    "    elif points in range(83,87):\n",
    "        return 1\n",
    "    elif points in range(87,90):\n",
    "        return 2\n",
    "    elif points in range(90,94):\n",
    "        return 3\n",
    "    elif points in range(94,98):\n",
    "        return 4\n",
    "    else:\n",
    "        return 5\n",
    "    \n",
    "df['grade'] = df['points'].apply(grades)"
   ]
  },
  {
   "cell_type": "code",
   "execution_count": 4,
   "metadata": {},
   "outputs": [],
   "source": [
    "# Adding the dollar per point ratio\n",
    "\n",
    "df['ratio'] = df['price']/df['points']"
   ]
  },
  {
   "cell_type": "markdown",
   "metadata": {},
   "source": [
    "#### Evaluation"
   ]
  },
  {
   "cell_type": "code",
   "execution_count": 5,
   "metadata": {},
   "outputs": [
    {
     "name": "stdout",
     "output_type": "stream",
     "text": [
      "<class 'pandas.core.frame.DataFrame'>\n",
      "RangeIndex: 40 entries, 0 to 39\n",
      "Data columns (total 15 columns):\n",
      "country                  40 non-null object\n",
      "description              40 non-null object\n",
      "designation              14 non-null object\n",
      "points                   40 non-null int64\n",
      "price                    40 non-null float64\n",
      "province                 40 non-null object\n",
      "region_1                 35 non-null object\n",
      "region_2                 2 non-null object\n",
      "taster_name              25 non-null object\n",
      "taster_twitter_handle    25 non-null object\n",
      "title                    26 non-null object\n",
      "variety                  40 non-null object\n",
      "winery                   40 non-null object\n",
      "grade                    40 non-null int64\n",
      "ratio                    40 non-null float64\n",
      "dtypes: float64(2), int64(2), object(11)\n",
      "memory usage: 4.8+ KB\n"
     ]
    }
   ],
   "source": [
    "# Creating a dataframe for luxury wines\n",
    "\n",
    "luxury = df[df['price'] > 800 ]\n",
    "luxury = luxury.reset_index(drop=True)\n",
    "luxury.info()"
   ]
  },
  {
   "cell_type": "code",
   "execution_count": 6,
   "metadata": {},
   "outputs": [
    {
     "data": {
      "text/plain": [
       "4    26\n",
       "5    11\n",
       "3     2\n",
       "2     1\n",
       "Name: grade, dtype: int64"
      ]
     },
     "execution_count": 6,
     "metadata": {},
     "output_type": "execute_result"
    }
   ],
   "source": [
    "luxury['grade'].value_counts()"
   ]
  },
  {
   "cell_type": "code",
   "execution_count": 7,
   "metadata": {},
   "outputs": [
    {
     "data": {
      "text/plain": [
       "count    11.000000\n",
       "mean     13.536421\n",
       "std       5.384471\n",
       "min       8.480000\n",
       "25%       8.629664\n",
       "50%      14.000000\n",
       "75%      17.193878\n",
       "max      23.232323\n",
       "Name: ratio, dtype: float64"
      ]
     },
     "execution_count": 7,
     "metadata": {},
     "output_type": "execute_result"
    }
   ],
   "source": [
    "luxury = luxury[luxury['grade'] > 4]\n",
    "luxury['ratio'].describe()"
   ]
  },
  {
   "cell_type": "code",
   "execution_count": 8,
   "metadata": {},
   "outputs": [
    {
     "data": {
      "text/html": [
       "<div>\n",
       "<style scoped>\n",
       "    .dataframe tbody tr th:only-of-type {\n",
       "        vertical-align: middle;\n",
       "    }\n",
       "\n",
       "    .dataframe tbody tr th {\n",
       "        vertical-align: top;\n",
       "    }\n",
       "\n",
       "    .dataframe thead th {\n",
       "        text-align: right;\n",
       "    }\n",
       "</style>\n",
       "<table border=\"1\" class=\"dataframe\">\n",
       "  <thead>\n",
       "    <tr style=\"text-align: right;\">\n",
       "      <th></th>\n",
       "      <th>country</th>\n",
       "      <th>description</th>\n",
       "      <th>designation</th>\n",
       "      <th>points</th>\n",
       "      <th>price</th>\n",
       "      <th>province</th>\n",
       "      <th>region_1</th>\n",
       "      <th>region_2</th>\n",
       "      <th>taster_name</th>\n",
       "      <th>taster_twitter_handle</th>\n",
       "      <th>title</th>\n",
       "      <th>variety</th>\n",
       "      <th>winery</th>\n",
       "      <th>grade</th>\n",
       "      <th>ratio</th>\n",
       "    </tr>\n",
       "  </thead>\n",
       "  <tbody>\n",
       "    <tr>\n",
       "      <th>0</th>\n",
       "      <td>France</td>\n",
       "      <td>Full of ripe fruit, opulent and concentrated, ...</td>\n",
       "      <td>NaN</td>\n",
       "      <td>100</td>\n",
       "      <td>848.0</td>\n",
       "      <td>Bordeaux</td>\n",
       "      <td>Pessac-LÃ©ognan</td>\n",
       "      <td>NaN</td>\n",
       "      <td>Roger Voss</td>\n",
       "      <td>@vossroger</td>\n",
       "      <td>ChÃ¢teau Haut-Brion 2014  Pessac-LÃ©ognan</td>\n",
       "      <td>Bordeaux-style White Blend</td>\n",
       "      <td>ChÃ¢teau Haut-Brion</td>\n",
       "      <td>5</td>\n",
       "      <td>8.480000</td>\n",
       "    </tr>\n",
       "    <tr>\n",
       "      <th>2</th>\n",
       "      <td>Australia</td>\n",
       "      <td>This inky, embryonic wine deserves to be cella...</td>\n",
       "      <td>Grange</td>\n",
       "      <td>99</td>\n",
       "      <td>850.0</td>\n",
       "      <td>South Australia</td>\n",
       "      <td>South Australia</td>\n",
       "      <td>NaN</td>\n",
       "      <td>Joe Czerwinski</td>\n",
       "      <td>@JoeCz</td>\n",
       "      <td>Penfolds 2010 Grange Shiraz (South Australia)</td>\n",
       "      <td>Shiraz</td>\n",
       "      <td>Penfolds</td>\n",
       "      <td>5</td>\n",
       "      <td>8.585859</td>\n",
       "    </tr>\n",
       "    <tr>\n",
       "      <th>5</th>\n",
       "      <td>France</td>\n",
       "      <td>A wine that has created its own universe. It h...</td>\n",
       "      <td>Clos du Mesnil</td>\n",
       "      <td>100</td>\n",
       "      <td>1400.0</td>\n",
       "      <td>Champagne</td>\n",
       "      <td>Champagne</td>\n",
       "      <td>NaN</td>\n",
       "      <td>NaN</td>\n",
       "      <td>NaN</td>\n",
       "      <td>NaN</td>\n",
       "      <td>Chardonnay</td>\n",
       "      <td>Krug</td>\n",
       "      <td>5</td>\n",
       "      <td>14.000000</td>\n",
       "    </tr>\n",
       "  </tbody>\n",
       "</table>\n",
       "</div>"
      ],
      "text/plain": [
       "     country                                        description  \\\n",
       "0     France  Full of ripe fruit, opulent and concentrated, ...   \n",
       "2  Australia  This inky, embryonic wine deserves to be cella...   \n",
       "5     France  A wine that has created its own universe. It h...   \n",
       "\n",
       "      designation  points   price         province         region_1 region_2  \\\n",
       "0             NaN     100   848.0         Bordeaux  Pessac-LÃ©ognan      NaN   \n",
       "2          Grange      99   850.0  South Australia  South Australia      NaN   \n",
       "5  Clos du Mesnil     100  1400.0        Champagne        Champagne      NaN   \n",
       "\n",
       "      taster_name taster_twitter_handle  \\\n",
       "0      Roger Voss            @vossroger   \n",
       "2  Joe Czerwinski                @JoeCz   \n",
       "5             NaN                   NaN   \n",
       "\n",
       "                                           title                     variety  \\\n",
       "0      ChÃ¢teau Haut-Brion 2014  Pessac-LÃ©ognan  Bordeaux-style White Blend   \n",
       "2  Penfolds 2010 Grange Shiraz (South Australia)                      Shiraz   \n",
       "5                                            NaN                  Chardonnay   \n",
       "\n",
       "                winery  grade      ratio  \n",
       "0  ChÃ¢teau Haut-Brion      5   8.480000  \n",
       "2             Penfolds      5   8.585859  \n",
       "5                 Krug      5  14.000000  "
      ]
     },
     "execution_count": 8,
     "metadata": {},
     "output_type": "execute_result"
    }
   ],
   "source": [
    "luxury = luxury.nsmallest(6, 'ratio').reset_index(drop=True)\n",
    "luxury = luxury.drop_duplicates('variety')\n",
    "luxury"
   ]
  },
  {
   "cell_type": "code",
   "execution_count": 9,
   "metadata": {},
   "outputs": [
    {
     "name": "stdout",
     "output_type": "stream",
     "text": [
      "<class 'pandas.core.frame.DataFrame'>\n",
      "RangeIndex: 485 entries, 0 to 484\n",
      "Data columns (total 15 columns):\n",
      "country                  485 non-null object\n",
      "description              485 non-null object\n",
      "designation              311 non-null object\n",
      "points                   485 non-null int64\n",
      "price                    485 non-null float64\n",
      "province                 485 non-null object\n",
      "region_1                 398 non-null object\n",
      "region_2                 30 non-null object\n",
      "taster_name              257 non-null object\n",
      "taster_twitter_handle    234 non-null object\n",
      "title                    286 non-null object\n",
      "variety                  485 non-null object\n",
      "winery                   485 non-null object\n",
      "grade                    485 non-null int64\n",
      "ratio                    485 non-null float64\n",
      "dtypes: float64(2), int64(2), object(11)\n",
      "memory usage: 57.0+ KB\n"
     ]
    }
   ],
   "source": [
    "# Creating a dataframe for very_expensive wines\n",
    "\n",
    "very_expensive = df[(df['price'] > 300) & (df['price'] < 800.01)]\n",
    "very_expensive = very_expensive.reset_index(drop=True)\n",
    "very_expensive.info()"
   ]
  },
  {
   "cell_type": "code",
   "execution_count": 10,
   "metadata": {},
   "outputs": [
    {
     "data": {
      "text/plain": [
       "4    344\n",
       "3     77\n",
       "5     48\n",
       "2     12\n",
       "1      3\n",
       "0      1\n",
       "Name: grade, dtype: int64"
      ]
     },
     "execution_count": 10,
     "metadata": {},
     "output_type": "execute_result"
    }
   ],
   "source": [
    "very_expensive['grade'].value_counts()"
   ]
  },
  {
   "cell_type": "code",
   "execution_count": 11,
   "metadata": {},
   "outputs": [
    {
     "data": {
      "text/plain": [
       "count    48.000000\n",
       "mean      4.807621\n",
       "std       1.485491\n",
       "min       3.112245\n",
       "25%       3.673469\n",
       "50%       4.444444\n",
       "75%       5.539141\n",
       "max       8.163265\n",
       "Name: ratio, dtype: float64"
      ]
     },
     "execution_count": 11,
     "metadata": {},
     "output_type": "execute_result"
    }
   ],
   "source": [
    "very_expensive = very_expensive[very_expensive['grade'] > 4]\n",
    "very_expensive['ratio'].describe()"
   ]
  },
  {
   "cell_type": "code",
   "execution_count": 12,
   "metadata": {},
   "outputs": [
    {
     "data": {
      "text/html": [
       "<div>\n",
       "<style scoped>\n",
       "    .dataframe tbody tr th:only-of-type {\n",
       "        vertical-align: middle;\n",
       "    }\n",
       "\n",
       "    .dataframe tbody tr th {\n",
       "        vertical-align: top;\n",
       "    }\n",
       "\n",
       "    .dataframe thead th {\n",
       "        text-align: right;\n",
       "    }\n",
       "</style>\n",
       "<table border=\"1\" class=\"dataframe\">\n",
       "  <thead>\n",
       "    <tr style=\"text-align: right;\">\n",
       "      <th></th>\n",
       "      <th>country</th>\n",
       "      <th>description</th>\n",
       "      <th>designation</th>\n",
       "      <th>points</th>\n",
       "      <th>price</th>\n",
       "      <th>province</th>\n",
       "      <th>region_1</th>\n",
       "      <th>region_2</th>\n",
       "      <th>taster_name</th>\n",
       "      <th>taster_twitter_handle</th>\n",
       "      <th>title</th>\n",
       "      <th>variety</th>\n",
       "      <th>winery</th>\n",
       "      <th>grade</th>\n",
       "      <th>ratio</th>\n",
       "    </tr>\n",
       "  </thead>\n",
       "  <tbody>\n",
       "    <tr>\n",
       "      <th>0</th>\n",
       "      <td>France</td>\n",
       "      <td>With its gold color and mature, toasty flavors...</td>\n",
       "      <td>CuvÃ©e Sir Winston Churchill Brut</td>\n",
       "      <td>98</td>\n",
       "      <td>305.0</td>\n",
       "      <td>Champagne</td>\n",
       "      <td>Champagne</td>\n",
       "      <td>NaN</td>\n",
       "      <td>Roger Voss</td>\n",
       "      <td>@vossroger</td>\n",
       "      <td>Pol Roger 2002 CuvÃ©e Sir Winston Churchill Br...</td>\n",
       "      <td>Champagne Blend</td>\n",
       "      <td>Pol Roger</td>\n",
       "      <td>5</td>\n",
       "      <td>3.112245</td>\n",
       "    </tr>\n",
       "    <tr>\n",
       "      <th>1</th>\n",
       "      <td>Italy</td>\n",
       "      <td>Here's a âwowâ wine you won't easily forge...</td>\n",
       "      <td>Messorio</td>\n",
       "      <td>99</td>\n",
       "      <td>320.0</td>\n",
       "      <td>Tuscany</td>\n",
       "      <td>Toscana</td>\n",
       "      <td>NaN</td>\n",
       "      <td>NaN</td>\n",
       "      <td>NaN</td>\n",
       "      <td>Le Macchiole 2007 Messorio Merlot (Toscana)</td>\n",
       "      <td>Merlot</td>\n",
       "      <td>Le Macchiole</td>\n",
       "      <td>5</td>\n",
       "      <td>3.232323</td>\n",
       "    </tr>\n",
       "    <tr>\n",
       "      <th>2</th>\n",
       "      <td>France</td>\n",
       "      <td>A beautiful wine, smooth, polished, with round...</td>\n",
       "      <td>NaN</td>\n",
       "      <td>98</td>\n",
       "      <td>319.0</td>\n",
       "      <td>Burgundy</td>\n",
       "      <td>Clos de Tart</td>\n",
       "      <td>NaN</td>\n",
       "      <td>Roger Voss</td>\n",
       "      <td>@vossroger</td>\n",
       "      <td>Clos de Tart 2005  Clos de Tart</td>\n",
       "      <td>Pinot Noir</td>\n",
       "      <td>Clos de Tart</td>\n",
       "      <td>5</td>\n",
       "      <td>3.255102</td>\n",
       "    </tr>\n",
       "  </tbody>\n",
       "</table>\n",
       "</div>"
      ],
      "text/plain": [
       "  country                                        description  \\\n",
       "0  France  With its gold color and mature, toasty flavors...   \n",
       "1   Italy  Here's a âwowâ wine you won't easily forge...   \n",
       "2  France  A beautiful wine, smooth, polished, with round...   \n",
       "\n",
       "                         designation  points  price   province      region_1  \\\n",
       "0  CuvÃ©e Sir Winston Churchill Brut      98  305.0  Champagne     Champagne   \n",
       "1                           Messorio      99  320.0    Tuscany       Toscana   \n",
       "2                                NaN      98  319.0   Burgundy  Clos de Tart   \n",
       "\n",
       "  region_2 taster_name taster_twitter_handle  \\\n",
       "0      NaN  Roger Voss            @vossroger   \n",
       "1      NaN         NaN                   NaN   \n",
       "2      NaN  Roger Voss            @vossroger   \n",
       "\n",
       "                                               title          variety  \\\n",
       "0  Pol Roger 2002 CuvÃ©e Sir Winston Churchill Br...  Champagne Blend   \n",
       "1        Le Macchiole 2007 Messorio Merlot (Toscana)           Merlot   \n",
       "2                    Clos de Tart 2005  Clos de Tart       Pinot Noir   \n",
       "\n",
       "         winery  grade     ratio  \n",
       "0     Pol Roger      5  3.112245  \n",
       "1  Le Macchiole      5  3.232323  \n",
       "2  Clos de Tart      5  3.255102  "
      ]
     },
     "execution_count": 12,
     "metadata": {},
     "output_type": "execute_result"
    }
   ],
   "source": [
    "very_expensive = very_expensive.nsmallest(5, 'ratio').reset_index(drop=True)\n",
    "very_expensive = very_expensive.drop_duplicates('variety').reset_index(drop=True)\n",
    "very_expensive"
   ]
  },
  {
   "cell_type": "code",
   "execution_count": 13,
   "metadata": {},
   "outputs": [
    {
     "name": "stdout",
     "output_type": "stream",
     "text": [
      "<class 'pandas.core.frame.DataFrame'>\n",
      "RangeIndex: 5041 entries, 0 to 5040\n",
      "Data columns (total 15 columns):\n",
      "country                  5041 non-null object\n",
      "description              5041 non-null object\n",
      "designation              4162 non-null object\n",
      "points                   5041 non-null int64\n",
      "price                    5041 non-null float64\n",
      "province                 5041 non-null object\n",
      "region_1                 4666 non-null object\n",
      "region_2                 1598 non-null object\n",
      "taster_name              2276 non-null object\n",
      "taster_twitter_handle    2226 non-null object\n",
      "title                    2917 non-null object\n",
      "variety                  5041 non-null object\n",
      "winery                   5041 non-null object\n",
      "grade                    5041 non-null int64\n",
      "ratio                    5041 non-null float64\n",
      "dtypes: float64(2), int64(2), object(11)\n",
      "memory usage: 590.9+ KB\n"
     ]
    }
   ],
   "source": [
    "# Creating a dataframe for expensive wines\n",
    "\n",
    "expensive = df[(df['price'] > 100) & (df['price'] < 300.01)]\n",
    "expensive = expensive.reset_index(drop=True)\n",
    "expensive.info()"
   ]
  },
  {
   "cell_type": "code",
   "execution_count": 14,
   "metadata": {},
   "outputs": [
    {
     "data": {
      "text/plain": [
       "3    2417\n",
       "4    1935\n",
       "2     468\n",
       "1     116\n",
       "5      99\n",
       "0       6\n",
       "Name: grade, dtype: int64"
      ]
     },
     "execution_count": 14,
     "metadata": {},
     "output_type": "execute_result"
    }
   ],
   "source": [
    "expensive['grade'].value_counts()"
   ]
  },
  {
   "cell_type": "code",
   "execution_count": 15,
   "metadata": {},
   "outputs": [
    {
     "data": {
      "text/plain": [
       "count    99.000000\n",
       "mean      1.949832\n",
       "std       0.620678\n",
       "min       1.040816\n",
       "25%       1.377551\n",
       "50%       1.887755\n",
       "75%       2.525253\n",
       "max       3.061224\n",
       "Name: ratio, dtype: float64"
      ]
     },
     "execution_count": 15,
     "metadata": {},
     "output_type": "execute_result"
    }
   ],
   "source": [
    "expensive = expensive[expensive['grade'] > 4]\n",
    "expensive['ratio'].describe()"
   ]
  },
  {
   "cell_type": "code",
   "execution_count": 16,
   "metadata": {},
   "outputs": [
    {
     "data": {
      "text/html": [
       "<div>\n",
       "<style scoped>\n",
       "    .dataframe tbody tr th:only-of-type {\n",
       "        vertical-align: middle;\n",
       "    }\n",
       "\n",
       "    .dataframe tbody tr th {\n",
       "        vertical-align: top;\n",
       "    }\n",
       "\n",
       "    .dataframe thead th {\n",
       "        text-align: right;\n",
       "    }\n",
       "</style>\n",
       "<table border=\"1\" class=\"dataframe\">\n",
       "  <thead>\n",
       "    <tr style=\"text-align: right;\">\n",
       "      <th></th>\n",
       "      <th>country</th>\n",
       "      <th>description</th>\n",
       "      <th>designation</th>\n",
       "      <th>points</th>\n",
       "      <th>price</th>\n",
       "      <th>province</th>\n",
       "      <th>region_1</th>\n",
       "      <th>region_2</th>\n",
       "      <th>taster_name</th>\n",
       "      <th>taster_twitter_handle</th>\n",
       "      <th>title</th>\n",
       "      <th>variety</th>\n",
       "      <th>winery</th>\n",
       "      <th>grade</th>\n",
       "      <th>ratio</th>\n",
       "    </tr>\n",
       "  </thead>\n",
       "  <tbody>\n",
       "    <tr>\n",
       "      <th>0</th>\n",
       "      <td>Italy</td>\n",
       "      <td>Here's a âwowâ wine on every level, with i...</td>\n",
       "      <td>Guado al Tasso</td>\n",
       "      <td>98</td>\n",
       "      <td>102.0</td>\n",
       "      <td>Tuscany</td>\n",
       "      <td>Bolgheri Superiore</td>\n",
       "      <td>NaN</td>\n",
       "      <td>NaN</td>\n",
       "      <td>NaN</td>\n",
       "      <td>Marchesi Antinori 2008 Guado al Tasso  (Bolghe...</td>\n",
       "      <td>Red Blend</td>\n",
       "      <td>Marchesi Antinori</td>\n",
       "      <td>5</td>\n",
       "      <td>1.040816</td>\n",
       "    </tr>\n",
       "    <tr>\n",
       "      <th>1</th>\n",
       "      <td>Austria</td>\n",
       "      <td>The intensity of the acidity, piercing through...</td>\n",
       "      <td>Zwischen den Steen Nummer 8 Trockenbeerenauslese</td>\n",
       "      <td>98</td>\n",
       "      <td>103.0</td>\n",
       "      <td>Burgenland</td>\n",
       "      <td>NaN</td>\n",
       "      <td>NaN</td>\n",
       "      <td>NaN</td>\n",
       "      <td>NaN</td>\n",
       "      <td>NaN</td>\n",
       "      <td>Welschriesling</td>\n",
       "      <td>Kracher</td>\n",
       "      <td>5</td>\n",
       "      <td>1.051020</td>\n",
       "    </tr>\n",
       "    <tr>\n",
       "      <th>2</th>\n",
       "      <td>US</td>\n",
       "      <td>The opulence of this sparkling wine has to be ...</td>\n",
       "      <td>Reserve</td>\n",
       "      <td>98</td>\n",
       "      <td>110.0</td>\n",
       "      <td>California</td>\n",
       "      <td>Napa-Mendocino-Sonoma-Marin</td>\n",
       "      <td>North Coast</td>\n",
       "      <td>NaN</td>\n",
       "      <td>NaN</td>\n",
       "      <td>Schramsberg 2004 Reserve Sparkling (Napa-Mendo...</td>\n",
       "      <td>Sparkling Blend</td>\n",
       "      <td>Schramsberg</td>\n",
       "      <td>5</td>\n",
       "      <td>1.122449</td>\n",
       "    </tr>\n",
       "  </tbody>\n",
       "</table>\n",
       "</div>"
      ],
      "text/plain": [
       "   country                                        description  \\\n",
       "0    Italy  Here's a âwowâ wine on every level, with i...   \n",
       "1  Austria  The intensity of the acidity, piercing through...   \n",
       "2       US  The opulence of this sparkling wine has to be ...   \n",
       "\n",
       "                                        designation  points  price  \\\n",
       "0                                    Guado al Tasso      98  102.0   \n",
       "1  Zwischen den Steen Nummer 8 Trockenbeerenauslese      98  103.0   \n",
       "2                                           Reserve      98  110.0   \n",
       "\n",
       "     province                     region_1     region_2 taster_name  \\\n",
       "0     Tuscany           Bolgheri Superiore          NaN         NaN   \n",
       "1  Burgenland                          NaN          NaN         NaN   \n",
       "2  California  Napa-Mendocino-Sonoma-Marin  North Coast         NaN   \n",
       "\n",
       "  taster_twitter_handle                                              title  \\\n",
       "0                   NaN  Marchesi Antinori 2008 Guado al Tasso  (Bolghe...   \n",
       "1                   NaN                                                NaN   \n",
       "2                   NaN  Schramsberg 2004 Reserve Sparkling (Napa-Mendo...   \n",
       "\n",
       "           variety             winery  grade     ratio  \n",
       "0        Red Blend  Marchesi Antinori      5  1.040816  \n",
       "1   Welschriesling            Kracher      5  1.051020  \n",
       "2  Sparkling Blend        Schramsberg      5  1.122449  "
      ]
     },
     "execution_count": 16,
     "metadata": {},
     "output_type": "execute_result"
    }
   ],
   "source": [
    "expensive = expensive.nsmallest(5, 'ratio').reset_index(drop=True)\n",
    "expensive = expensive.drop_duplicates('variety').reset_index(drop=True)\n",
    "expensive"
   ]
  },
  {
   "cell_type": "code",
   "execution_count": 39,
   "metadata": {},
   "outputs": [
    {
     "name": "stdout",
     "output_type": "stream",
     "text": [
      "<class 'pandas.core.frame.DataFrame'>\n",
      "RangeIndex: 44573 entries, 0 to 44572\n",
      "Data columns (total 15 columns):\n",
      "country                  44571 non-null object\n",
      "description              44573 non-null object\n",
      "designation              36962 non-null object\n",
      "points                   44573 non-null int64\n",
      "price                    44573 non-null float64\n",
      "province                 44571 non-null object\n",
      "region_1                 40466 non-null object\n",
      "region_2                 23074 non-null object\n",
      "taster_name              19691 non-null object\n",
      "taster_twitter_handle    19121 non-null object\n",
      "title                    25922 non-null object\n",
      "variety                  44573 non-null object\n",
      "winery                   44573 non-null object\n",
      "grade                    44573 non-null int64\n",
      "ratio                    44573 non-null float64\n",
      "dtypes: float64(2), int64(2), object(11)\n",
      "memory usage: 5.1+ MB\n"
     ]
    }
   ],
   "source": [
    "# Creating a dataframe for medium wines\n",
    "\n",
    "medium = df[(df['price'] > 40) & (df['price'] < 100.01)]\n",
    "medium = medium.reset_index(drop=True)\n",
    "medium.info()"
   ]
  },
  {
   "cell_type": "code",
   "execution_count": 40,
   "metadata": {},
   "outputs": [
    {
     "data": {
      "text/plain": [
       "3    25302\n",
       "2    10215\n",
       "4     5531\n",
       "1     3226\n",
       "0      239\n",
       "5       60\n",
       "Name: grade, dtype: int64"
      ]
     },
     "execution_count": 40,
     "metadata": {},
     "output_type": "execute_result"
    }
   ],
   "source": [
    "medium['grade'].value_counts()"
   ]
  },
  {
   "cell_type": "code",
   "execution_count": 41,
   "metadata": {},
   "outputs": [
    {
     "data": {
      "text/plain": [
       "count    60.000000\n",
       "mean      0.793356\n",
       "std       0.146045\n",
       "min       0.444444\n",
       "25%       0.714286\n",
       "50%       0.765306\n",
       "75%       0.923469\n",
       "max       1.020408\n",
       "Name: ratio, dtype: float64"
      ]
     },
     "execution_count": 41,
     "metadata": {},
     "output_type": "execute_result"
    }
   ],
   "source": [
    "medium = medium[medium['grade'] > 4]\n",
    "medium['ratio'].describe()"
   ]
  },
  {
   "cell_type": "code",
   "execution_count": 44,
   "metadata": {},
   "outputs": [
    {
     "data": {
      "text/html": [
       "<div>\n",
       "<style scoped>\n",
       "    .dataframe tbody tr th:only-of-type {\n",
       "        vertical-align: middle;\n",
       "    }\n",
       "\n",
       "    .dataframe tbody tr th {\n",
       "        vertical-align: top;\n",
       "    }\n",
       "\n",
       "    .dataframe thead th {\n",
       "        text-align: right;\n",
       "    }\n",
       "</style>\n",
       "<table border=\"1\" class=\"dataframe\">\n",
       "  <thead>\n",
       "    <tr style=\"text-align: right;\">\n",
       "      <th></th>\n",
       "      <th>country</th>\n",
       "      <th>description</th>\n",
       "      <th>designation</th>\n",
       "      <th>points</th>\n",
       "      <th>price</th>\n",
       "      <th>province</th>\n",
       "      <th>region_1</th>\n",
       "      <th>region_2</th>\n",
       "      <th>taster_name</th>\n",
       "      <th>taster_twitter_handle</th>\n",
       "      <th>title</th>\n",
       "      <th>variety</th>\n",
       "      <th>winery</th>\n",
       "      <th>grade</th>\n",
       "      <th>ratio</th>\n",
       "    </tr>\n",
       "  </thead>\n",
       "  <tbody>\n",
       "    <tr>\n",
       "      <th>0</th>\n",
       "      <td>US</td>\n",
       "      <td>Shows classic, full-throttle notes of tropical...</td>\n",
       "      <td>Estate Vineyard</td>\n",
       "      <td>99</td>\n",
       "      <td>44.0</td>\n",
       "      <td>California</td>\n",
       "      <td>Sonoma Coast</td>\n",
       "      <td>Sonoma</td>\n",
       "      <td>NaN</td>\n",
       "      <td>NaN</td>\n",
       "      <td>Failla 2010 Estate Vineyard Chardonnay (Sonoma...</td>\n",
       "      <td>Chardonnay</td>\n",
       "      <td>Failla</td>\n",
       "      <td>5</td>\n",
       "      <td>0.444444</td>\n",
       "    </tr>\n",
       "    <tr>\n",
       "      <th>1</th>\n",
       "      <td>US</td>\n",
       "      <td>A stunning Pirouetteâ63% Cabernet Sauvignon,...</td>\n",
       "      <td>Red Wine</td>\n",
       "      <td>98</td>\n",
       "      <td>50.0</td>\n",
       "      <td>Washington</td>\n",
       "      <td>Columbia Valley (WA)</td>\n",
       "      <td>Columbia Valley</td>\n",
       "      <td>Paul Gregutt</td>\n",
       "      <td>@paulgwineÂ</td>\n",
       "      <td>Pirouette 2008 Red Wine Red (Columbia Valley (...</td>\n",
       "      <td>Bordeaux-style Red Blend</td>\n",
       "      <td>Pirouette</td>\n",
       "      <td>5</td>\n",
       "      <td>0.510204</td>\n",
       "    </tr>\n",
       "    <tr>\n",
       "      <th>2</th>\n",
       "      <td>US</td>\n",
       "      <td>The first thoughts on this wine are how young ...</td>\n",
       "      <td>Maritime Vineyard</td>\n",
       "      <td>98</td>\n",
       "      <td>52.0</td>\n",
       "      <td>California</td>\n",
       "      <td>Sonoma Coast</td>\n",
       "      <td>Sonoma</td>\n",
       "      <td>NaN</td>\n",
       "      <td>NaN</td>\n",
       "      <td>NaN</td>\n",
       "      <td>Pinot Noir</td>\n",
       "      <td>W.H. Smith</td>\n",
       "      <td>5</td>\n",
       "      <td>0.530612</td>\n",
       "    </tr>\n",
       "  </tbody>\n",
       "</table>\n",
       "</div>"
      ],
      "text/plain": [
       "  country                                        description  \\\n",
       "0      US  Shows classic, full-throttle notes of tropical...   \n",
       "1      US  A stunning Pirouetteâ63% Cabernet Sauvignon,...   \n",
       "2      US  The first thoughts on this wine are how young ...   \n",
       "\n",
       "         designation  points  price    province              region_1  \\\n",
       "0    Estate Vineyard      99   44.0  California          Sonoma Coast   \n",
       "1           Red Wine      98   50.0  Washington  Columbia Valley (WA)   \n",
       "2  Maritime Vineyard      98   52.0  California          Sonoma Coast   \n",
       "\n",
       "          region_2   taster_name taster_twitter_handle  \\\n",
       "0           Sonoma           NaN                   NaN   \n",
       "1  Columbia Valley  Paul Gregutt          @paulgwineÂ    \n",
       "2           Sonoma           NaN                   NaN   \n",
       "\n",
       "                                               title  \\\n",
       "0  Failla 2010 Estate Vineyard Chardonnay (Sonoma...   \n",
       "1  Pirouette 2008 Red Wine Red (Columbia Valley (...   \n",
       "2                                                NaN   \n",
       "\n",
       "                    variety      winery  grade     ratio  \n",
       "0                Chardonnay      Failla      5  0.444444  \n",
       "1  Bordeaux-style Red Blend   Pirouette      5  0.510204  \n",
       "2                Pinot Noir  W.H. Smith      5  0.530612  "
      ]
     },
     "execution_count": 44,
     "metadata": {},
     "output_type": "execute_result"
    }
   ],
   "source": [
    "medium = medium.nsmallest(3, 'ratio').reset_index(drop=True)\n",
    "medium = medium.drop_duplicates('variety').reset_index(drop=True)\n",
    "medium"
   ]
  },
  {
   "cell_type": "code",
   "execution_count": 47,
   "metadata": {},
   "outputs": [
    {
     "name": "stdout",
     "output_type": "stream",
     "text": [
      "<class 'pandas.core.frame.DataFrame'>\n",
      "RangeIndex: 46110 entries, 0 to 46109\n",
      "Data columns (total 15 columns):\n",
      "country                  46090 non-null object\n",
      "description              46110 non-null object\n",
      "designation              33875 non-null object\n",
      "points                   46110 non-null int64\n",
      "price                    46110 non-null float64\n",
      "province                 46090 non-null object\n",
      "region_1                 40845 non-null object\n",
      "region_2                 25624 non-null object\n",
      "taster_name              20042 non-null object\n",
      "taster_twitter_handle    19002 non-null object\n",
      "title                    26011 non-null object\n",
      "variety                  46110 non-null object\n",
      "winery                   46110 non-null object\n",
      "grade                    46110 non-null int64\n",
      "ratio                    46110 non-null float64\n",
      "dtypes: float64(2), int64(2), object(11)\n",
      "memory usage: 5.3+ MB\n"
     ]
    }
   ],
   "source": [
    "# Creating a dataframe for low wines\n",
    "\n",
    "low = df[(df['price'] > 25) & (df['price'] < 40.01)]\n",
    "low = low.reset_index(drop=True)\n",
    "low.info()"
   ]
  },
  {
   "cell_type": "code",
   "execution_count": 48,
   "metadata": {},
   "outputs": [
    {
     "data": {
      "text/plain": [
       "3    18971\n",
       "2    16948\n",
       "1     8304\n",
       "4      978\n",
       "0      909\n",
       "Name: grade, dtype: int64"
      ]
     },
     "execution_count": 48,
     "metadata": {},
     "output_type": "execute_result"
    }
   ],
   "source": [
    "low['grade'].value_counts()"
   ]
  },
  {
   "cell_type": "code",
   "execution_count": 49,
   "metadata": {},
   "outputs": [
    {
     "data": {
      "text/plain": [
       "count    978.000000\n",
       "mean       0.375891\n",
       "std        0.042667\n",
       "min        0.273684\n",
       "25%        0.340426\n",
       "50%        0.378947\n",
       "75%        0.414894\n",
       "max        0.425532\n",
       "Name: ratio, dtype: float64"
      ]
     },
     "execution_count": 49,
     "metadata": {},
     "output_type": "execute_result"
    }
   ],
   "source": [
    "low = low[low['grade'] > 3]\n",
    "low['ratio'].describe()"
   ]
  },
  {
   "cell_type": "code",
   "execution_count": 52,
   "metadata": {},
   "outputs": [
    {
     "data": {
      "text/html": [
       "<div>\n",
       "<style scoped>\n",
       "    .dataframe tbody tr th:only-of-type {\n",
       "        vertical-align: middle;\n",
       "    }\n",
       "\n",
       "    .dataframe tbody tr th {\n",
       "        vertical-align: top;\n",
       "    }\n",
       "\n",
       "    .dataframe thead th {\n",
       "        text-align: right;\n",
       "    }\n",
       "</style>\n",
       "<table border=\"1\" class=\"dataframe\">\n",
       "  <thead>\n",
       "    <tr style=\"text-align: right;\">\n",
       "      <th></th>\n",
       "      <th>country</th>\n",
       "      <th>description</th>\n",
       "      <th>designation</th>\n",
       "      <th>points</th>\n",
       "      <th>price</th>\n",
       "      <th>province</th>\n",
       "      <th>region_1</th>\n",
       "      <th>region_2</th>\n",
       "      <th>taster_name</th>\n",
       "      <th>taster_twitter_handle</th>\n",
       "      <th>title</th>\n",
       "      <th>variety</th>\n",
       "      <th>winery</th>\n",
       "      <th>grade</th>\n",
       "      <th>ratio</th>\n",
       "    </tr>\n",
       "  </thead>\n",
       "  <tbody>\n",
       "    <tr>\n",
       "      <th>0</th>\n",
       "      <td>France</td>\n",
       "      <td>A flinty touch of promising reduction still ho...</td>\n",
       "      <td>Goldert Grand Cru</td>\n",
       "      <td>95</td>\n",
       "      <td>26.0</td>\n",
       "      <td>Alsace</td>\n",
       "      <td>Alsace</td>\n",
       "      <td>NaN</td>\n",
       "      <td>Anne KrebiehlÂ MW</td>\n",
       "      <td>@AnneInVino</td>\n",
       "      <td>Domaine Zind-Humbrecht 2015 Goldert Grand Cru ...</td>\n",
       "      <td>Muscat</td>\n",
       "      <td>Domaine Zind-Humbrecht</td>\n",
       "      <td>4</td>\n",
       "      <td>0.273684</td>\n",
       "    </tr>\n",
       "    <tr>\n",
       "      <th>1</th>\n",
       "      <td>US</td>\n",
       "      <td>Massive, opulent, oozing in pineapple crÃ©me b...</td>\n",
       "      <td>NaN</td>\n",
       "      <td>95</td>\n",
       "      <td>26.0</td>\n",
       "      <td>California</td>\n",
       "      <td>Sta. Rita Hills</td>\n",
       "      <td>Central Coast</td>\n",
       "      <td>NaN</td>\n",
       "      <td>NaN</td>\n",
       "      <td>Melville 2008 Chardonnay (Sta. Rita Hills)</td>\n",
       "      <td>Chardonnay</td>\n",
       "      <td>Melville</td>\n",
       "      <td>4</td>\n",
       "      <td>0.273684</td>\n",
       "    </tr>\n",
       "    <tr>\n",
       "      <th>2</th>\n",
       "      <td>Italy</td>\n",
       "      <td>It boasts classic varietal aromas of crushed t...</td>\n",
       "      <td>NaN</td>\n",
       "      <td>94</td>\n",
       "      <td>26.0</td>\n",
       "      <td>Northeastern Italy</td>\n",
       "      <td>Collio</td>\n",
       "      <td>NaN</td>\n",
       "      <td>Kerin OâKeefe</td>\n",
       "      <td>@kerinokeefe</td>\n",
       "      <td>Russiz Superiore 2012 Sauvignon (Collio)</td>\n",
       "      <td>Sauvignon</td>\n",
       "      <td>Russiz Superiore</td>\n",
       "      <td>4</td>\n",
       "      <td>0.276596</td>\n",
       "    </tr>\n",
       "  </tbody>\n",
       "</table>\n",
       "</div>"
      ],
      "text/plain": [
       "  country                                        description  \\\n",
       "0  France  A flinty touch of promising reduction still ho...   \n",
       "1      US  Massive, opulent, oozing in pineapple crÃ©me b...   \n",
       "2   Italy  It boasts classic varietal aromas of crushed t...   \n",
       "\n",
       "         designation  points  price            province         region_1  \\\n",
       "0  Goldert Grand Cru      95   26.0              Alsace           Alsace   \n",
       "1                NaN      95   26.0          California  Sta. Rita Hills   \n",
       "2                NaN      94   26.0  Northeastern Italy           Collio   \n",
       "\n",
       "        region_2        taster_name taster_twitter_handle  \\\n",
       "0            NaN  Anne KrebiehlÂ MW           @AnneInVino   \n",
       "1  Central Coast                NaN                   NaN   \n",
       "2            NaN    Kerin OâKeefe          @kerinokeefe   \n",
       "\n",
       "                                               title     variety  \\\n",
       "0  Domaine Zind-Humbrecht 2015 Goldert Grand Cru ...      Muscat   \n",
       "1         Melville 2008 Chardonnay (Sta. Rita Hills)  Chardonnay   \n",
       "2           Russiz Superiore 2012 Sauvignon (Collio)   Sauvignon   \n",
       "\n",
       "                   winery  grade     ratio  \n",
       "0  Domaine Zind-Humbrecht      4  0.273684  \n",
       "1                Melville      4  0.273684  \n",
       "2        Russiz Superiore      4  0.276596  "
      ]
     },
     "execution_count": 52,
     "metadata": {},
     "output_type": "execute_result"
    }
   ],
   "source": [
    "low = low.nsmallest(3, 'ratio').reset_index(drop=True)\n",
    "low = low.drop_duplicates('variety').reset_index(drop=True)\n",
    "low"
   ]
  },
  {
   "cell_type": "code",
   "execution_count": 25,
   "metadata": {},
   "outputs": [
    {
     "name": "stdout",
     "output_type": "stream",
     "text": [
      "<class 'pandas.core.frame.DataFrame'>\n",
      "RangeIndex: 104475 entries, 0 to 104474\n",
      "Data columns (total 15 columns):\n",
      "country                  104439 non-null object\n",
      "description              104475 non-null object\n",
      "designation              65706 non-null object\n",
      "points                   104475 non-null int64\n",
      "price                    104475 non-null float64\n",
      "province                 104439 non-null object\n",
      "region_1                 81776 non-null object\n",
      "region_2                 35547 non-null object\n",
      "taster_name              46029 non-null object\n",
      "taster_twitter_handle    43229 non-null object\n",
      "title                    56431 non-null object\n",
      "variety                  104474 non-null object\n",
      "winery                   104475 non-null object\n",
      "grade                    104475 non-null int64\n",
      "ratio                    104475 non-null float64\n",
      "dtypes: float64(2), int64(2), object(11)\n",
      "memory usage: 12.0+ MB\n"
     ]
    }
   ],
   "source": [
    "# Creating a dataframe for cheap wines\n",
    "\n",
    "cheap = df[(df['price'] > 0) & (df['price'] < 25.01)]\n",
    "cheap = cheap.reset_index(drop=True)\n",
    "cheap.info()"
   ]
  },
  {
   "cell_type": "code",
   "execution_count": 26,
   "metadata": {},
   "outputs": [
    {
     "data": {
      "text/plain": [
       "1    42977\n",
       "2    40961\n",
       "3    14805\n",
       "0     5569\n",
       "4      163\n",
       "Name: grade, dtype: int64"
      ]
     },
     "execution_count": 26,
     "metadata": {},
     "output_type": "execute_result"
    }
   ],
   "source": [
    "cheap['grade'].value_counts()"
   ]
  },
  {
   "cell_type": "code",
   "execution_count": 27,
   "metadata": {},
   "outputs": [
    {
     "data": {
      "text/plain": [
       "count    163.000000\n",
       "mean       0.237411\n",
       "std        0.028919\n",
       "min        0.138298\n",
       "25%        0.212766\n",
       "50%        0.252632\n",
       "75%        0.263158\n",
       "max        0.265957\n",
       "Name: ratio, dtype: float64"
      ]
     },
     "execution_count": 27,
     "metadata": {},
     "output_type": "execute_result"
    }
   ],
   "source": [
    "cheap = cheap[cheap['grade'] > 3]\n",
    "cheap['ratio'].describe()"
   ]
  },
  {
   "cell_type": "code",
   "execution_count": 28,
   "metadata": {},
   "outputs": [
    {
     "data": {
      "text/html": [
       "<div>\n",
       "<style scoped>\n",
       "    .dataframe tbody tr th:only-of-type {\n",
       "        vertical-align: middle;\n",
       "    }\n",
       "\n",
       "    .dataframe tbody tr th {\n",
       "        vertical-align: top;\n",
       "    }\n",
       "\n",
       "    .dataframe thead th {\n",
       "        text-align: right;\n",
       "    }\n",
       "</style>\n",
       "<table border=\"1\" class=\"dataframe\">\n",
       "  <thead>\n",
       "    <tr style=\"text-align: right;\">\n",
       "      <th></th>\n",
       "      <th>country</th>\n",
       "      <th>description</th>\n",
       "      <th>designation</th>\n",
       "      <th>points</th>\n",
       "      <th>price</th>\n",
       "      <th>province</th>\n",
       "      <th>region_1</th>\n",
       "      <th>region_2</th>\n",
       "      <th>taster_name</th>\n",
       "      <th>taster_twitter_handle</th>\n",
       "      <th>title</th>\n",
       "      <th>variety</th>\n",
       "      <th>winery</th>\n",
       "      <th>grade</th>\n",
       "      <th>ratio</th>\n",
       "    </tr>\n",
       "  </thead>\n",
       "  <tbody>\n",
       "    <tr>\n",
       "      <th>0</th>\n",
       "      <td>Portugal</td>\n",
       "      <td>Assobio is from a single vineyard in the Quint...</td>\n",
       "      <td>Assobio</td>\n",
       "      <td>94</td>\n",
       "      <td>13.0</td>\n",
       "      <td>Douro</td>\n",
       "      <td>NaN</td>\n",
       "      <td>NaN</td>\n",
       "      <td>Roger Voss</td>\n",
       "      <td>@vossroger</td>\n",
       "      <td>Quinta dos MurÃ§as 2011 Assobio Red (Douro)</td>\n",
       "      <td>Portuguese Red</td>\n",
       "      <td>Quinta dos MurÃ§as</td>\n",
       "      <td>4</td>\n",
       "      <td>0.138298</td>\n",
       "    </tr>\n",
       "    <tr>\n",
       "      <th>1</th>\n",
       "      <td>Spain</td>\n",
       "      <td>A spectacularly sweet and rich bruiser, and on...</td>\n",
       "      <td>Pedro Ximenez 1827 Sweet Sherry</td>\n",
       "      <td>94</td>\n",
       "      <td>14.0</td>\n",
       "      <td>Andalucia</td>\n",
       "      <td>Jerez</td>\n",
       "      <td>NaN</td>\n",
       "      <td>Michael Schachner</td>\n",
       "      <td>@wineschach</td>\n",
       "      <td>Osborne NV Pedro Ximenez 1827 Sweet Sherry She...</td>\n",
       "      <td>Sherry</td>\n",
       "      <td>Osborne</td>\n",
       "      <td>4</td>\n",
       "      <td>0.148936</td>\n",
       "    </tr>\n",
       "    <tr>\n",
       "      <th>2</th>\n",
       "      <td>Spain</td>\n",
       "      <td>This reserve-level P.X. sets the gold standard...</td>\n",
       "      <td>Cardenal Cisneros Reservas</td>\n",
       "      <td>94</td>\n",
       "      <td>15.0</td>\n",
       "      <td>Andalucia</td>\n",
       "      <td>Jerez</td>\n",
       "      <td>NaN</td>\n",
       "      <td>NaN</td>\n",
       "      <td>NaN</td>\n",
       "      <td>NaN</td>\n",
       "      <td>Pedro XimÃ©nez</td>\n",
       "      <td>Sanchez Romate</td>\n",
       "      <td>4</td>\n",
       "      <td>0.159574</td>\n",
       "    </tr>\n",
       "  </tbody>\n",
       "</table>\n",
       "</div>"
      ],
      "text/plain": [
       "    country                                        description  \\\n",
       "0  Portugal  Assobio is from a single vineyard in the Quint...   \n",
       "1     Spain  A spectacularly sweet and rich bruiser, and on...   \n",
       "2     Spain  This reserve-level P.X. sets the gold standard...   \n",
       "\n",
       "                       designation  points  price   province region_1  \\\n",
       "0                          Assobio      94   13.0      Douro      NaN   \n",
       "1  Pedro Ximenez 1827 Sweet Sherry      94   14.0  Andalucia    Jerez   \n",
       "2       Cardenal Cisneros Reservas      94   15.0  Andalucia    Jerez   \n",
       "\n",
       "  region_2        taster_name taster_twitter_handle  \\\n",
       "0      NaN         Roger Voss            @vossroger   \n",
       "1      NaN  Michael Schachner           @wineschach   \n",
       "2      NaN                NaN                   NaN   \n",
       "\n",
       "                                               title         variety  \\\n",
       "0        Quinta dos MurÃ§as 2011 Assobio Red (Douro)  Portuguese Red   \n",
       "1  Osborne NV Pedro Ximenez 1827 Sweet Sherry She...          Sherry   \n",
       "2                                                NaN  Pedro XimÃ©nez   \n",
       "\n",
       "               winery  grade     ratio  \n",
       "0  Quinta dos MurÃ§as      4  0.138298  \n",
       "1             Osborne      4  0.148936  \n",
       "2      Sanchez Romate      4  0.159574  "
      ]
     },
     "execution_count": 28,
     "metadata": {},
     "output_type": "execute_result"
    }
   ],
   "source": [
    "cheap = cheap.nsmallest(3, 'ratio').reset_index(drop=True)\n",
    "cheap = cheap.drop_duplicates('variety').reset_index(drop=True)\n",
    "cheap"
   ]
  },
  {
   "cell_type": "code",
   "execution_count": 72,
   "metadata": {},
   "outputs": [],
   "source": [
    "# Some stupid moves, sorry\n",
    "\n",
    "luxury['category'] = 'luxury'\n",
    "very_expensive['category'] = 'very_expensive'\n",
    "expensive['category'] = 'expensive'"
   ]
  },
  {
   "cell_type": "code",
   "execution_count": 73,
   "metadata": {},
   "outputs": [],
   "source": [
    "medium['category'] = 'medium'\n",
    "low['category'] = 'low'\n",
    "cheap['category'] = 'cheap'"
   ]
  },
  {
   "cell_type": "code",
   "execution_count": 62,
   "metadata": {},
   "outputs": [
    {
     "data": {
      "text/html": [
       "<div>\n",
       "<style scoped>\n",
       "    .dataframe tbody tr th:only-of-type {\n",
       "        vertical-align: middle;\n",
       "    }\n",
       "\n",
       "    .dataframe tbody tr th {\n",
       "        vertical-align: top;\n",
       "    }\n",
       "\n",
       "    .dataframe thead th {\n",
       "        text-align: right;\n",
       "    }\n",
       "</style>\n",
       "<table border=\"1\" class=\"dataframe\">\n",
       "  <thead>\n",
       "    <tr style=\"text-align: right;\">\n",
       "      <th></th>\n",
       "      <th>country</th>\n",
       "      <th>description</th>\n",
       "      <th>designation</th>\n",
       "      <th>points</th>\n",
       "      <th>price</th>\n",
       "      <th>province</th>\n",
       "      <th>region_1</th>\n",
       "      <th>region_2</th>\n",
       "      <th>taster_name</th>\n",
       "      <th>taster_twitter_handle</th>\n",
       "      <th>title</th>\n",
       "      <th>variety</th>\n",
       "      <th>winery</th>\n",
       "      <th>grade</th>\n",
       "      <th>ratio</th>\n",
       "      <th>category</th>\n",
       "    </tr>\n",
       "  </thead>\n",
       "  <tbody>\n",
       "    <tr>\n",
       "      <th>0</th>\n",
       "      <td>France</td>\n",
       "      <td>Full of ripe fruit, opulent and concentrated, ...</td>\n",
       "      <td>NaN</td>\n",
       "      <td>100</td>\n",
       "      <td>848.0</td>\n",
       "      <td>Bordeaux</td>\n",
       "      <td>Pessac La ognan Bordeaux</td>\n",
       "      <td>NaN</td>\n",
       "      <td>Roger Voss</td>\n",
       "      <td>@vossroger</td>\n",
       "      <td>ChÃ¢teau Haut-Brion 2014  Pessac-LÃ©ognan</td>\n",
       "      <td>Bordeaux-style White Blend</td>\n",
       "      <td>Chateau Haut-Brion</td>\n",
       "      <td>5</td>\n",
       "      <td>8.480000</td>\n",
       "      <td>luxury</td>\n",
       "    </tr>\n",
       "    <tr>\n",
       "      <th>2</th>\n",
       "      <td>Australia</td>\n",
       "      <td>This inky, embryonic wine deserves to be cella...</td>\n",
       "      <td>Grange</td>\n",
       "      <td>99</td>\n",
       "      <td>850.0</td>\n",
       "      <td>South Australia</td>\n",
       "      <td>South Australia</td>\n",
       "      <td>NaN</td>\n",
       "      <td>Joe Czerwinski</td>\n",
       "      <td>@JoeCz</td>\n",
       "      <td>Penfolds 2010 Grange Shiraz (South Australia)</td>\n",
       "      <td>Shiraz</td>\n",
       "      <td>Penfolds</td>\n",
       "      <td>5</td>\n",
       "      <td>8.585859</td>\n",
       "      <td>luxury</td>\n",
       "    </tr>\n",
       "    <tr>\n",
       "      <th>5</th>\n",
       "      <td>France</td>\n",
       "      <td>A wine that has created its own universe. It h...</td>\n",
       "      <td>Clos du Mesnil</td>\n",
       "      <td>100</td>\n",
       "      <td>1400.0</td>\n",
       "      <td>Champagne</td>\n",
       "      <td>Champagne</td>\n",
       "      <td>NaN</td>\n",
       "      <td>NaN</td>\n",
       "      <td>NaN</td>\n",
       "      <td>NaN</td>\n",
       "      <td>Chardonnay</td>\n",
       "      <td>Krug</td>\n",
       "      <td>5</td>\n",
       "      <td>14.000000</td>\n",
       "      <td>luxury</td>\n",
       "    </tr>\n",
       "  </tbody>\n",
       "</table>\n",
       "</div>"
      ],
      "text/plain": [
       "     country                                        description  \\\n",
       "0     France  Full of ripe fruit, opulent and concentrated, ...   \n",
       "2  Australia  This inky, embryonic wine deserves to be cella...   \n",
       "5     France  A wine that has created its own universe. It h...   \n",
       "\n",
       "      designation  points   price         province                  region_1  \\\n",
       "0             NaN     100   848.0         Bordeaux  Pessac La ognan Bordeaux   \n",
       "2          Grange      99   850.0  South Australia           South Australia   \n",
       "5  Clos du Mesnil     100  1400.0        Champagne                 Champagne   \n",
       "\n",
       "   region_2     taster_name taster_twitter_handle  \\\n",
       "0       NaN      Roger Voss            @vossroger   \n",
       "2       NaN  Joe Czerwinski                @JoeCz   \n",
       "5       NaN             NaN                   NaN   \n",
       "\n",
       "                                           title                     variety  \\\n",
       "0      ChÃ¢teau Haut-Brion 2014  Pessac-LÃ©ognan  Bordeaux-style White Blend   \n",
       "2  Penfolds 2010 Grange Shiraz (South Australia)                      Shiraz   \n",
       "5                                            NaN                  Chardonnay   \n",
       "\n",
       "               winery  grade      ratio category  \n",
       "0  Chateau Haut-Brion      5   8.480000   luxury  \n",
       "2            Penfolds      5   8.585859   luxury  \n",
       "5                Krug      5  14.000000   luxury  "
      ]
     },
     "execution_count": 62,
     "metadata": {},
     "output_type": "execute_result"
    }
   ],
   "source": [
    "luxury"
   ]
  },
  {
   "cell_type": "code",
   "execution_count": 61,
   "metadata": {},
   "outputs": [],
   "source": [
    "luxury = luxury.replace('ChÃ¢teau Haut-Brion', 'Chateau Haut-Brion')\n",
    "luxury = luxury.replace('Pessac-LÃ©ognan','Pessac La ognan Bordeaux')"
   ]
  },
  {
   "cell_type": "code",
   "execution_count": 34,
   "metadata": {},
   "outputs": [
    {
     "data": {
      "text/html": [
       "<div>\n",
       "<style scoped>\n",
       "    .dataframe tbody tr th:only-of-type {\n",
       "        vertical-align: middle;\n",
       "    }\n",
       "\n",
       "    .dataframe tbody tr th {\n",
       "        vertical-align: top;\n",
       "    }\n",
       "\n",
       "    .dataframe thead th {\n",
       "        text-align: right;\n",
       "    }\n",
       "</style>\n",
       "<table border=\"1\" class=\"dataframe\">\n",
       "  <thead>\n",
       "    <tr style=\"text-align: right;\">\n",
       "      <th></th>\n",
       "      <th>country</th>\n",
       "      <th>description</th>\n",
       "      <th>designation</th>\n",
       "      <th>points</th>\n",
       "      <th>price</th>\n",
       "      <th>province</th>\n",
       "      <th>region_1</th>\n",
       "      <th>region_2</th>\n",
       "      <th>taster_name</th>\n",
       "      <th>taster_twitter_handle</th>\n",
       "      <th>title</th>\n",
       "      <th>variety</th>\n",
       "      <th>winery</th>\n",
       "      <th>grade</th>\n",
       "      <th>ratio</th>\n",
       "      <th>category</th>\n",
       "    </tr>\n",
       "  </thead>\n",
       "  <tbody>\n",
       "    <tr>\n",
       "      <th>0</th>\n",
       "      <td>France</td>\n",
       "      <td>With its gold color and mature, toasty flavors...</td>\n",
       "      <td>CuvÃ©e Sir Winston Churchill Brut</td>\n",
       "      <td>98</td>\n",
       "      <td>305.0</td>\n",
       "      <td>Champagne</td>\n",
       "      <td>Champagne</td>\n",
       "      <td>NaN</td>\n",
       "      <td>Roger Voss</td>\n",
       "      <td>@vossroger</td>\n",
       "      <td>Pol Roger 2002 CuvÃ©e Sir Winston Churchill Br...</td>\n",
       "      <td>Champagne Blend</td>\n",
       "      <td>Pol Roger</td>\n",
       "      <td>5</td>\n",
       "      <td>3.112245</td>\n",
       "      <td>very_expensive</td>\n",
       "    </tr>\n",
       "    <tr>\n",
       "      <th>1</th>\n",
       "      <td>Italy</td>\n",
       "      <td>Here's a âwowâ wine you won't easily forge...</td>\n",
       "      <td>Messorio</td>\n",
       "      <td>99</td>\n",
       "      <td>320.0</td>\n",
       "      <td>Tuscany</td>\n",
       "      <td>Toscana</td>\n",
       "      <td>NaN</td>\n",
       "      <td>NaN</td>\n",
       "      <td>NaN</td>\n",
       "      <td>Le Macchiole 2007 Messorio Merlot (Toscana)</td>\n",
       "      <td>Merlot</td>\n",
       "      <td>Le Macchiole</td>\n",
       "      <td>5</td>\n",
       "      <td>3.232323</td>\n",
       "      <td>very_expensive</td>\n",
       "    </tr>\n",
       "    <tr>\n",
       "      <th>2</th>\n",
       "      <td>France</td>\n",
       "      <td>A beautiful wine, smooth, polished, with round...</td>\n",
       "      <td>NaN</td>\n",
       "      <td>98</td>\n",
       "      <td>319.0</td>\n",
       "      <td>Burgundy</td>\n",
       "      <td>Clos de Tart</td>\n",
       "      <td>NaN</td>\n",
       "      <td>Roger Voss</td>\n",
       "      <td>@vossroger</td>\n",
       "      <td>Clos de Tart 2005  Clos de Tart</td>\n",
       "      <td>Pinot Noir</td>\n",
       "      <td>Clos de Tart</td>\n",
       "      <td>5</td>\n",
       "      <td>3.255102</td>\n",
       "      <td>very_expensive</td>\n",
       "    </tr>\n",
       "  </tbody>\n",
       "</table>\n",
       "</div>"
      ],
      "text/plain": [
       "  country                                        description  \\\n",
       "0  France  With its gold color and mature, toasty flavors...   \n",
       "1   Italy  Here's a âwowâ wine you won't easily forge...   \n",
       "2  France  A beautiful wine, smooth, polished, with round...   \n",
       "\n",
       "                         designation  points  price   province      region_1  \\\n",
       "0  CuvÃ©e Sir Winston Churchill Brut      98  305.0  Champagne     Champagne   \n",
       "1                           Messorio      99  320.0    Tuscany       Toscana   \n",
       "2                                NaN      98  319.0   Burgundy  Clos de Tart   \n",
       "\n",
       "  region_2 taster_name taster_twitter_handle  \\\n",
       "0      NaN  Roger Voss            @vossroger   \n",
       "1      NaN         NaN                   NaN   \n",
       "2      NaN  Roger Voss            @vossroger   \n",
       "\n",
       "                                               title          variety  \\\n",
       "0  Pol Roger 2002 CuvÃ©e Sir Winston Churchill Br...  Champagne Blend   \n",
       "1        Le Macchiole 2007 Messorio Merlot (Toscana)           Merlot   \n",
       "2                    Clos de Tart 2005  Clos de Tart       Pinot Noir   \n",
       "\n",
       "         winery  grade     ratio        category  \n",
       "0     Pol Roger      5  3.112245  very_expensive  \n",
       "1  Le Macchiole      5  3.232323  very_expensive  \n",
       "2  Clos de Tart      5  3.255102  very_expensive  "
      ]
     },
     "execution_count": 34,
     "metadata": {},
     "output_type": "execute_result"
    }
   ],
   "source": [
    "very_expensive"
   ]
  },
  {
   "cell_type": "code",
   "execution_count": 35,
   "metadata": {},
   "outputs": [
    {
     "data": {
      "text/html": [
       "<div>\n",
       "<style scoped>\n",
       "    .dataframe tbody tr th:only-of-type {\n",
       "        vertical-align: middle;\n",
       "    }\n",
       "\n",
       "    .dataframe tbody tr th {\n",
       "        vertical-align: top;\n",
       "    }\n",
       "\n",
       "    .dataframe thead th {\n",
       "        text-align: right;\n",
       "    }\n",
       "</style>\n",
       "<table border=\"1\" class=\"dataframe\">\n",
       "  <thead>\n",
       "    <tr style=\"text-align: right;\">\n",
       "      <th></th>\n",
       "      <th>country</th>\n",
       "      <th>description</th>\n",
       "      <th>designation</th>\n",
       "      <th>points</th>\n",
       "      <th>price</th>\n",
       "      <th>province</th>\n",
       "      <th>region_1</th>\n",
       "      <th>region_2</th>\n",
       "      <th>taster_name</th>\n",
       "      <th>taster_twitter_handle</th>\n",
       "      <th>title</th>\n",
       "      <th>variety</th>\n",
       "      <th>winery</th>\n",
       "      <th>grade</th>\n",
       "      <th>ratio</th>\n",
       "      <th>category</th>\n",
       "    </tr>\n",
       "  </thead>\n",
       "  <tbody>\n",
       "    <tr>\n",
       "      <th>0</th>\n",
       "      <td>Italy</td>\n",
       "      <td>Here's a âwowâ wine on every level, with i...</td>\n",
       "      <td>Guado al Tasso</td>\n",
       "      <td>98</td>\n",
       "      <td>102.0</td>\n",
       "      <td>Tuscany</td>\n",
       "      <td>Bolgheri Superiore</td>\n",
       "      <td>NaN</td>\n",
       "      <td>NaN</td>\n",
       "      <td>NaN</td>\n",
       "      <td>Marchesi Antinori 2008 Guado al Tasso  (Bolghe...</td>\n",
       "      <td>Red Blend</td>\n",
       "      <td>Marchesi Antinori</td>\n",
       "      <td>5</td>\n",
       "      <td>1.040816</td>\n",
       "      <td>expensive</td>\n",
       "    </tr>\n",
       "    <tr>\n",
       "      <th>1</th>\n",
       "      <td>Austria</td>\n",
       "      <td>The intensity of the acidity, piercing through...</td>\n",
       "      <td>Zwischen den Steen Nummer 8 Trockenbeerenauslese</td>\n",
       "      <td>98</td>\n",
       "      <td>103.0</td>\n",
       "      <td>Burgenland</td>\n",
       "      <td>NaN</td>\n",
       "      <td>NaN</td>\n",
       "      <td>NaN</td>\n",
       "      <td>NaN</td>\n",
       "      <td>NaN</td>\n",
       "      <td>Welschriesling</td>\n",
       "      <td>Kracher</td>\n",
       "      <td>5</td>\n",
       "      <td>1.051020</td>\n",
       "      <td>expensive</td>\n",
       "    </tr>\n",
       "    <tr>\n",
       "      <th>2</th>\n",
       "      <td>US</td>\n",
       "      <td>The opulence of this sparkling wine has to be ...</td>\n",
       "      <td>Reserve</td>\n",
       "      <td>98</td>\n",
       "      <td>110.0</td>\n",
       "      <td>California</td>\n",
       "      <td>Napa-Mendocino-Sonoma-Marin</td>\n",
       "      <td>North Coast</td>\n",
       "      <td>NaN</td>\n",
       "      <td>NaN</td>\n",
       "      <td>Schramsberg 2004 Reserve Sparkling (Napa-Mendo...</td>\n",
       "      <td>Sparkling Blend</td>\n",
       "      <td>Schramsberg</td>\n",
       "      <td>5</td>\n",
       "      <td>1.122449</td>\n",
       "      <td>expensive</td>\n",
       "    </tr>\n",
       "  </tbody>\n",
       "</table>\n",
       "</div>"
      ],
      "text/plain": [
       "   country                                        description  \\\n",
       "0    Italy  Here's a âwowâ wine on every level, with i...   \n",
       "1  Austria  The intensity of the acidity, piercing through...   \n",
       "2       US  The opulence of this sparkling wine has to be ...   \n",
       "\n",
       "                                        designation  points  price  \\\n",
       "0                                    Guado al Tasso      98  102.0   \n",
       "1  Zwischen den Steen Nummer 8 Trockenbeerenauslese      98  103.0   \n",
       "2                                           Reserve      98  110.0   \n",
       "\n",
       "     province                     region_1     region_2 taster_name  \\\n",
       "0     Tuscany           Bolgheri Superiore          NaN         NaN   \n",
       "1  Burgenland                          NaN          NaN         NaN   \n",
       "2  California  Napa-Mendocino-Sonoma-Marin  North Coast         NaN   \n",
       "\n",
       "  taster_twitter_handle                                              title  \\\n",
       "0                   NaN  Marchesi Antinori 2008 Guado al Tasso  (Bolghe...   \n",
       "1                   NaN                                                NaN   \n",
       "2                   NaN  Schramsberg 2004 Reserve Sparkling (Napa-Mendo...   \n",
       "\n",
       "           variety             winery  grade     ratio   category  \n",
       "0        Red Blend  Marchesi Antinori      5  1.040816  expensive  \n",
       "1   Welschriesling            Kracher      5  1.051020  expensive  \n",
       "2  Sparkling Blend        Schramsberg      5  1.122449  expensive  "
      ]
     },
     "execution_count": 35,
     "metadata": {},
     "output_type": "execute_result"
    }
   ],
   "source": [
    "expensive"
   ]
  },
  {
   "cell_type": "code",
   "execution_count": 74,
   "metadata": {},
   "outputs": [
    {
     "data": {
      "text/html": [
       "<div>\n",
       "<style scoped>\n",
       "    .dataframe tbody tr th:only-of-type {\n",
       "        vertical-align: middle;\n",
       "    }\n",
       "\n",
       "    .dataframe tbody tr th {\n",
       "        vertical-align: top;\n",
       "    }\n",
       "\n",
       "    .dataframe thead th {\n",
       "        text-align: right;\n",
       "    }\n",
       "</style>\n",
       "<table border=\"1\" class=\"dataframe\">\n",
       "  <thead>\n",
       "    <tr style=\"text-align: right;\">\n",
       "      <th></th>\n",
       "      <th>country</th>\n",
       "      <th>description</th>\n",
       "      <th>designation</th>\n",
       "      <th>points</th>\n",
       "      <th>price</th>\n",
       "      <th>province</th>\n",
       "      <th>region_1</th>\n",
       "      <th>region_2</th>\n",
       "      <th>taster_name</th>\n",
       "      <th>taster_twitter_handle</th>\n",
       "      <th>title</th>\n",
       "      <th>variety</th>\n",
       "      <th>winery</th>\n",
       "      <th>grade</th>\n",
       "      <th>ratio</th>\n",
       "      <th>category</th>\n",
       "    </tr>\n",
       "  </thead>\n",
       "  <tbody>\n",
       "    <tr>\n",
       "      <th>0</th>\n",
       "      <td>US</td>\n",
       "      <td>Shows classic, full-throttle notes of tropical...</td>\n",
       "      <td>Estate Vineyard</td>\n",
       "      <td>99</td>\n",
       "      <td>44.0</td>\n",
       "      <td>California</td>\n",
       "      <td>Sonoma Coast</td>\n",
       "      <td>Sonoma</td>\n",
       "      <td>NaN</td>\n",
       "      <td>NaN</td>\n",
       "      <td>Failla 2010 Estate Vineyard Chardonnay (Sonoma...</td>\n",
       "      <td>Chardonnay</td>\n",
       "      <td>Failla</td>\n",
       "      <td>5</td>\n",
       "      <td>0.444444</td>\n",
       "      <td>medium</td>\n",
       "    </tr>\n",
       "    <tr>\n",
       "      <th>1</th>\n",
       "      <td>US</td>\n",
       "      <td>A stunning Pirouetteâ63% Cabernet Sauvignon,...</td>\n",
       "      <td>Red Wine</td>\n",
       "      <td>98</td>\n",
       "      <td>50.0</td>\n",
       "      <td>Washington</td>\n",
       "      <td>Columbia Valley (WA)</td>\n",
       "      <td>Columbia Valley</td>\n",
       "      <td>Paul Gregutt</td>\n",
       "      <td>@paulgwineÂ</td>\n",
       "      <td>Pirouette 2008 Red Wine Red (Columbia Valley (...</td>\n",
       "      <td>Bordeaux-style Red Blend</td>\n",
       "      <td>Pirouette</td>\n",
       "      <td>5</td>\n",
       "      <td>0.510204</td>\n",
       "      <td>medium</td>\n",
       "    </tr>\n",
       "    <tr>\n",
       "      <th>2</th>\n",
       "      <td>US</td>\n",
       "      <td>The first thoughts on this wine are how young ...</td>\n",
       "      <td>Maritime Vineyard</td>\n",
       "      <td>98</td>\n",
       "      <td>52.0</td>\n",
       "      <td>California</td>\n",
       "      <td>Sonoma Coast</td>\n",
       "      <td>Sonoma</td>\n",
       "      <td>NaN</td>\n",
       "      <td>NaN</td>\n",
       "      <td>NaN</td>\n",
       "      <td>Pinot Noir</td>\n",
       "      <td>W.H. Smith</td>\n",
       "      <td>5</td>\n",
       "      <td>0.530612</td>\n",
       "      <td>medium</td>\n",
       "    </tr>\n",
       "  </tbody>\n",
       "</table>\n",
       "</div>"
      ],
      "text/plain": [
       "  country                                        description  \\\n",
       "0      US  Shows classic, full-throttle notes of tropical...   \n",
       "1      US  A stunning Pirouetteâ63% Cabernet Sauvignon,...   \n",
       "2      US  The first thoughts on this wine are how young ...   \n",
       "\n",
       "         designation  points  price    province              region_1  \\\n",
       "0    Estate Vineyard      99   44.0  California          Sonoma Coast   \n",
       "1           Red Wine      98   50.0  Washington  Columbia Valley (WA)   \n",
       "2  Maritime Vineyard      98   52.0  California          Sonoma Coast   \n",
       "\n",
       "          region_2   taster_name taster_twitter_handle  \\\n",
       "0           Sonoma           NaN                   NaN   \n",
       "1  Columbia Valley  Paul Gregutt          @paulgwineÂ    \n",
       "2           Sonoma           NaN                   NaN   \n",
       "\n",
       "                                               title  \\\n",
       "0  Failla 2010 Estate Vineyard Chardonnay (Sonoma...   \n",
       "1  Pirouette 2008 Red Wine Red (Columbia Valley (...   \n",
       "2                                                NaN   \n",
       "\n",
       "                    variety      winery  grade     ratio category  \n",
       "0                Chardonnay      Failla      5  0.444444   medium  \n",
       "1  Bordeaux-style Red Blend   Pirouette      5  0.510204   medium  \n",
       "2                Pinot Noir  W.H. Smith      5  0.530612   medium  "
      ]
     },
     "execution_count": 74,
     "metadata": {},
     "output_type": "execute_result"
    }
   ],
   "source": [
    "medium"
   ]
  },
  {
   "cell_type": "code",
   "execution_count": 75,
   "metadata": {},
   "outputs": [
    {
     "data": {
      "text/html": [
       "<div>\n",
       "<style scoped>\n",
       "    .dataframe tbody tr th:only-of-type {\n",
       "        vertical-align: middle;\n",
       "    }\n",
       "\n",
       "    .dataframe tbody tr th {\n",
       "        vertical-align: top;\n",
       "    }\n",
       "\n",
       "    .dataframe thead th {\n",
       "        text-align: right;\n",
       "    }\n",
       "</style>\n",
       "<table border=\"1\" class=\"dataframe\">\n",
       "  <thead>\n",
       "    <tr style=\"text-align: right;\">\n",
       "      <th></th>\n",
       "      <th>country</th>\n",
       "      <th>description</th>\n",
       "      <th>designation</th>\n",
       "      <th>points</th>\n",
       "      <th>price</th>\n",
       "      <th>province</th>\n",
       "      <th>region_1</th>\n",
       "      <th>region_2</th>\n",
       "      <th>taster_name</th>\n",
       "      <th>taster_twitter_handle</th>\n",
       "      <th>title</th>\n",
       "      <th>variety</th>\n",
       "      <th>winery</th>\n",
       "      <th>grade</th>\n",
       "      <th>ratio</th>\n",
       "      <th>category</th>\n",
       "    </tr>\n",
       "  </thead>\n",
       "  <tbody>\n",
       "    <tr>\n",
       "      <th>0</th>\n",
       "      <td>France</td>\n",
       "      <td>A flinty touch of promising reduction still ho...</td>\n",
       "      <td>Goldert Grand Cru</td>\n",
       "      <td>95</td>\n",
       "      <td>26.0</td>\n",
       "      <td>Alsace</td>\n",
       "      <td>Alsace</td>\n",
       "      <td>NaN</td>\n",
       "      <td>Anne KrebiehlÂ MW</td>\n",
       "      <td>@AnneInVino</td>\n",
       "      <td>Domaine Zind-Humbrecht 2015 Goldert Grand Cru ...</td>\n",
       "      <td>Muscat</td>\n",
       "      <td>Domaine Zind-Humbrecht</td>\n",
       "      <td>4</td>\n",
       "      <td>0.273684</td>\n",
       "      <td>low</td>\n",
       "    </tr>\n",
       "    <tr>\n",
       "      <th>1</th>\n",
       "      <td>US</td>\n",
       "      <td>Massive, opulent, oozing in pineapple crÃ©me b...</td>\n",
       "      <td>NaN</td>\n",
       "      <td>95</td>\n",
       "      <td>26.0</td>\n",
       "      <td>California</td>\n",
       "      <td>Sta. Rita Hills</td>\n",
       "      <td>Central Coast</td>\n",
       "      <td>NaN</td>\n",
       "      <td>NaN</td>\n",
       "      <td>Melville 2008 Chardonnay (Sta. Rita Hills)</td>\n",
       "      <td>Chardonnay</td>\n",
       "      <td>Melville</td>\n",
       "      <td>4</td>\n",
       "      <td>0.273684</td>\n",
       "      <td>low</td>\n",
       "    </tr>\n",
       "    <tr>\n",
       "      <th>2</th>\n",
       "      <td>Italy</td>\n",
       "      <td>It boasts classic varietal aromas of crushed t...</td>\n",
       "      <td>NaN</td>\n",
       "      <td>94</td>\n",
       "      <td>26.0</td>\n",
       "      <td>Northeastern Italy</td>\n",
       "      <td>Collio</td>\n",
       "      <td>NaN</td>\n",
       "      <td>Kerin OâKeefe</td>\n",
       "      <td>@kerinokeefe</td>\n",
       "      <td>Russiz Superiore 2012 Sauvignon (Collio)</td>\n",
       "      <td>Sauvignon</td>\n",
       "      <td>Russiz Superiore</td>\n",
       "      <td>4</td>\n",
       "      <td>0.276596</td>\n",
       "      <td>low</td>\n",
       "    </tr>\n",
       "  </tbody>\n",
       "</table>\n",
       "</div>"
      ],
      "text/plain": [
       "  country                                        description  \\\n",
       "0  France  A flinty touch of promising reduction still ho...   \n",
       "1      US  Massive, opulent, oozing in pineapple crÃ©me b...   \n",
       "2   Italy  It boasts classic varietal aromas of crushed t...   \n",
       "\n",
       "         designation  points  price            province         region_1  \\\n",
       "0  Goldert Grand Cru      95   26.0              Alsace           Alsace   \n",
       "1                NaN      95   26.0          California  Sta. Rita Hills   \n",
       "2                NaN      94   26.0  Northeastern Italy           Collio   \n",
       "\n",
       "        region_2        taster_name taster_twitter_handle  \\\n",
       "0            NaN  Anne KrebiehlÂ MW           @AnneInVino   \n",
       "1  Central Coast                NaN                   NaN   \n",
       "2            NaN    Kerin OâKeefe          @kerinokeefe   \n",
       "\n",
       "                                               title     variety  \\\n",
       "0  Domaine Zind-Humbrecht 2015 Goldert Grand Cru ...      Muscat   \n",
       "1         Melville 2008 Chardonnay (Sta. Rita Hills)  Chardonnay   \n",
       "2           Russiz Superiore 2012 Sauvignon (Collio)   Sauvignon   \n",
       "\n",
       "                   winery  grade     ratio category  \n",
       "0  Domaine Zind-Humbrecht      4  0.273684      low  \n",
       "1                Melville      4  0.273684      low  \n",
       "2        Russiz Superiore      4  0.276596      low  "
      ]
     },
     "execution_count": 75,
     "metadata": {},
     "output_type": "execute_result"
    }
   ],
   "source": [
    "low"
   ]
  },
  {
   "cell_type": "code",
   "execution_count": 76,
   "metadata": {},
   "outputs": [
    {
     "data": {
      "text/html": [
       "<div>\n",
       "<style scoped>\n",
       "    .dataframe tbody tr th:only-of-type {\n",
       "        vertical-align: middle;\n",
       "    }\n",
       "\n",
       "    .dataframe tbody tr th {\n",
       "        vertical-align: top;\n",
       "    }\n",
       "\n",
       "    .dataframe thead th {\n",
       "        text-align: right;\n",
       "    }\n",
       "</style>\n",
       "<table border=\"1\" class=\"dataframe\">\n",
       "  <thead>\n",
       "    <tr style=\"text-align: right;\">\n",
       "      <th></th>\n",
       "      <th>country</th>\n",
       "      <th>description</th>\n",
       "      <th>designation</th>\n",
       "      <th>points</th>\n",
       "      <th>price</th>\n",
       "      <th>province</th>\n",
       "      <th>region_1</th>\n",
       "      <th>region_2</th>\n",
       "      <th>taster_name</th>\n",
       "      <th>taster_twitter_handle</th>\n",
       "      <th>title</th>\n",
       "      <th>variety</th>\n",
       "      <th>winery</th>\n",
       "      <th>grade</th>\n",
       "      <th>ratio</th>\n",
       "      <th>category</th>\n",
       "    </tr>\n",
       "  </thead>\n",
       "  <tbody>\n",
       "    <tr>\n",
       "      <th>0</th>\n",
       "      <td>Portugal</td>\n",
       "      <td>Assobio is from a single vineyard in the Quint...</td>\n",
       "      <td>Assobio</td>\n",
       "      <td>94</td>\n",
       "      <td>13.0</td>\n",
       "      <td>Douro</td>\n",
       "      <td>NaN</td>\n",
       "      <td>NaN</td>\n",
       "      <td>Roger Voss</td>\n",
       "      <td>@vossroger</td>\n",
       "      <td>Quinta dos Muraças 2011 Assobio Red (Douro)</td>\n",
       "      <td>Portuguese Red</td>\n",
       "      <td>Quinta dos Muraças</td>\n",
       "      <td>4</td>\n",
       "      <td>0.138298</td>\n",
       "      <td>cheap</td>\n",
       "    </tr>\n",
       "    <tr>\n",
       "      <th>1</th>\n",
       "      <td>Spain</td>\n",
       "      <td>A spectacularly sweet and rich bruiser, and on...</td>\n",
       "      <td>Pedro Ximenez 1827 Sweet Sherry</td>\n",
       "      <td>94</td>\n",
       "      <td>14.0</td>\n",
       "      <td>Andalucia</td>\n",
       "      <td>Jerez</td>\n",
       "      <td>NaN</td>\n",
       "      <td>Michael Schachner</td>\n",
       "      <td>@wineschach</td>\n",
       "      <td>Osborne NV Pedro Ximenez 1827 Sweet Sherry She...</td>\n",
       "      <td>Sherry</td>\n",
       "      <td>Osborne</td>\n",
       "      <td>4</td>\n",
       "      <td>0.148936</td>\n",
       "      <td>cheap</td>\n",
       "    </tr>\n",
       "    <tr>\n",
       "      <th>2</th>\n",
       "      <td>Spain</td>\n",
       "      <td>This reserve-level P.X. sets the gold standard...</td>\n",
       "      <td>Cardenal Cisneros Reservas</td>\n",
       "      <td>94</td>\n",
       "      <td>15.0</td>\n",
       "      <td>Andalucia</td>\n",
       "      <td>Jerez</td>\n",
       "      <td>NaN</td>\n",
       "      <td>NaN</td>\n",
       "      <td>NaN</td>\n",
       "      <td>NaN</td>\n",
       "      <td>Pedro XimÃ©nez</td>\n",
       "      <td>Sanchez Romate</td>\n",
       "      <td>4</td>\n",
       "      <td>0.159574</td>\n",
       "      <td>cheap</td>\n",
       "    </tr>\n",
       "  </tbody>\n",
       "</table>\n",
       "</div>"
      ],
      "text/plain": [
       "    country                                        description  \\\n",
       "0  Portugal  Assobio is from a single vineyard in the Quint...   \n",
       "1     Spain  A spectacularly sweet and rich bruiser, and on...   \n",
       "2     Spain  This reserve-level P.X. sets the gold standard...   \n",
       "\n",
       "                       designation  points  price   province region_1  \\\n",
       "0                          Assobio      94   13.0      Douro      NaN   \n",
       "1  Pedro Ximenez 1827 Sweet Sherry      94   14.0  Andalucia    Jerez   \n",
       "2       Cardenal Cisneros Reservas      94   15.0  Andalucia    Jerez   \n",
       "\n",
       "   region_2        taster_name taster_twitter_handle  \\\n",
       "0       NaN         Roger Voss            @vossroger   \n",
       "1       NaN  Michael Schachner           @wineschach   \n",
       "2       NaN                NaN                   NaN   \n",
       "\n",
       "                                               title         variety  \\\n",
       "0        Quinta dos Muraças 2011 Assobio Red (Douro)  Portuguese Red   \n",
       "1  Osborne NV Pedro Ximenez 1827 Sweet Sherry She...          Sherry   \n",
       "2                                                NaN  Pedro XimÃ©nez   \n",
       "\n",
       "               winery  grade     ratio category  \n",
       "0  Quinta dos Muraças      4  0.138298    cheap  \n",
       "1             Osborne      4  0.148936    cheap  \n",
       "2      Sanchez Romate      4  0.159574    cheap  "
      ]
     },
     "execution_count": 76,
     "metadata": {},
     "output_type": "execute_result"
    }
   ],
   "source": [
    "cheap"
   ]
  },
  {
   "cell_type": "code",
   "execution_count": 63,
   "metadata": {},
   "outputs": [],
   "source": [
    "cheap = cheap.replace('Quinta dos MurÃ§as', 'Quinta dos Muraças')\n",
    "cheap = cheap.replace('Quinta dos MurÃ§as 2011 Assobio Red (Douro)', 'Quinta dos Muraças 2011 Assobio Red (Douro)')"
   ]
  },
  {
   "cell_type": "code",
   "execution_count": 65,
   "metadata": {},
   "outputs": [],
   "source": [
    "joined = "
   ]
  },
  {
   "cell_type": "code",
   "execution_count": 77,
   "metadata": {},
   "outputs": [],
   "source": [
    "joined = pd.concat([luxury, very_expensive, expensive, medium, low, cheap], ignore_index=True)"
   ]
  },
  {
   "cell_type": "code",
   "execution_count": 78,
   "metadata": {},
   "outputs": [
    {
     "data": {
      "text/html": [
       "<div>\n",
       "<style scoped>\n",
       "    .dataframe tbody tr th:only-of-type {\n",
       "        vertical-align: middle;\n",
       "    }\n",
       "\n",
       "    .dataframe tbody tr th {\n",
       "        vertical-align: top;\n",
       "    }\n",
       "\n",
       "    .dataframe thead th {\n",
       "        text-align: right;\n",
       "    }\n",
       "</style>\n",
       "<table border=\"1\" class=\"dataframe\">\n",
       "  <thead>\n",
       "    <tr style=\"text-align: right;\">\n",
       "      <th></th>\n",
       "      <th>country</th>\n",
       "      <th>description</th>\n",
       "      <th>designation</th>\n",
       "      <th>points</th>\n",
       "      <th>price</th>\n",
       "      <th>province</th>\n",
       "      <th>region_1</th>\n",
       "      <th>region_2</th>\n",
       "      <th>taster_name</th>\n",
       "      <th>taster_twitter_handle</th>\n",
       "      <th>title</th>\n",
       "      <th>variety</th>\n",
       "      <th>winery</th>\n",
       "      <th>grade</th>\n",
       "      <th>ratio</th>\n",
       "      <th>category</th>\n",
       "    </tr>\n",
       "  </thead>\n",
       "  <tbody>\n",
       "    <tr>\n",
       "      <th>0</th>\n",
       "      <td>France</td>\n",
       "      <td>Full of ripe fruit, opulent and concentrated, ...</td>\n",
       "      <td>NaN</td>\n",
       "      <td>100</td>\n",
       "      <td>848.0</td>\n",
       "      <td>Bordeaux</td>\n",
       "      <td>Pessac La ognan Bordeaux</td>\n",
       "      <td>NaN</td>\n",
       "      <td>Roger Voss</td>\n",
       "      <td>@vossroger</td>\n",
       "      <td>ChÃ¢teau Haut-Brion 2014  Pessac-LÃ©ognan</td>\n",
       "      <td>Bordeaux-style White Blend</td>\n",
       "      <td>Chateau Haut-Brion</td>\n",
       "      <td>5</td>\n",
       "      <td>8.480000</td>\n",
       "      <td>luxury</td>\n",
       "    </tr>\n",
       "    <tr>\n",
       "      <th>1</th>\n",
       "      <td>Australia</td>\n",
       "      <td>This inky, embryonic wine deserves to be cella...</td>\n",
       "      <td>Grange</td>\n",
       "      <td>99</td>\n",
       "      <td>850.0</td>\n",
       "      <td>South Australia</td>\n",
       "      <td>South Australia</td>\n",
       "      <td>NaN</td>\n",
       "      <td>Joe Czerwinski</td>\n",
       "      <td>@JoeCz</td>\n",
       "      <td>Penfolds 2010 Grange Shiraz (South Australia)</td>\n",
       "      <td>Shiraz</td>\n",
       "      <td>Penfolds</td>\n",
       "      <td>5</td>\n",
       "      <td>8.585859</td>\n",
       "      <td>luxury</td>\n",
       "    </tr>\n",
       "    <tr>\n",
       "      <th>2</th>\n",
       "      <td>France</td>\n",
       "      <td>A wine that has created its own universe. It h...</td>\n",
       "      <td>Clos du Mesnil</td>\n",
       "      <td>100</td>\n",
       "      <td>1400.0</td>\n",
       "      <td>Champagne</td>\n",
       "      <td>Champagne</td>\n",
       "      <td>NaN</td>\n",
       "      <td>NaN</td>\n",
       "      <td>NaN</td>\n",
       "      <td>NaN</td>\n",
       "      <td>Chardonnay</td>\n",
       "      <td>Krug</td>\n",
       "      <td>5</td>\n",
       "      <td>14.000000</td>\n",
       "      <td>luxury</td>\n",
       "    </tr>\n",
       "    <tr>\n",
       "      <th>3</th>\n",
       "      <td>France</td>\n",
       "      <td>With its gold color and mature, toasty flavors...</td>\n",
       "      <td>CuvÃ©e Sir Winston Churchill Brut</td>\n",
       "      <td>98</td>\n",
       "      <td>305.0</td>\n",
       "      <td>Champagne</td>\n",
       "      <td>Champagne</td>\n",
       "      <td>NaN</td>\n",
       "      <td>Roger Voss</td>\n",
       "      <td>@vossroger</td>\n",
       "      <td>Pol Roger 2002 CuvÃ©e Sir Winston Churchill Br...</td>\n",
       "      <td>Champagne Blend</td>\n",
       "      <td>Pol Roger</td>\n",
       "      <td>5</td>\n",
       "      <td>3.112245</td>\n",
       "      <td>very_expensive</td>\n",
       "    </tr>\n",
       "    <tr>\n",
       "      <th>4</th>\n",
       "      <td>Italy</td>\n",
       "      <td>Here's a âwowâ wine you won't easily forge...</td>\n",
       "      <td>Messorio</td>\n",
       "      <td>99</td>\n",
       "      <td>320.0</td>\n",
       "      <td>Tuscany</td>\n",
       "      <td>Toscana</td>\n",
       "      <td>NaN</td>\n",
       "      <td>NaN</td>\n",
       "      <td>NaN</td>\n",
       "      <td>Le Macchiole 2007 Messorio Merlot (Toscana)</td>\n",
       "      <td>Merlot</td>\n",
       "      <td>Le Macchiole</td>\n",
       "      <td>5</td>\n",
       "      <td>3.232323</td>\n",
       "      <td>very_expensive</td>\n",
       "    </tr>\n",
       "    <tr>\n",
       "      <th>5</th>\n",
       "      <td>France</td>\n",
       "      <td>A beautiful wine, smooth, polished, with round...</td>\n",
       "      <td>NaN</td>\n",
       "      <td>98</td>\n",
       "      <td>319.0</td>\n",
       "      <td>Burgundy</td>\n",
       "      <td>Clos de Tart</td>\n",
       "      <td>NaN</td>\n",
       "      <td>Roger Voss</td>\n",
       "      <td>@vossroger</td>\n",
       "      <td>Clos de Tart 2005  Clos de Tart</td>\n",
       "      <td>Pinot Noir</td>\n",
       "      <td>Clos de Tart</td>\n",
       "      <td>5</td>\n",
       "      <td>3.255102</td>\n",
       "      <td>very_expensive</td>\n",
       "    </tr>\n",
       "    <tr>\n",
       "      <th>6</th>\n",
       "      <td>Italy</td>\n",
       "      <td>Here's a âwowâ wine on every level, with i...</td>\n",
       "      <td>Guado al Tasso</td>\n",
       "      <td>98</td>\n",
       "      <td>102.0</td>\n",
       "      <td>Tuscany</td>\n",
       "      <td>Bolgheri Superiore</td>\n",
       "      <td>NaN</td>\n",
       "      <td>NaN</td>\n",
       "      <td>NaN</td>\n",
       "      <td>Marchesi Antinori 2008 Guado al Tasso  (Bolghe...</td>\n",
       "      <td>Red Blend</td>\n",
       "      <td>Marchesi Antinori</td>\n",
       "      <td>5</td>\n",
       "      <td>1.040816</td>\n",
       "      <td>expensive</td>\n",
       "    </tr>\n",
       "    <tr>\n",
       "      <th>7</th>\n",
       "      <td>Austria</td>\n",
       "      <td>The intensity of the acidity, piercing through...</td>\n",
       "      <td>Zwischen den Steen Nummer 8 Trockenbeerenauslese</td>\n",
       "      <td>98</td>\n",
       "      <td>103.0</td>\n",
       "      <td>Burgenland</td>\n",
       "      <td>NaN</td>\n",
       "      <td>NaN</td>\n",
       "      <td>NaN</td>\n",
       "      <td>NaN</td>\n",
       "      <td>NaN</td>\n",
       "      <td>Welschriesling</td>\n",
       "      <td>Kracher</td>\n",
       "      <td>5</td>\n",
       "      <td>1.051020</td>\n",
       "      <td>expensive</td>\n",
       "    </tr>\n",
       "    <tr>\n",
       "      <th>8</th>\n",
       "      <td>US</td>\n",
       "      <td>The opulence of this sparkling wine has to be ...</td>\n",
       "      <td>Reserve</td>\n",
       "      <td>98</td>\n",
       "      <td>110.0</td>\n",
       "      <td>California</td>\n",
       "      <td>Napa-Mendocino-Sonoma-Marin</td>\n",
       "      <td>North Coast</td>\n",
       "      <td>NaN</td>\n",
       "      <td>NaN</td>\n",
       "      <td>Schramsberg 2004 Reserve Sparkling (Napa-Mendo...</td>\n",
       "      <td>Sparkling Blend</td>\n",
       "      <td>Schramsberg</td>\n",
       "      <td>5</td>\n",
       "      <td>1.122449</td>\n",
       "      <td>expensive</td>\n",
       "    </tr>\n",
       "    <tr>\n",
       "      <th>9</th>\n",
       "      <td>US</td>\n",
       "      <td>Shows classic, full-throttle notes of tropical...</td>\n",
       "      <td>Estate Vineyard</td>\n",
       "      <td>99</td>\n",
       "      <td>44.0</td>\n",
       "      <td>California</td>\n",
       "      <td>Sonoma Coast</td>\n",
       "      <td>Sonoma</td>\n",
       "      <td>NaN</td>\n",
       "      <td>NaN</td>\n",
       "      <td>Failla 2010 Estate Vineyard Chardonnay (Sonoma...</td>\n",
       "      <td>Chardonnay</td>\n",
       "      <td>Failla</td>\n",
       "      <td>5</td>\n",
       "      <td>0.444444</td>\n",
       "      <td>medium</td>\n",
       "    </tr>\n",
       "    <tr>\n",
       "      <th>10</th>\n",
       "      <td>US</td>\n",
       "      <td>A stunning Pirouetteâ63% Cabernet Sauvignon,...</td>\n",
       "      <td>Red Wine</td>\n",
       "      <td>98</td>\n",
       "      <td>50.0</td>\n",
       "      <td>Washington</td>\n",
       "      <td>Columbia Valley (WA)</td>\n",
       "      <td>Columbia Valley</td>\n",
       "      <td>Paul Gregutt</td>\n",
       "      <td>@paulgwineÂ</td>\n",
       "      <td>Pirouette 2008 Red Wine Red (Columbia Valley (...</td>\n",
       "      <td>Bordeaux-style Red Blend</td>\n",
       "      <td>Pirouette</td>\n",
       "      <td>5</td>\n",
       "      <td>0.510204</td>\n",
       "      <td>medium</td>\n",
       "    </tr>\n",
       "    <tr>\n",
       "      <th>11</th>\n",
       "      <td>US</td>\n",
       "      <td>The first thoughts on this wine are how young ...</td>\n",
       "      <td>Maritime Vineyard</td>\n",
       "      <td>98</td>\n",
       "      <td>52.0</td>\n",
       "      <td>California</td>\n",
       "      <td>Sonoma Coast</td>\n",
       "      <td>Sonoma</td>\n",
       "      <td>NaN</td>\n",
       "      <td>NaN</td>\n",
       "      <td>NaN</td>\n",
       "      <td>Pinot Noir</td>\n",
       "      <td>W.H. Smith</td>\n",
       "      <td>5</td>\n",
       "      <td>0.530612</td>\n",
       "      <td>medium</td>\n",
       "    </tr>\n",
       "    <tr>\n",
       "      <th>12</th>\n",
       "      <td>France</td>\n",
       "      <td>A flinty touch of promising reduction still ho...</td>\n",
       "      <td>Goldert Grand Cru</td>\n",
       "      <td>95</td>\n",
       "      <td>26.0</td>\n",
       "      <td>Alsace</td>\n",
       "      <td>Alsace</td>\n",
       "      <td>NaN</td>\n",
       "      <td>Anne KrebiehlÂ MW</td>\n",
       "      <td>@AnneInVino</td>\n",
       "      <td>Domaine Zind-Humbrecht 2015 Goldert Grand Cru ...</td>\n",
       "      <td>Muscat</td>\n",
       "      <td>Domaine Zind-Humbrecht</td>\n",
       "      <td>4</td>\n",
       "      <td>0.273684</td>\n",
       "      <td>low</td>\n",
       "    </tr>\n",
       "    <tr>\n",
       "      <th>13</th>\n",
       "      <td>US</td>\n",
       "      <td>Massive, opulent, oozing in pineapple crÃ©me b...</td>\n",
       "      <td>NaN</td>\n",
       "      <td>95</td>\n",
       "      <td>26.0</td>\n",
       "      <td>California</td>\n",
       "      <td>Sta. Rita Hills</td>\n",
       "      <td>Central Coast</td>\n",
       "      <td>NaN</td>\n",
       "      <td>NaN</td>\n",
       "      <td>Melville 2008 Chardonnay (Sta. Rita Hills)</td>\n",
       "      <td>Chardonnay</td>\n",
       "      <td>Melville</td>\n",
       "      <td>4</td>\n",
       "      <td>0.273684</td>\n",
       "      <td>low</td>\n",
       "    </tr>\n",
       "    <tr>\n",
       "      <th>14</th>\n",
       "      <td>Italy</td>\n",
       "      <td>It boasts classic varietal aromas of crushed t...</td>\n",
       "      <td>NaN</td>\n",
       "      <td>94</td>\n",
       "      <td>26.0</td>\n",
       "      <td>Northeastern Italy</td>\n",
       "      <td>Collio</td>\n",
       "      <td>NaN</td>\n",
       "      <td>Kerin OâKeefe</td>\n",
       "      <td>@kerinokeefe</td>\n",
       "      <td>Russiz Superiore 2012 Sauvignon (Collio)</td>\n",
       "      <td>Sauvignon</td>\n",
       "      <td>Russiz Superiore</td>\n",
       "      <td>4</td>\n",
       "      <td>0.276596</td>\n",
       "      <td>low</td>\n",
       "    </tr>\n",
       "    <tr>\n",
       "      <th>15</th>\n",
       "      <td>Portugal</td>\n",
       "      <td>Assobio is from a single vineyard in the Quint...</td>\n",
       "      <td>Assobio</td>\n",
       "      <td>94</td>\n",
       "      <td>13.0</td>\n",
       "      <td>Douro</td>\n",
       "      <td>NaN</td>\n",
       "      <td>NaN</td>\n",
       "      <td>Roger Voss</td>\n",
       "      <td>@vossroger</td>\n",
       "      <td>Quinta dos Muraças 2011 Assobio Red (Douro)</td>\n",
       "      <td>Portuguese Red</td>\n",
       "      <td>Quinta dos Muraças</td>\n",
       "      <td>4</td>\n",
       "      <td>0.138298</td>\n",
       "      <td>cheap</td>\n",
       "    </tr>\n",
       "    <tr>\n",
       "      <th>16</th>\n",
       "      <td>Spain</td>\n",
       "      <td>A spectacularly sweet and rich bruiser, and on...</td>\n",
       "      <td>Pedro Ximenez 1827 Sweet Sherry</td>\n",
       "      <td>94</td>\n",
       "      <td>14.0</td>\n",
       "      <td>Andalucia</td>\n",
       "      <td>Jerez</td>\n",
       "      <td>NaN</td>\n",
       "      <td>Michael Schachner</td>\n",
       "      <td>@wineschach</td>\n",
       "      <td>Osborne NV Pedro Ximenez 1827 Sweet Sherry She...</td>\n",
       "      <td>Sherry</td>\n",
       "      <td>Osborne</td>\n",
       "      <td>4</td>\n",
       "      <td>0.148936</td>\n",
       "      <td>cheap</td>\n",
       "    </tr>\n",
       "    <tr>\n",
       "      <th>17</th>\n",
       "      <td>Spain</td>\n",
       "      <td>This reserve-level P.X. sets the gold standard...</td>\n",
       "      <td>Cardenal Cisneros Reservas</td>\n",
       "      <td>94</td>\n",
       "      <td>15.0</td>\n",
       "      <td>Andalucia</td>\n",
       "      <td>Jerez</td>\n",
       "      <td>NaN</td>\n",
       "      <td>NaN</td>\n",
       "      <td>NaN</td>\n",
       "      <td>NaN</td>\n",
       "      <td>Pedro XimÃ©nez</td>\n",
       "      <td>Sanchez Romate</td>\n",
       "      <td>4</td>\n",
       "      <td>0.159574</td>\n",
       "      <td>cheap</td>\n",
       "    </tr>\n",
       "  </tbody>\n",
       "</table>\n",
       "</div>"
      ],
      "text/plain": [
       "      country                                        description  \\\n",
       "0      France  Full of ripe fruit, opulent and concentrated, ...   \n",
       "1   Australia  This inky, embryonic wine deserves to be cella...   \n",
       "2      France  A wine that has created its own universe. It h...   \n",
       "3      France  With its gold color and mature, toasty flavors...   \n",
       "4       Italy  Here's a âwowâ wine you won't easily forge...   \n",
       "5      France  A beautiful wine, smooth, polished, with round...   \n",
       "6       Italy  Here's a âwowâ wine on every level, with i...   \n",
       "7     Austria  The intensity of the acidity, piercing through...   \n",
       "8          US  The opulence of this sparkling wine has to be ...   \n",
       "9          US  Shows classic, full-throttle notes of tropical...   \n",
       "10         US  A stunning Pirouetteâ63% Cabernet Sauvignon,...   \n",
       "11         US  The first thoughts on this wine are how young ...   \n",
       "12     France  A flinty touch of promising reduction still ho...   \n",
       "13         US  Massive, opulent, oozing in pineapple crÃ©me b...   \n",
       "14      Italy  It boasts classic varietal aromas of crushed t...   \n",
       "15   Portugal  Assobio is from a single vineyard in the Quint...   \n",
       "16      Spain  A spectacularly sweet and rich bruiser, and on...   \n",
       "17      Spain  This reserve-level P.X. sets the gold standard...   \n",
       "\n",
       "                                         designation  points   price  \\\n",
       "0                                                NaN     100   848.0   \n",
       "1                                             Grange      99   850.0   \n",
       "2                                     Clos du Mesnil     100  1400.0   \n",
       "3                  CuvÃ©e Sir Winston Churchill Brut      98   305.0   \n",
       "4                                           Messorio      99   320.0   \n",
       "5                                                NaN      98   319.0   \n",
       "6                                     Guado al Tasso      98   102.0   \n",
       "7   Zwischen den Steen Nummer 8 Trockenbeerenauslese      98   103.0   \n",
       "8                                            Reserve      98   110.0   \n",
       "9                                    Estate Vineyard      99    44.0   \n",
       "10                                          Red Wine      98    50.0   \n",
       "11                                 Maritime Vineyard      98    52.0   \n",
       "12                                 Goldert Grand Cru      95    26.0   \n",
       "13                                               NaN      95    26.0   \n",
       "14                                               NaN      94    26.0   \n",
       "15                                           Assobio      94    13.0   \n",
       "16                   Pedro Ximenez 1827 Sweet Sherry      94    14.0   \n",
       "17                        Cardenal Cisneros Reservas      94    15.0   \n",
       "\n",
       "              province                     region_1         region_2  \\\n",
       "0             Bordeaux     Pessac La ognan Bordeaux              NaN   \n",
       "1      South Australia              South Australia              NaN   \n",
       "2            Champagne                    Champagne              NaN   \n",
       "3            Champagne                    Champagne              NaN   \n",
       "4              Tuscany                      Toscana              NaN   \n",
       "5             Burgundy                 Clos de Tart              NaN   \n",
       "6              Tuscany           Bolgheri Superiore              NaN   \n",
       "7           Burgenland                          NaN              NaN   \n",
       "8           California  Napa-Mendocino-Sonoma-Marin      North Coast   \n",
       "9           California                 Sonoma Coast           Sonoma   \n",
       "10          Washington         Columbia Valley (WA)  Columbia Valley   \n",
       "11          California                 Sonoma Coast           Sonoma   \n",
       "12              Alsace                       Alsace              NaN   \n",
       "13          California              Sta. Rita Hills    Central Coast   \n",
       "14  Northeastern Italy                       Collio              NaN   \n",
       "15               Douro                          NaN              NaN   \n",
       "16           Andalucia                        Jerez              NaN   \n",
       "17           Andalucia                        Jerez              NaN   \n",
       "\n",
       "          taster_name taster_twitter_handle  \\\n",
       "0          Roger Voss            @vossroger   \n",
       "1      Joe Czerwinski                @JoeCz   \n",
       "2                 NaN                   NaN   \n",
       "3          Roger Voss            @vossroger   \n",
       "4                 NaN                   NaN   \n",
       "5          Roger Voss            @vossroger   \n",
       "6                 NaN                   NaN   \n",
       "7                 NaN                   NaN   \n",
       "8                 NaN                   NaN   \n",
       "9                 NaN                   NaN   \n",
       "10       Paul Gregutt          @paulgwineÂ    \n",
       "11                NaN                   NaN   \n",
       "12  Anne KrebiehlÂ MW           @AnneInVino   \n",
       "13                NaN                   NaN   \n",
       "14    Kerin OâKeefe          @kerinokeefe   \n",
       "15         Roger Voss            @vossroger   \n",
       "16  Michael Schachner           @wineschach   \n",
       "17                NaN                   NaN   \n",
       "\n",
       "                                                title  \\\n",
       "0           ChÃ¢teau Haut-Brion 2014  Pessac-LÃ©ognan   \n",
       "1       Penfolds 2010 Grange Shiraz (South Australia)   \n",
       "2                                                 NaN   \n",
       "3   Pol Roger 2002 CuvÃ©e Sir Winston Churchill Br...   \n",
       "4         Le Macchiole 2007 Messorio Merlot (Toscana)   \n",
       "5                     Clos de Tart 2005  Clos de Tart   \n",
       "6   Marchesi Antinori 2008 Guado al Tasso  (Bolghe...   \n",
       "7                                                 NaN   \n",
       "8   Schramsberg 2004 Reserve Sparkling (Napa-Mendo...   \n",
       "9   Failla 2010 Estate Vineyard Chardonnay (Sonoma...   \n",
       "10  Pirouette 2008 Red Wine Red (Columbia Valley (...   \n",
       "11                                                NaN   \n",
       "12  Domaine Zind-Humbrecht 2015 Goldert Grand Cru ...   \n",
       "13         Melville 2008 Chardonnay (Sta. Rita Hills)   \n",
       "14           Russiz Superiore 2012 Sauvignon (Collio)   \n",
       "15        Quinta dos Muraças 2011 Assobio Red (Douro)   \n",
       "16  Osborne NV Pedro Ximenez 1827 Sweet Sherry She...   \n",
       "17                                                NaN   \n",
       "\n",
       "                       variety                  winery  grade      ratio  \\\n",
       "0   Bordeaux-style White Blend      Chateau Haut-Brion      5   8.480000   \n",
       "1                       Shiraz                Penfolds      5   8.585859   \n",
       "2                   Chardonnay                    Krug      5  14.000000   \n",
       "3              Champagne Blend               Pol Roger      5   3.112245   \n",
       "4                       Merlot            Le Macchiole      5   3.232323   \n",
       "5                   Pinot Noir            Clos de Tart      5   3.255102   \n",
       "6                    Red Blend       Marchesi Antinori      5   1.040816   \n",
       "7               Welschriesling                 Kracher      5   1.051020   \n",
       "8              Sparkling Blend             Schramsberg      5   1.122449   \n",
       "9                   Chardonnay                  Failla      5   0.444444   \n",
       "10    Bordeaux-style Red Blend               Pirouette      5   0.510204   \n",
       "11                  Pinot Noir              W.H. Smith      5   0.530612   \n",
       "12                      Muscat  Domaine Zind-Humbrecht      4   0.273684   \n",
       "13                  Chardonnay                Melville      4   0.273684   \n",
       "14                   Sauvignon        Russiz Superiore      4   0.276596   \n",
       "15              Portuguese Red      Quinta dos Muraças      4   0.138298   \n",
       "16                      Sherry                 Osborne      4   0.148936   \n",
       "17              Pedro XimÃ©nez          Sanchez Romate      4   0.159574   \n",
       "\n",
       "          category  \n",
       "0           luxury  \n",
       "1           luxury  \n",
       "2           luxury  \n",
       "3   very_expensive  \n",
       "4   very_expensive  \n",
       "5   very_expensive  \n",
       "6        expensive  \n",
       "7        expensive  \n",
       "8        expensive  \n",
       "9           medium  \n",
       "10          medium  \n",
       "11          medium  \n",
       "12             low  \n",
       "13             low  \n",
       "14             low  \n",
       "15           cheap  \n",
       "16           cheap  \n",
       "17           cheap  "
      ]
     },
     "execution_count": 78,
     "metadata": {},
     "output_type": "execute_result"
    }
   ],
   "source": [
    "joined"
   ]
  },
  {
   "cell_type": "code",
   "execution_count": 138,
   "metadata": {},
   "outputs": [],
   "source": [
    "def add_latitude(winery):\n",
    "    if winery == 'Chateau Haut-Brion':\n",
    "        return 44.8058\n",
    "    elif winery == 'Penfolds':\n",
    "        return -34.9090\n",
    "    elif winery == 'Krug':\n",
    "        return 49.0000\n",
    "    elif winery == 'Pol Roger':\n",
    "        return 49.0434\n",
    "    elif winery == 'Le Macchiole':\n",
    "        return 43.2078\n",
    "    elif winery == 'Clos de Tart':\n",
    "        return 47.1956\n",
    "    elif winery == 'Marchesi Antinori':\n",
    "        return 45.60272\n",
    "    elif winery == 'Kracher':\n",
    "        return 47.7617\n",
    "    elif winery == 'Schramsberg':\n",
    "        return 38.578796\n",
    "    elif winery == 'Failla':\n",
    "        return 38.5481\n",
    "    elif winery == 'Pirouette':\n",
    "        return 46.2775\n",
    "    elif winery == 'W.H. Smith':\n",
    "        return 38.2919\n",
    "    elif winery == 'Domaine Zind-Humbrecht':\n",
    "        return 48.0838\n",
    "    elif winery == 'Melville':\n",
    "        return 40.7934\n",
    "    elif winery == 'Russiz Superiore':\n",
    "        return 45.9421\n",
    "    elif winery == 'Quinta dos Muraças':\n",
    "        return 41.1530\n",
    "    elif winery == 'Osborne':\n",
    "        return 37.5443\n",
    "    elif winery == 'Sanchez Romate':\n",
    "        return 36.6909\n",
    "    else:\n",
    "        return 0"
   ]
  },
  {
   "cell_type": "code",
   "execution_count": 139,
   "metadata": {},
   "outputs": [],
   "source": [
    "def add_longitude(winery):\n",
    "    if winery == 'Chateau Haut-Brion':\n",
    "        return 0.6304\n",
    "    elif winery == 'Penfolds':\n",
    "        return 138.6758\n",
    "    elif winery == 'Krug':\n",
    "        return 4\n",
    "    elif winery == 'Pol Roger':\n",
    "        return 3.9562\n",
    "    elif winery == 'Le Macchiole':\n",
    "        return 10.6117\n",
    "    elif winery == 'Clos de Tart':\n",
    "        return 4.9617\n",
    "    elif winery == 'Marchesi Antinori':\n",
    "        return 10.06157\n",
    "    elif winery == 'Kracher':\n",
    "        return 16.8069\n",
    "    elif winery == 'Schramsberg':\n",
    "        return -122.579704\n",
    "    elif winery == 'Failla':\n",
    "        return -122.4904\n",
    "    elif winery == 'Pirouette':\n",
    "        return -117.8143\n",
    "    elif winery == 'W.H. Smith':\n",
    "        return -122.4580\n",
    "    elif winery == 'Domaine Zind-Humbrecht':\n",
    "        return 7.2957\n",
    "    elif winery == 'Melville':\n",
    "        return -73.41512\n",
    "    elif winery == 'Russiz Superiore':\n",
    "        return 13.5144\n",
    "    elif winery == 'Quinta dos Muraças':\n",
    "        return -7.6881\n",
    "    elif winery == 'Osborne':\n",
    "        return -4.7278\n",
    "    elif winery == 'Sanchez Romate':\n",
    "        return -6.1428\n",
    "    else:\n",
    "        return 0"
   ]
  },
  {
   "cell_type": "code",
   "execution_count": 140,
   "metadata": {},
   "outputs": [],
   "source": [
    "joined['latitude'] = joined['winery'].apply(add_latitude)\n",
    "joined['longitude'] = joined['winery'].apply(add_longitude)"
   ]
  },
  {
   "cell_type": "code",
   "execution_count": 141,
   "metadata": {},
   "outputs": [],
   "source": [
    "joined = joined.replace('US','USA')"
   ]
  },
  {
   "cell_type": "code",
   "execution_count": 142,
   "metadata": {},
   "outputs": [
    {
     "data": {
      "text/plain": [
       "0        France\n",
       "1     Australia\n",
       "2        France\n",
       "3        France\n",
       "4         Italy\n",
       "5        France\n",
       "6         Italy\n",
       "7       Austria\n",
       "8           USA\n",
       "9           USA\n",
       "10          USA\n",
       "11          USA\n",
       "12       France\n",
       "13          USA\n",
       "14        Italy\n",
       "15     Portugal\n",
       "16        Spain\n",
       "17        Spain\n",
       "Name: country, dtype: object"
      ]
     },
     "execution_count": 142,
     "metadata": {},
     "output_type": "execute_result"
    }
   ],
   "source": [
    "joined['country']"
   ]
  },
  {
   "cell_type": "code",
   "execution_count": 143,
   "metadata": {},
   "outputs": [
    {
     "data": {
      "application/vnd.plotly.v1+json": {
       "config": {
        "plotlyServerURL": "https://plot.ly"
       },
       "data": [
        {
         "geo": "geo",
         "hoverlabel": {
          "namelength": 0
         },
         "hovertemplate": "<b>%{hovertext}</b><br><br>category=luxury<br>latitude=%{lat}<br>longitude=%{lon}",
         "hovertext": [
          "Chateau Haut-Brion",
          "Penfolds",
          "Krug"
         ],
         "lat": [
          44.8058,
          -34.909,
          49
         ],
         "legendgroup": "category=luxury",
         "lon": [
          0.6304,
          138.6758,
          4
         ],
         "marker": {
          "color": "#636efa"
         },
         "name": "category=luxury",
         "showlegend": true,
         "type": "scattergeo"
        },
        {
         "geo": "geo",
         "hoverlabel": {
          "namelength": 0
         },
         "hovertemplate": "<b>%{hovertext}</b><br><br>category=very_expensive<br>latitude=%{lat}<br>longitude=%{lon}",
         "hovertext": [
          "Pol Roger",
          "Le Macchiole",
          "Clos de Tart"
         ],
         "lat": [
          49.0434,
          43.2078,
          47.1956
         ],
         "legendgroup": "category=very_expensive",
         "lon": [
          3.9562,
          10.6117,
          4.9617
         ],
         "marker": {
          "color": "#EF553B"
         },
         "name": "category=very_expensive",
         "showlegend": true,
         "type": "scattergeo"
        },
        {
         "geo": "geo",
         "hoverlabel": {
          "namelength": 0
         },
         "hovertemplate": "<b>%{hovertext}</b><br><br>category=expensive<br>latitude=%{lat}<br>longitude=%{lon}",
         "hovertext": [
          "Marchesi Antinori",
          "Kracher",
          "Schramsberg"
         ],
         "lat": [
          45.60272,
          47.7617,
          38.578796
         ],
         "legendgroup": "category=expensive",
         "lon": [
          10.06157,
          16.8069,
          -122.579704
         ],
         "marker": {
          "color": "#00cc96"
         },
         "name": "category=expensive",
         "showlegend": true,
         "type": "scattergeo"
        },
        {
         "geo": "geo",
         "hoverlabel": {
          "namelength": 0
         },
         "hovertemplate": "<b>%{hovertext}</b><br><br>category=medium<br>latitude=%{lat}<br>longitude=%{lon}",
         "hovertext": [
          "Failla",
          "Pirouette",
          "W.H. Smith"
         ],
         "lat": [
          38.5481,
          46.2775,
          38.2919
         ],
         "legendgroup": "category=medium",
         "lon": [
          -122.4904,
          -117.8143,
          -122.458
         ],
         "marker": {
          "color": "#ab63fa"
         },
         "name": "category=medium",
         "showlegend": true,
         "type": "scattergeo"
        },
        {
         "geo": "geo",
         "hoverlabel": {
          "namelength": 0
         },
         "hovertemplate": "<b>%{hovertext}</b><br><br>category=low<br>latitude=%{lat}<br>longitude=%{lon}",
         "hovertext": [
          "Domaine Zind-Humbrecht",
          "Melville",
          "Russiz Superiore"
         ],
         "lat": [
          48.0838,
          40.7934,
          45.9421
         ],
         "legendgroup": "category=low",
         "lon": [
          7.2957,
          -73.41512,
          13.5144
         ],
         "marker": {
          "color": "#FFA15A"
         },
         "name": "category=low",
         "showlegend": true,
         "type": "scattergeo"
        },
        {
         "geo": "geo",
         "hoverlabel": {
          "namelength": 0
         },
         "hovertemplate": "<b>%{hovertext}</b><br><br>category=cheap<br>latitude=%{lat}<br>longitude=%{lon}",
         "hovertext": [
          "Quinta dos Muraças",
          "Osborne",
          "Sanchez Romate"
         ],
         "lat": [
          41.153,
          37.5443,
          36.6909
         ],
         "legendgroup": "category=cheap",
         "lon": [
          -7.6881,
          -4.7278,
          -6.1428
         ],
         "marker": {
          "color": "#19d3f3"
         },
         "name": "category=cheap",
         "showlegend": true,
         "type": "scattergeo"
        }
       ],
       "layout": {
        "geo": {
         "center": {},
         "domain": {
          "x": [
           0,
           1
          ],
          "y": [
           0,
           1
          ]
         },
         "projection": {
          "type": "natural earth"
         }
        },
        "height": 600,
        "legend": {
         "tracegroupgap": 0
        },
        "margin": {
         "t": 60
        },
        "template": {
         "data": {
          "bar": [
           {
            "error_x": {
             "color": "#2a3f5f"
            },
            "error_y": {
             "color": "#2a3f5f"
            },
            "marker": {
             "line": {
              "color": "#E5ECF6",
              "width": 0.5
             }
            },
            "type": "bar"
           }
          ],
          "barpolar": [
           {
            "marker": {
             "line": {
              "color": "#E5ECF6",
              "width": 0.5
             }
            },
            "type": "barpolar"
           }
          ],
          "carpet": [
           {
            "aaxis": {
             "endlinecolor": "#2a3f5f",
             "gridcolor": "white",
             "linecolor": "white",
             "minorgridcolor": "white",
             "startlinecolor": "#2a3f5f"
            },
            "baxis": {
             "endlinecolor": "#2a3f5f",
             "gridcolor": "white",
             "linecolor": "white",
             "minorgridcolor": "white",
             "startlinecolor": "#2a3f5f"
            },
            "type": "carpet"
           }
          ],
          "choropleth": [
           {
            "colorbar": {
             "outlinewidth": 0,
             "ticks": ""
            },
            "type": "choropleth"
           }
          ],
          "contour": [
           {
            "colorbar": {
             "outlinewidth": 0,
             "ticks": ""
            },
            "colorscale": [
             [
              0,
              "#0d0887"
             ],
             [
              0.1111111111111111,
              "#46039f"
             ],
             [
              0.2222222222222222,
              "#7201a8"
             ],
             [
              0.3333333333333333,
              "#9c179e"
             ],
             [
              0.4444444444444444,
              "#bd3786"
             ],
             [
              0.5555555555555556,
              "#d8576b"
             ],
             [
              0.6666666666666666,
              "#ed7953"
             ],
             [
              0.7777777777777778,
              "#fb9f3a"
             ],
             [
              0.8888888888888888,
              "#fdca26"
             ],
             [
              1,
              "#f0f921"
             ]
            ],
            "type": "contour"
           }
          ],
          "contourcarpet": [
           {
            "colorbar": {
             "outlinewidth": 0,
             "ticks": ""
            },
            "type": "contourcarpet"
           }
          ],
          "heatmap": [
           {
            "colorbar": {
             "outlinewidth": 0,
             "ticks": ""
            },
            "colorscale": [
             [
              0,
              "#0d0887"
             ],
             [
              0.1111111111111111,
              "#46039f"
             ],
             [
              0.2222222222222222,
              "#7201a8"
             ],
             [
              0.3333333333333333,
              "#9c179e"
             ],
             [
              0.4444444444444444,
              "#bd3786"
             ],
             [
              0.5555555555555556,
              "#d8576b"
             ],
             [
              0.6666666666666666,
              "#ed7953"
             ],
             [
              0.7777777777777778,
              "#fb9f3a"
             ],
             [
              0.8888888888888888,
              "#fdca26"
             ],
             [
              1,
              "#f0f921"
             ]
            ],
            "type": "heatmap"
           }
          ],
          "heatmapgl": [
           {
            "colorbar": {
             "outlinewidth": 0,
             "ticks": ""
            },
            "colorscale": [
             [
              0,
              "#0d0887"
             ],
             [
              0.1111111111111111,
              "#46039f"
             ],
             [
              0.2222222222222222,
              "#7201a8"
             ],
             [
              0.3333333333333333,
              "#9c179e"
             ],
             [
              0.4444444444444444,
              "#bd3786"
             ],
             [
              0.5555555555555556,
              "#d8576b"
             ],
             [
              0.6666666666666666,
              "#ed7953"
             ],
             [
              0.7777777777777778,
              "#fb9f3a"
             ],
             [
              0.8888888888888888,
              "#fdca26"
             ],
             [
              1,
              "#f0f921"
             ]
            ],
            "type": "heatmapgl"
           }
          ],
          "histogram": [
           {
            "marker": {
             "colorbar": {
              "outlinewidth": 0,
              "ticks": ""
             }
            },
            "type": "histogram"
           }
          ],
          "histogram2d": [
           {
            "colorbar": {
             "outlinewidth": 0,
             "ticks": ""
            },
            "colorscale": [
             [
              0,
              "#0d0887"
             ],
             [
              0.1111111111111111,
              "#46039f"
             ],
             [
              0.2222222222222222,
              "#7201a8"
             ],
             [
              0.3333333333333333,
              "#9c179e"
             ],
             [
              0.4444444444444444,
              "#bd3786"
             ],
             [
              0.5555555555555556,
              "#d8576b"
             ],
             [
              0.6666666666666666,
              "#ed7953"
             ],
             [
              0.7777777777777778,
              "#fb9f3a"
             ],
             [
              0.8888888888888888,
              "#fdca26"
             ],
             [
              1,
              "#f0f921"
             ]
            ],
            "type": "histogram2d"
           }
          ],
          "histogram2dcontour": [
           {
            "colorbar": {
             "outlinewidth": 0,
             "ticks": ""
            },
            "colorscale": [
             [
              0,
              "#0d0887"
             ],
             [
              0.1111111111111111,
              "#46039f"
             ],
             [
              0.2222222222222222,
              "#7201a8"
             ],
             [
              0.3333333333333333,
              "#9c179e"
             ],
             [
              0.4444444444444444,
              "#bd3786"
             ],
             [
              0.5555555555555556,
              "#d8576b"
             ],
             [
              0.6666666666666666,
              "#ed7953"
             ],
             [
              0.7777777777777778,
              "#fb9f3a"
             ],
             [
              0.8888888888888888,
              "#fdca26"
             ],
             [
              1,
              "#f0f921"
             ]
            ],
            "type": "histogram2dcontour"
           }
          ],
          "mesh3d": [
           {
            "colorbar": {
             "outlinewidth": 0,
             "ticks": ""
            },
            "type": "mesh3d"
           }
          ],
          "parcoords": [
           {
            "line": {
             "colorbar": {
              "outlinewidth": 0,
              "ticks": ""
             }
            },
            "type": "parcoords"
           }
          ],
          "pie": [
           {
            "automargin": true,
            "type": "pie"
           }
          ],
          "scatter": [
           {
            "marker": {
             "colorbar": {
              "outlinewidth": 0,
              "ticks": ""
             }
            },
            "type": "scatter"
           }
          ],
          "scatter3d": [
           {
            "line": {
             "colorbar": {
              "outlinewidth": 0,
              "ticks": ""
             }
            },
            "marker": {
             "colorbar": {
              "outlinewidth": 0,
              "ticks": ""
             }
            },
            "type": "scatter3d"
           }
          ],
          "scattercarpet": [
           {
            "marker": {
             "colorbar": {
              "outlinewidth": 0,
              "ticks": ""
             }
            },
            "type": "scattercarpet"
           }
          ],
          "scattergeo": [
           {
            "marker": {
             "colorbar": {
              "outlinewidth": 0,
              "ticks": ""
             }
            },
            "type": "scattergeo"
           }
          ],
          "scattergl": [
           {
            "marker": {
             "colorbar": {
              "outlinewidth": 0,
              "ticks": ""
             }
            },
            "type": "scattergl"
           }
          ],
          "scattermapbox": [
           {
            "marker": {
             "colorbar": {
              "outlinewidth": 0,
              "ticks": ""
             }
            },
            "type": "scattermapbox"
           }
          ],
          "scatterpolar": [
           {
            "marker": {
             "colorbar": {
              "outlinewidth": 0,
              "ticks": ""
             }
            },
            "type": "scatterpolar"
           }
          ],
          "scatterpolargl": [
           {
            "marker": {
             "colorbar": {
              "outlinewidth": 0,
              "ticks": ""
             }
            },
            "type": "scatterpolargl"
           }
          ],
          "scatterternary": [
           {
            "marker": {
             "colorbar": {
              "outlinewidth": 0,
              "ticks": ""
             }
            },
            "type": "scatterternary"
           }
          ],
          "surface": [
           {
            "colorbar": {
             "outlinewidth": 0,
             "ticks": ""
            },
            "colorscale": [
             [
              0,
              "#0d0887"
             ],
             [
              0.1111111111111111,
              "#46039f"
             ],
             [
              0.2222222222222222,
              "#7201a8"
             ],
             [
              0.3333333333333333,
              "#9c179e"
             ],
             [
              0.4444444444444444,
              "#bd3786"
             ],
             [
              0.5555555555555556,
              "#d8576b"
             ],
             [
              0.6666666666666666,
              "#ed7953"
             ],
             [
              0.7777777777777778,
              "#fb9f3a"
             ],
             [
              0.8888888888888888,
              "#fdca26"
             ],
             [
              1,
              "#f0f921"
             ]
            ],
            "type": "surface"
           }
          ],
          "table": [
           {
            "cells": {
             "fill": {
              "color": "#EBF0F8"
             },
             "line": {
              "color": "white"
             }
            },
            "header": {
             "fill": {
              "color": "#C8D4E3"
             },
             "line": {
              "color": "white"
             }
            },
            "type": "table"
           }
          ]
         },
         "layout": {
          "annotationdefaults": {
           "arrowcolor": "#2a3f5f",
           "arrowhead": 0,
           "arrowwidth": 1
          },
          "coloraxis": {
           "colorbar": {
            "outlinewidth": 0,
            "ticks": ""
           }
          },
          "colorscale": {
           "diverging": [
            [
             0,
             "#8e0152"
            ],
            [
             0.1,
             "#c51b7d"
            ],
            [
             0.2,
             "#de77ae"
            ],
            [
             0.3,
             "#f1b6da"
            ],
            [
             0.4,
             "#fde0ef"
            ],
            [
             0.5,
             "#f7f7f7"
            ],
            [
             0.6,
             "#e6f5d0"
            ],
            [
             0.7,
             "#b8e186"
            ],
            [
             0.8,
             "#7fbc41"
            ],
            [
             0.9,
             "#4d9221"
            ],
            [
             1,
             "#276419"
            ]
           ],
           "sequential": [
            [
             0,
             "#0d0887"
            ],
            [
             0.1111111111111111,
             "#46039f"
            ],
            [
             0.2222222222222222,
             "#7201a8"
            ],
            [
             0.3333333333333333,
             "#9c179e"
            ],
            [
             0.4444444444444444,
             "#bd3786"
            ],
            [
             0.5555555555555556,
             "#d8576b"
            ],
            [
             0.6666666666666666,
             "#ed7953"
            ],
            [
             0.7777777777777778,
             "#fb9f3a"
            ],
            [
             0.8888888888888888,
             "#fdca26"
            ],
            [
             1,
             "#f0f921"
            ]
           ],
           "sequentialminus": [
            [
             0,
             "#0d0887"
            ],
            [
             0.1111111111111111,
             "#46039f"
            ],
            [
             0.2222222222222222,
             "#7201a8"
            ],
            [
             0.3333333333333333,
             "#9c179e"
            ],
            [
             0.4444444444444444,
             "#bd3786"
            ],
            [
             0.5555555555555556,
             "#d8576b"
            ],
            [
             0.6666666666666666,
             "#ed7953"
            ],
            [
             0.7777777777777778,
             "#fb9f3a"
            ],
            [
             0.8888888888888888,
             "#fdca26"
            ],
            [
             1,
             "#f0f921"
            ]
           ]
          },
          "colorway": [
           "#636efa",
           "#EF553B",
           "#00cc96",
           "#ab63fa",
           "#FFA15A",
           "#19d3f3",
           "#FF6692",
           "#B6E880",
           "#FF97FF",
           "#FECB52"
          ],
          "font": {
           "color": "#2a3f5f"
          },
          "geo": {
           "bgcolor": "white",
           "lakecolor": "white",
           "landcolor": "#E5ECF6",
           "showlakes": true,
           "showland": true,
           "subunitcolor": "white"
          },
          "hoverlabel": {
           "align": "left"
          },
          "hovermode": "closest",
          "mapbox": {
           "style": "light"
          },
          "paper_bgcolor": "white",
          "plot_bgcolor": "#E5ECF6",
          "polar": {
           "angularaxis": {
            "gridcolor": "white",
            "linecolor": "white",
            "ticks": ""
           },
           "bgcolor": "#E5ECF6",
           "radialaxis": {
            "gridcolor": "white",
            "linecolor": "white",
            "ticks": ""
           }
          },
          "scene": {
           "xaxis": {
            "backgroundcolor": "#E5ECF6",
            "gridcolor": "white",
            "gridwidth": 2,
            "linecolor": "white",
            "showbackground": true,
            "ticks": "",
            "zerolinecolor": "white"
           },
           "yaxis": {
            "backgroundcolor": "#E5ECF6",
            "gridcolor": "white",
            "gridwidth": 2,
            "linecolor": "white",
            "showbackground": true,
            "ticks": "",
            "zerolinecolor": "white"
           },
           "zaxis": {
            "backgroundcolor": "#E5ECF6",
            "gridcolor": "white",
            "gridwidth": 2,
            "linecolor": "white",
            "showbackground": true,
            "ticks": "",
            "zerolinecolor": "white"
           }
          },
          "shapedefaults": {
           "line": {
            "color": "#2a3f5f"
           }
          },
          "ternary": {
           "aaxis": {
            "gridcolor": "white",
            "linecolor": "white",
            "ticks": ""
           },
           "baxis": {
            "gridcolor": "white",
            "linecolor": "white",
            "ticks": ""
           },
           "bgcolor": "#E5ECF6",
           "caxis": {
            "gridcolor": "white",
            "linecolor": "white",
            "ticks": ""
           }
          },
          "title": {
           "x": 0.05
          },
          "xaxis": {
           "automargin": true,
           "gridcolor": "white",
           "linecolor": "white",
           "ticks": "",
           "title": {
            "standoff": 15
           },
           "zerolinecolor": "white",
           "zerolinewidth": 2
          },
          "yaxis": {
           "automargin": true,
           "gridcolor": "white",
           "linecolor": "white",
           "ticks": "",
           "title": {
            "standoff": 15
           },
           "zerolinecolor": "white",
           "zerolinewidth": 2
          }
         }
        }
       }
      },
      "text/html": [
       "<div>\n",
       "        \n",
       "        \n",
       "            <div id=\"07de397a-3682-43c7-82aa-d588c4e277f6\" class=\"plotly-graph-div\" style=\"height:600px; width:100%;\"></div>\n",
       "            <script type=\"text/javascript\">\n",
       "                require([\"plotly\"], function(Plotly) {\n",
       "                    window.PLOTLYENV=window.PLOTLYENV || {};\n",
       "                    \n",
       "                if (document.getElementById(\"07de397a-3682-43c7-82aa-d588c4e277f6\")) {\n",
       "                    Plotly.newPlot(\n",
       "                        '07de397a-3682-43c7-82aa-d588c4e277f6',\n",
       "                        [{\"geo\": \"geo\", \"hoverlabel\": {\"namelength\": 0}, \"hovertemplate\": \"<b>%{hovertext}</b><br><br>category=luxury<br>latitude=%{lat}<br>longitude=%{lon}\", \"hovertext\": [\"Chateau Haut-Brion\", \"Penfolds\", \"Krug\"], \"lat\": [44.8058, -34.909, 49.0], \"legendgroup\": \"category=luxury\", \"lon\": [0.6304, 138.6758, 4.0], \"marker\": {\"color\": \"#636efa\"}, \"name\": \"category=luxury\", \"showlegend\": true, \"type\": \"scattergeo\"}, {\"geo\": \"geo\", \"hoverlabel\": {\"namelength\": 0}, \"hovertemplate\": \"<b>%{hovertext}</b><br><br>category=very_expensive<br>latitude=%{lat}<br>longitude=%{lon}\", \"hovertext\": [\"Pol Roger\", \"Le Macchiole\", \"Clos de Tart\"], \"lat\": [49.0434, 43.2078, 47.1956], \"legendgroup\": \"category=very_expensive\", \"lon\": [3.9562, 10.6117, 4.9617], \"marker\": {\"color\": \"#EF553B\"}, \"name\": \"category=very_expensive\", \"showlegend\": true, \"type\": \"scattergeo\"}, {\"geo\": \"geo\", \"hoverlabel\": {\"namelength\": 0}, \"hovertemplate\": \"<b>%{hovertext}</b><br><br>category=expensive<br>latitude=%{lat}<br>longitude=%{lon}\", \"hovertext\": [\"Marchesi Antinori\", \"Kracher\", \"Schramsberg\"], \"lat\": [45.60272, 47.7617, 38.578796], \"legendgroup\": \"category=expensive\", \"lon\": [10.06157, 16.8069, -122.579704], \"marker\": {\"color\": \"#00cc96\"}, \"name\": \"category=expensive\", \"showlegend\": true, \"type\": \"scattergeo\"}, {\"geo\": \"geo\", \"hoverlabel\": {\"namelength\": 0}, \"hovertemplate\": \"<b>%{hovertext}</b><br><br>category=medium<br>latitude=%{lat}<br>longitude=%{lon}\", \"hovertext\": [\"Failla\", \"Pirouette\", \"W.H. Smith\"], \"lat\": [38.5481, 46.2775, 38.2919], \"legendgroup\": \"category=medium\", \"lon\": [-122.4904, -117.8143, -122.458], \"marker\": {\"color\": \"#ab63fa\"}, \"name\": \"category=medium\", \"showlegend\": true, \"type\": \"scattergeo\"}, {\"geo\": \"geo\", \"hoverlabel\": {\"namelength\": 0}, \"hovertemplate\": \"<b>%{hovertext}</b><br><br>category=low<br>latitude=%{lat}<br>longitude=%{lon}\", \"hovertext\": [\"Domaine Zind-Humbrecht\", \"Melville\", \"Russiz Superiore\"], \"lat\": [48.0838, 40.7934, 45.9421], \"legendgroup\": \"category=low\", \"lon\": [7.2957, -73.41512, 13.5144], \"marker\": {\"color\": \"#FFA15A\"}, \"name\": \"category=low\", \"showlegend\": true, \"type\": \"scattergeo\"}, {\"geo\": \"geo\", \"hoverlabel\": {\"namelength\": 0}, \"hovertemplate\": \"<b>%{hovertext}</b><br><br>category=cheap<br>latitude=%{lat}<br>longitude=%{lon}\", \"hovertext\": [\"Quinta dos Mura\\u00e7as\", \"Osborne\", \"Sanchez Romate\"], \"lat\": [41.153, 37.5443, 36.6909], \"legendgroup\": \"category=cheap\", \"lon\": [-7.6881, -4.7278, -6.1428], \"marker\": {\"color\": \"#19d3f3\"}, \"name\": \"category=cheap\", \"showlegend\": true, \"type\": \"scattergeo\"}],\n",
       "                        {\"geo\": {\"center\": {}, \"domain\": {\"x\": [0.0, 1.0], \"y\": [0.0, 1.0]}, \"projection\": {\"type\": \"natural earth\"}}, \"height\": 600, \"legend\": {\"tracegroupgap\": 0}, \"margin\": {\"t\": 60}, \"template\": {\"data\": {\"bar\": [{\"error_x\": {\"color\": \"#2a3f5f\"}, \"error_y\": {\"color\": \"#2a3f5f\"}, \"marker\": {\"line\": {\"color\": \"#E5ECF6\", \"width\": 0.5}}, \"type\": \"bar\"}], \"barpolar\": [{\"marker\": {\"line\": {\"color\": \"#E5ECF6\", \"width\": 0.5}}, \"type\": \"barpolar\"}], \"carpet\": [{\"aaxis\": {\"endlinecolor\": \"#2a3f5f\", \"gridcolor\": \"white\", \"linecolor\": \"white\", \"minorgridcolor\": \"white\", \"startlinecolor\": \"#2a3f5f\"}, \"baxis\": {\"endlinecolor\": \"#2a3f5f\", \"gridcolor\": \"white\", \"linecolor\": \"white\", \"minorgridcolor\": \"white\", \"startlinecolor\": \"#2a3f5f\"}, \"type\": \"carpet\"}], \"choropleth\": [{\"colorbar\": {\"outlinewidth\": 0, \"ticks\": \"\"}, \"type\": \"choropleth\"}], \"contour\": [{\"colorbar\": {\"outlinewidth\": 0, \"ticks\": \"\"}, \"colorscale\": [[0.0, \"#0d0887\"], [0.1111111111111111, \"#46039f\"], [0.2222222222222222, \"#7201a8\"], [0.3333333333333333, \"#9c179e\"], [0.4444444444444444, \"#bd3786\"], [0.5555555555555556, \"#d8576b\"], [0.6666666666666666, \"#ed7953\"], [0.7777777777777778, \"#fb9f3a\"], [0.8888888888888888, \"#fdca26\"], [1.0, \"#f0f921\"]], \"type\": \"contour\"}], \"contourcarpet\": [{\"colorbar\": {\"outlinewidth\": 0, \"ticks\": \"\"}, \"type\": \"contourcarpet\"}], \"heatmap\": [{\"colorbar\": {\"outlinewidth\": 0, \"ticks\": \"\"}, \"colorscale\": [[0.0, \"#0d0887\"], [0.1111111111111111, \"#46039f\"], [0.2222222222222222, \"#7201a8\"], [0.3333333333333333, \"#9c179e\"], [0.4444444444444444, \"#bd3786\"], [0.5555555555555556, \"#d8576b\"], [0.6666666666666666, \"#ed7953\"], [0.7777777777777778, \"#fb9f3a\"], [0.8888888888888888, \"#fdca26\"], [1.0, \"#f0f921\"]], \"type\": \"heatmap\"}], \"heatmapgl\": [{\"colorbar\": {\"outlinewidth\": 0, \"ticks\": \"\"}, \"colorscale\": [[0.0, \"#0d0887\"], [0.1111111111111111, \"#46039f\"], [0.2222222222222222, \"#7201a8\"], [0.3333333333333333, \"#9c179e\"], [0.4444444444444444, \"#bd3786\"], [0.5555555555555556, \"#d8576b\"], [0.6666666666666666, \"#ed7953\"], [0.7777777777777778, \"#fb9f3a\"], [0.8888888888888888, \"#fdca26\"], [1.0, \"#f0f921\"]], \"type\": \"heatmapgl\"}], \"histogram\": [{\"marker\": {\"colorbar\": {\"outlinewidth\": 0, \"ticks\": \"\"}}, \"type\": \"histogram\"}], \"histogram2d\": [{\"colorbar\": {\"outlinewidth\": 0, \"ticks\": \"\"}, \"colorscale\": [[0.0, \"#0d0887\"], [0.1111111111111111, \"#46039f\"], [0.2222222222222222, \"#7201a8\"], [0.3333333333333333, \"#9c179e\"], [0.4444444444444444, \"#bd3786\"], [0.5555555555555556, \"#d8576b\"], [0.6666666666666666, \"#ed7953\"], [0.7777777777777778, \"#fb9f3a\"], [0.8888888888888888, \"#fdca26\"], [1.0, \"#f0f921\"]], \"type\": \"histogram2d\"}], \"histogram2dcontour\": [{\"colorbar\": {\"outlinewidth\": 0, \"ticks\": \"\"}, \"colorscale\": [[0.0, \"#0d0887\"], [0.1111111111111111, \"#46039f\"], [0.2222222222222222, \"#7201a8\"], [0.3333333333333333, \"#9c179e\"], [0.4444444444444444, \"#bd3786\"], [0.5555555555555556, \"#d8576b\"], [0.6666666666666666, \"#ed7953\"], [0.7777777777777778, \"#fb9f3a\"], [0.8888888888888888, \"#fdca26\"], [1.0, \"#f0f921\"]], \"type\": \"histogram2dcontour\"}], \"mesh3d\": [{\"colorbar\": {\"outlinewidth\": 0, \"ticks\": \"\"}, \"type\": \"mesh3d\"}], \"parcoords\": [{\"line\": {\"colorbar\": {\"outlinewidth\": 0, \"ticks\": \"\"}}, \"type\": \"parcoords\"}], \"pie\": [{\"automargin\": true, \"type\": \"pie\"}], \"scatter\": [{\"marker\": {\"colorbar\": {\"outlinewidth\": 0, \"ticks\": \"\"}}, \"type\": \"scatter\"}], \"scatter3d\": [{\"line\": {\"colorbar\": {\"outlinewidth\": 0, \"ticks\": \"\"}}, \"marker\": {\"colorbar\": {\"outlinewidth\": 0, \"ticks\": \"\"}}, \"type\": \"scatter3d\"}], \"scattercarpet\": [{\"marker\": {\"colorbar\": {\"outlinewidth\": 0, \"ticks\": \"\"}}, \"type\": \"scattercarpet\"}], \"scattergeo\": [{\"marker\": {\"colorbar\": {\"outlinewidth\": 0, \"ticks\": \"\"}}, \"type\": \"scattergeo\"}], \"scattergl\": [{\"marker\": {\"colorbar\": {\"outlinewidth\": 0, \"ticks\": \"\"}}, \"type\": \"scattergl\"}], \"scattermapbox\": [{\"marker\": {\"colorbar\": {\"outlinewidth\": 0, \"ticks\": \"\"}}, \"type\": \"scattermapbox\"}], \"scatterpolar\": [{\"marker\": {\"colorbar\": {\"outlinewidth\": 0, \"ticks\": \"\"}}, \"type\": \"scatterpolar\"}], \"scatterpolargl\": [{\"marker\": {\"colorbar\": {\"outlinewidth\": 0, \"ticks\": \"\"}}, \"type\": \"scatterpolargl\"}], \"scatterternary\": [{\"marker\": {\"colorbar\": {\"outlinewidth\": 0, \"ticks\": \"\"}}, \"type\": \"scatterternary\"}], \"surface\": [{\"colorbar\": {\"outlinewidth\": 0, \"ticks\": \"\"}, \"colorscale\": [[0.0, \"#0d0887\"], [0.1111111111111111, \"#46039f\"], [0.2222222222222222, \"#7201a8\"], [0.3333333333333333, \"#9c179e\"], [0.4444444444444444, \"#bd3786\"], [0.5555555555555556, \"#d8576b\"], [0.6666666666666666, \"#ed7953\"], [0.7777777777777778, \"#fb9f3a\"], [0.8888888888888888, \"#fdca26\"], [1.0, \"#f0f921\"]], \"type\": \"surface\"}], \"table\": [{\"cells\": {\"fill\": {\"color\": \"#EBF0F8\"}, \"line\": {\"color\": \"white\"}}, \"header\": {\"fill\": {\"color\": \"#C8D4E3\"}, \"line\": {\"color\": \"white\"}}, \"type\": \"table\"}]}, \"layout\": {\"annotationdefaults\": {\"arrowcolor\": \"#2a3f5f\", \"arrowhead\": 0, \"arrowwidth\": 1}, \"coloraxis\": {\"colorbar\": {\"outlinewidth\": 0, \"ticks\": \"\"}}, \"colorscale\": {\"diverging\": [[0, \"#8e0152\"], [0.1, \"#c51b7d\"], [0.2, \"#de77ae\"], [0.3, \"#f1b6da\"], [0.4, \"#fde0ef\"], [0.5, \"#f7f7f7\"], [0.6, \"#e6f5d0\"], [0.7, \"#b8e186\"], [0.8, \"#7fbc41\"], [0.9, \"#4d9221\"], [1, \"#276419\"]], \"sequential\": [[0.0, \"#0d0887\"], [0.1111111111111111, \"#46039f\"], [0.2222222222222222, \"#7201a8\"], [0.3333333333333333, \"#9c179e\"], [0.4444444444444444, \"#bd3786\"], [0.5555555555555556, \"#d8576b\"], [0.6666666666666666, \"#ed7953\"], [0.7777777777777778, \"#fb9f3a\"], [0.8888888888888888, \"#fdca26\"], [1.0, \"#f0f921\"]], \"sequentialminus\": [[0.0, \"#0d0887\"], [0.1111111111111111, \"#46039f\"], [0.2222222222222222, \"#7201a8\"], [0.3333333333333333, \"#9c179e\"], [0.4444444444444444, \"#bd3786\"], [0.5555555555555556, \"#d8576b\"], [0.6666666666666666, \"#ed7953\"], [0.7777777777777778, \"#fb9f3a\"], [0.8888888888888888, \"#fdca26\"], [1.0, \"#f0f921\"]]}, \"colorway\": [\"#636efa\", \"#EF553B\", \"#00cc96\", \"#ab63fa\", \"#FFA15A\", \"#19d3f3\", \"#FF6692\", \"#B6E880\", \"#FF97FF\", \"#FECB52\"], \"font\": {\"color\": \"#2a3f5f\"}, \"geo\": {\"bgcolor\": \"white\", \"lakecolor\": \"white\", \"landcolor\": \"#E5ECF6\", \"showlakes\": true, \"showland\": true, \"subunitcolor\": \"white\"}, \"hoverlabel\": {\"align\": \"left\"}, \"hovermode\": \"closest\", \"mapbox\": {\"style\": \"light\"}, \"paper_bgcolor\": \"white\", \"plot_bgcolor\": \"#E5ECF6\", \"polar\": {\"angularaxis\": {\"gridcolor\": \"white\", \"linecolor\": \"white\", \"ticks\": \"\"}, \"bgcolor\": \"#E5ECF6\", \"radialaxis\": {\"gridcolor\": \"white\", \"linecolor\": \"white\", \"ticks\": \"\"}}, \"scene\": {\"xaxis\": {\"backgroundcolor\": \"#E5ECF6\", \"gridcolor\": \"white\", \"gridwidth\": 2, \"linecolor\": \"white\", \"showbackground\": true, \"ticks\": \"\", \"zerolinecolor\": \"white\"}, \"yaxis\": {\"backgroundcolor\": \"#E5ECF6\", \"gridcolor\": \"white\", \"gridwidth\": 2, \"linecolor\": \"white\", \"showbackground\": true, \"ticks\": \"\", \"zerolinecolor\": \"white\"}, \"zaxis\": {\"backgroundcolor\": \"#E5ECF6\", \"gridcolor\": \"white\", \"gridwidth\": 2, \"linecolor\": \"white\", \"showbackground\": true, \"ticks\": \"\", \"zerolinecolor\": \"white\"}}, \"shapedefaults\": {\"line\": {\"color\": \"#2a3f5f\"}}, \"ternary\": {\"aaxis\": {\"gridcolor\": \"white\", \"linecolor\": \"white\", \"ticks\": \"\"}, \"baxis\": {\"gridcolor\": \"white\", \"linecolor\": \"white\", \"ticks\": \"\"}, \"bgcolor\": \"#E5ECF6\", \"caxis\": {\"gridcolor\": \"white\", \"linecolor\": \"white\", \"ticks\": \"\"}}, \"title\": {\"x\": 0.05}, \"xaxis\": {\"automargin\": true, \"gridcolor\": \"white\", \"linecolor\": \"white\", \"ticks\": \"\", \"title\": {\"standoff\": 15}, \"zerolinecolor\": \"white\", \"zerolinewidth\": 2}, \"yaxis\": {\"automargin\": true, \"gridcolor\": \"white\", \"linecolor\": \"white\", \"ticks\": \"\", \"title\": {\"standoff\": 15}, \"zerolinecolor\": \"white\", \"zerolinewidth\": 2}}}},\n",
       "                        {\"responsive\": true}\n",
       "                    ).then(function(){\n",
       "                            \n",
       "var gd = document.getElementById('07de397a-3682-43c7-82aa-d588c4e277f6');\n",
       "var x = new MutationObserver(function (mutations, observer) {{\n",
       "        var display = window.getComputedStyle(gd).display;\n",
       "        if (!display || display === 'none') {{\n",
       "            console.log([gd, 'removed!']);\n",
       "            Plotly.purge(gd);\n",
       "            observer.disconnect();\n",
       "        }}\n",
       "}});\n",
       "\n",
       "// Listen for the removal of the full notebook cells\n",
       "var notebookContainer = gd.closest('#notebook-container');\n",
       "if (notebookContainer) {{\n",
       "    x.observe(notebookContainer, {childList: true});\n",
       "}}\n",
       "\n",
       "// Listen for the clearing of the current output cell\n",
       "var outputEl = gd.closest('.output');\n",
       "if (outputEl) {{\n",
       "    x.observe(outputEl, {childList: true});\n",
       "}}\n",
       "\n",
       "                        })\n",
       "                };\n",
       "                });\n",
       "            </script>\n",
       "        </div>"
      ]
     },
     "metadata": {},
     "output_type": "display_data"
    }
   ],
   "source": [
    "# Plotting the map\n",
    "\n",
    "px.scatter_geo(joined, lat = 'latitude', lon = 'longitude', color='category', hover_name=\"winery\", projection=\"natural earth\")"
   ]
  },
  {
   "cell_type": "code",
   "execution_count": 145,
   "metadata": {},
   "outputs": [
    {
     "data": {
      "application/vnd.plotly.v1+json": {
       "config": {
        "plotlyServerURL": "https://plot.ly"
       },
       "data": [
        {
         "hoverlabel": {
          "namelength": 0
         },
         "hovertemplate": "category=luxury<br>points=%{r}<br>country=%{theta}",
         "legendgroup": "category=luxury",
         "marker": {
          "color": "#fdca26"
         },
         "name": "category=luxury",
         "r": [
          100,
          99,
          100
         ],
         "showlegend": true,
         "subplot": "polar",
         "theta": [
          "France",
          "Australia",
          "France"
         ],
         "type": "barpolar"
        },
        {
         "hoverlabel": {
          "namelength": 0
         },
         "hovertemplate": "category=very_expensive<br>points=%{r}<br>country=%{theta}",
         "legendgroup": "category=very_expensive",
         "marker": {
          "color": "#fb9f3a"
         },
         "name": "category=very_expensive",
         "r": [
          98,
          99,
          98
         ],
         "showlegend": true,
         "subplot": "polar",
         "theta": [
          "France",
          "Italy",
          "France"
         ],
         "type": "barpolar"
        },
        {
         "hoverlabel": {
          "namelength": 0
         },
         "hovertemplate": "category=expensive<br>points=%{r}<br>country=%{theta}",
         "legendgroup": "category=expensive",
         "marker": {
          "color": "#ed7953"
         },
         "name": "category=expensive",
         "r": [
          98,
          98,
          98
         ],
         "showlegend": true,
         "subplot": "polar",
         "theta": [
          "Italy",
          "Austria",
          "USA"
         ],
         "type": "barpolar"
        },
        {
         "hoverlabel": {
          "namelength": 0
         },
         "hovertemplate": "category=medium<br>points=%{r}<br>country=%{theta}",
         "legendgroup": "category=medium",
         "marker": {
          "color": "#d8576b"
         },
         "name": "category=medium",
         "r": [
          99,
          98,
          98
         ],
         "showlegend": true,
         "subplot": "polar",
         "theta": [
          "USA",
          "USA",
          "USA"
         ],
         "type": "barpolar"
        },
        {
         "hoverlabel": {
          "namelength": 0
         },
         "hovertemplate": "category=low<br>points=%{r}<br>country=%{theta}",
         "legendgroup": "category=low",
         "marker": {
          "color": "#bd3786"
         },
         "name": "category=low",
         "r": [
          95,
          95,
          94
         ],
         "showlegend": true,
         "subplot": "polar",
         "theta": [
          "France",
          "USA",
          "Italy"
         ],
         "type": "barpolar"
        },
        {
         "hoverlabel": {
          "namelength": 0
         },
         "hovertemplate": "category=cheap<br>points=%{r}<br>country=%{theta}",
         "legendgroup": "category=cheap",
         "marker": {
          "color": "#9c179e"
         },
         "name": "category=cheap",
         "r": [
          94,
          94,
          94
         ],
         "showlegend": true,
         "subplot": "polar",
         "theta": [
          "Portugal",
          "Spain",
          "Spain"
         ],
         "type": "barpolar"
        }
       ],
       "layout": {
        "barmode": "relative",
        "height": 600,
        "legend": {
         "tracegroupgap": 0
        },
        "margin": {
         "t": 60
        },
        "polar": {
         "angularaxis": {
          "direction": "clockwise",
          "rotation": 90
         },
         "domain": {
          "x": [
           0,
           1
          ],
          "y": [
           0,
           1
          ]
         }
        },
        "template": {
         "data": {
          "bar": [
           {
            "error_x": {
             "color": "#f2f5fa"
            },
            "error_y": {
             "color": "#f2f5fa"
            },
            "marker": {
             "line": {
              "color": "rgb(17,17,17)",
              "width": 0.5
             }
            },
            "type": "bar"
           }
          ],
          "barpolar": [
           {
            "marker": {
             "line": {
              "color": "rgb(17,17,17)",
              "width": 0.5
             }
            },
            "type": "barpolar"
           }
          ],
          "carpet": [
           {
            "aaxis": {
             "endlinecolor": "#A2B1C6",
             "gridcolor": "#506784",
             "linecolor": "#506784",
             "minorgridcolor": "#506784",
             "startlinecolor": "#A2B1C6"
            },
            "baxis": {
             "endlinecolor": "#A2B1C6",
             "gridcolor": "#506784",
             "linecolor": "#506784",
             "minorgridcolor": "#506784",
             "startlinecolor": "#A2B1C6"
            },
            "type": "carpet"
           }
          ],
          "choropleth": [
           {
            "colorbar": {
             "outlinewidth": 0,
             "ticks": ""
            },
            "type": "choropleth"
           }
          ],
          "contour": [
           {
            "colorbar": {
             "outlinewidth": 0,
             "ticks": ""
            },
            "colorscale": [
             [
              0,
              "#0d0887"
             ],
             [
              0.1111111111111111,
              "#46039f"
             ],
             [
              0.2222222222222222,
              "#7201a8"
             ],
             [
              0.3333333333333333,
              "#9c179e"
             ],
             [
              0.4444444444444444,
              "#bd3786"
             ],
             [
              0.5555555555555556,
              "#d8576b"
             ],
             [
              0.6666666666666666,
              "#ed7953"
             ],
             [
              0.7777777777777778,
              "#fb9f3a"
             ],
             [
              0.8888888888888888,
              "#fdca26"
             ],
             [
              1,
              "#f0f921"
             ]
            ],
            "type": "contour"
           }
          ],
          "contourcarpet": [
           {
            "colorbar": {
             "outlinewidth": 0,
             "ticks": ""
            },
            "type": "contourcarpet"
           }
          ],
          "heatmap": [
           {
            "colorbar": {
             "outlinewidth": 0,
             "ticks": ""
            },
            "colorscale": [
             [
              0,
              "#0d0887"
             ],
             [
              0.1111111111111111,
              "#46039f"
             ],
             [
              0.2222222222222222,
              "#7201a8"
             ],
             [
              0.3333333333333333,
              "#9c179e"
             ],
             [
              0.4444444444444444,
              "#bd3786"
             ],
             [
              0.5555555555555556,
              "#d8576b"
             ],
             [
              0.6666666666666666,
              "#ed7953"
             ],
             [
              0.7777777777777778,
              "#fb9f3a"
             ],
             [
              0.8888888888888888,
              "#fdca26"
             ],
             [
              1,
              "#f0f921"
             ]
            ],
            "type": "heatmap"
           }
          ],
          "heatmapgl": [
           {
            "colorbar": {
             "outlinewidth": 0,
             "ticks": ""
            },
            "colorscale": [
             [
              0,
              "#0d0887"
             ],
             [
              0.1111111111111111,
              "#46039f"
             ],
             [
              0.2222222222222222,
              "#7201a8"
             ],
             [
              0.3333333333333333,
              "#9c179e"
             ],
             [
              0.4444444444444444,
              "#bd3786"
             ],
             [
              0.5555555555555556,
              "#d8576b"
             ],
             [
              0.6666666666666666,
              "#ed7953"
             ],
             [
              0.7777777777777778,
              "#fb9f3a"
             ],
             [
              0.8888888888888888,
              "#fdca26"
             ],
             [
              1,
              "#f0f921"
             ]
            ],
            "type": "heatmapgl"
           }
          ],
          "histogram": [
           {
            "marker": {
             "colorbar": {
              "outlinewidth": 0,
              "ticks": ""
             }
            },
            "type": "histogram"
           }
          ],
          "histogram2d": [
           {
            "colorbar": {
             "outlinewidth": 0,
             "ticks": ""
            },
            "colorscale": [
             [
              0,
              "#0d0887"
             ],
             [
              0.1111111111111111,
              "#46039f"
             ],
             [
              0.2222222222222222,
              "#7201a8"
             ],
             [
              0.3333333333333333,
              "#9c179e"
             ],
             [
              0.4444444444444444,
              "#bd3786"
             ],
             [
              0.5555555555555556,
              "#d8576b"
             ],
             [
              0.6666666666666666,
              "#ed7953"
             ],
             [
              0.7777777777777778,
              "#fb9f3a"
             ],
             [
              0.8888888888888888,
              "#fdca26"
             ],
             [
              1,
              "#f0f921"
             ]
            ],
            "type": "histogram2d"
           }
          ],
          "histogram2dcontour": [
           {
            "colorbar": {
             "outlinewidth": 0,
             "ticks": ""
            },
            "colorscale": [
             [
              0,
              "#0d0887"
             ],
             [
              0.1111111111111111,
              "#46039f"
             ],
             [
              0.2222222222222222,
              "#7201a8"
             ],
             [
              0.3333333333333333,
              "#9c179e"
             ],
             [
              0.4444444444444444,
              "#bd3786"
             ],
             [
              0.5555555555555556,
              "#d8576b"
             ],
             [
              0.6666666666666666,
              "#ed7953"
             ],
             [
              0.7777777777777778,
              "#fb9f3a"
             ],
             [
              0.8888888888888888,
              "#fdca26"
             ],
             [
              1,
              "#f0f921"
             ]
            ],
            "type": "histogram2dcontour"
           }
          ],
          "mesh3d": [
           {
            "colorbar": {
             "outlinewidth": 0,
             "ticks": ""
            },
            "type": "mesh3d"
           }
          ],
          "parcoords": [
           {
            "line": {
             "colorbar": {
              "outlinewidth": 0,
              "ticks": ""
             }
            },
            "type": "parcoords"
           }
          ],
          "pie": [
           {
            "automargin": true,
            "type": "pie"
           }
          ],
          "scatter": [
           {
            "marker": {
             "line": {
              "color": "#283442"
             }
            },
            "type": "scatter"
           }
          ],
          "scatter3d": [
           {
            "line": {
             "colorbar": {
              "outlinewidth": 0,
              "ticks": ""
             }
            },
            "marker": {
             "colorbar": {
              "outlinewidth": 0,
              "ticks": ""
             }
            },
            "type": "scatter3d"
           }
          ],
          "scattercarpet": [
           {
            "marker": {
             "colorbar": {
              "outlinewidth": 0,
              "ticks": ""
             }
            },
            "type": "scattercarpet"
           }
          ],
          "scattergeo": [
           {
            "marker": {
             "colorbar": {
              "outlinewidth": 0,
              "ticks": ""
             }
            },
            "type": "scattergeo"
           }
          ],
          "scattergl": [
           {
            "marker": {
             "line": {
              "color": "#283442"
             }
            },
            "type": "scattergl"
           }
          ],
          "scattermapbox": [
           {
            "marker": {
             "colorbar": {
              "outlinewidth": 0,
              "ticks": ""
             }
            },
            "type": "scattermapbox"
           }
          ],
          "scatterpolar": [
           {
            "marker": {
             "colorbar": {
              "outlinewidth": 0,
              "ticks": ""
             }
            },
            "type": "scatterpolar"
           }
          ],
          "scatterpolargl": [
           {
            "marker": {
             "colorbar": {
              "outlinewidth": 0,
              "ticks": ""
             }
            },
            "type": "scatterpolargl"
           }
          ],
          "scatterternary": [
           {
            "marker": {
             "colorbar": {
              "outlinewidth": 0,
              "ticks": ""
             }
            },
            "type": "scatterternary"
           }
          ],
          "surface": [
           {
            "colorbar": {
             "outlinewidth": 0,
             "ticks": ""
            },
            "colorscale": [
             [
              0,
              "#0d0887"
             ],
             [
              0.1111111111111111,
              "#46039f"
             ],
             [
              0.2222222222222222,
              "#7201a8"
             ],
             [
              0.3333333333333333,
              "#9c179e"
             ],
             [
              0.4444444444444444,
              "#bd3786"
             ],
             [
              0.5555555555555556,
              "#d8576b"
             ],
             [
              0.6666666666666666,
              "#ed7953"
             ],
             [
              0.7777777777777778,
              "#fb9f3a"
             ],
             [
              0.8888888888888888,
              "#fdca26"
             ],
             [
              1,
              "#f0f921"
             ]
            ],
            "type": "surface"
           }
          ],
          "table": [
           {
            "cells": {
             "fill": {
              "color": "#506784"
             },
             "line": {
              "color": "rgb(17,17,17)"
             }
            },
            "header": {
             "fill": {
              "color": "#2a3f5f"
             },
             "line": {
              "color": "rgb(17,17,17)"
             }
            },
            "type": "table"
           }
          ]
         },
         "layout": {
          "annotationdefaults": {
           "arrowcolor": "#f2f5fa",
           "arrowhead": 0,
           "arrowwidth": 1
          },
          "coloraxis": {
           "colorbar": {
            "outlinewidth": 0,
            "ticks": ""
           }
          },
          "colorscale": {
           "diverging": [
            [
             0,
             "#8e0152"
            ],
            [
             0.1,
             "#c51b7d"
            ],
            [
             0.2,
             "#de77ae"
            ],
            [
             0.3,
             "#f1b6da"
            ],
            [
             0.4,
             "#fde0ef"
            ],
            [
             0.5,
             "#f7f7f7"
            ],
            [
             0.6,
             "#e6f5d0"
            ],
            [
             0.7,
             "#b8e186"
            ],
            [
             0.8,
             "#7fbc41"
            ],
            [
             0.9,
             "#4d9221"
            ],
            [
             1,
             "#276419"
            ]
           ],
           "sequential": [
            [
             0,
             "#0d0887"
            ],
            [
             0.1111111111111111,
             "#46039f"
            ],
            [
             0.2222222222222222,
             "#7201a8"
            ],
            [
             0.3333333333333333,
             "#9c179e"
            ],
            [
             0.4444444444444444,
             "#bd3786"
            ],
            [
             0.5555555555555556,
             "#d8576b"
            ],
            [
             0.6666666666666666,
             "#ed7953"
            ],
            [
             0.7777777777777778,
             "#fb9f3a"
            ],
            [
             0.8888888888888888,
             "#fdca26"
            ],
            [
             1,
             "#f0f921"
            ]
           ],
           "sequentialminus": [
            [
             0,
             "#0d0887"
            ],
            [
             0.1111111111111111,
             "#46039f"
            ],
            [
             0.2222222222222222,
             "#7201a8"
            ],
            [
             0.3333333333333333,
             "#9c179e"
            ],
            [
             0.4444444444444444,
             "#bd3786"
            ],
            [
             0.5555555555555556,
             "#d8576b"
            ],
            [
             0.6666666666666666,
             "#ed7953"
            ],
            [
             0.7777777777777778,
             "#fb9f3a"
            ],
            [
             0.8888888888888888,
             "#fdca26"
            ],
            [
             1,
             "#f0f921"
            ]
           ]
          },
          "colorway": [
           "#636efa",
           "#EF553B",
           "#00cc96",
           "#ab63fa",
           "#FFA15A",
           "#19d3f3",
           "#FF6692",
           "#B6E880",
           "#FF97FF",
           "#FECB52"
          ],
          "font": {
           "color": "#f2f5fa"
          },
          "geo": {
           "bgcolor": "rgb(17,17,17)",
           "lakecolor": "rgb(17,17,17)",
           "landcolor": "rgb(17,17,17)",
           "showlakes": true,
           "showland": true,
           "subunitcolor": "#506784"
          },
          "hoverlabel": {
           "align": "left"
          },
          "hovermode": "closest",
          "mapbox": {
           "style": "dark"
          },
          "paper_bgcolor": "rgb(17,17,17)",
          "plot_bgcolor": "rgb(17,17,17)",
          "polar": {
           "angularaxis": {
            "gridcolor": "#506784",
            "linecolor": "#506784",
            "ticks": ""
           },
           "bgcolor": "rgb(17,17,17)",
           "radialaxis": {
            "gridcolor": "#506784",
            "linecolor": "#506784",
            "ticks": ""
           }
          },
          "scene": {
           "xaxis": {
            "backgroundcolor": "rgb(17,17,17)",
            "gridcolor": "#506784",
            "gridwidth": 2,
            "linecolor": "#506784",
            "showbackground": true,
            "ticks": "",
            "zerolinecolor": "#C8D4E3"
           },
           "yaxis": {
            "backgroundcolor": "rgb(17,17,17)",
            "gridcolor": "#506784",
            "gridwidth": 2,
            "linecolor": "#506784",
            "showbackground": true,
            "ticks": "",
            "zerolinecolor": "#C8D4E3"
           },
           "zaxis": {
            "backgroundcolor": "rgb(17,17,17)",
            "gridcolor": "#506784",
            "gridwidth": 2,
            "linecolor": "#506784",
            "showbackground": true,
            "ticks": "",
            "zerolinecolor": "#C8D4E3"
           }
          },
          "shapedefaults": {
           "line": {
            "color": "#f2f5fa"
           }
          },
          "sliderdefaults": {
           "bgcolor": "#C8D4E3",
           "bordercolor": "rgb(17,17,17)",
           "borderwidth": 1,
           "tickwidth": 0
          },
          "ternary": {
           "aaxis": {
            "gridcolor": "#506784",
            "linecolor": "#506784",
            "ticks": ""
           },
           "baxis": {
            "gridcolor": "#506784",
            "linecolor": "#506784",
            "ticks": ""
           },
           "bgcolor": "rgb(17,17,17)",
           "caxis": {
            "gridcolor": "#506784",
            "linecolor": "#506784",
            "ticks": ""
           }
          },
          "title": {
           "x": 0.05
          },
          "updatemenudefaults": {
           "bgcolor": "#506784",
           "borderwidth": 0
          },
          "xaxis": {
           "automargin": true,
           "gridcolor": "#283442",
           "linecolor": "#506784",
           "ticks": "",
           "title": {
            "standoff": 15
           },
           "zerolinecolor": "#283442",
           "zerolinewidth": 2
          },
          "yaxis": {
           "automargin": true,
           "gridcolor": "#283442",
           "linecolor": "#506784",
           "ticks": "",
           "title": {
            "standoff": 15
           },
           "zerolinecolor": "#283442",
           "zerolinewidth": 2
          }
         }
        }
       }
      },
      "text/html": [
       "<div>\n",
       "        \n",
       "        \n",
       "            <div id=\"d750a3e3-f9ec-47a3-826c-b843fed8f75f\" class=\"plotly-graph-div\" style=\"height:600px; width:100%;\"></div>\n",
       "            <script type=\"text/javascript\">\n",
       "                require([\"plotly\"], function(Plotly) {\n",
       "                    window.PLOTLYENV=window.PLOTLYENV || {};\n",
       "                    \n",
       "                if (document.getElementById(\"d750a3e3-f9ec-47a3-826c-b843fed8f75f\")) {\n",
       "                    Plotly.newPlot(\n",
       "                        'd750a3e3-f9ec-47a3-826c-b843fed8f75f',\n",
       "                        [{\"hoverlabel\": {\"namelength\": 0}, \"hovertemplate\": \"category=luxury<br>points=%{r}<br>country=%{theta}\", \"legendgroup\": \"category=luxury\", \"marker\": {\"color\": \"#fdca26\"}, \"name\": \"category=luxury\", \"r\": [100, 99, 100], \"showlegend\": true, \"subplot\": \"polar\", \"theta\": [\"France\", \"Australia\", \"France\"], \"type\": \"barpolar\"}, {\"hoverlabel\": {\"namelength\": 0}, \"hovertemplate\": \"category=very_expensive<br>points=%{r}<br>country=%{theta}\", \"legendgroup\": \"category=very_expensive\", \"marker\": {\"color\": \"#fb9f3a\"}, \"name\": \"category=very_expensive\", \"r\": [98, 99, 98], \"showlegend\": true, \"subplot\": \"polar\", \"theta\": [\"France\", \"Italy\", \"France\"], \"type\": \"barpolar\"}, {\"hoverlabel\": {\"namelength\": 0}, \"hovertemplate\": \"category=expensive<br>points=%{r}<br>country=%{theta}\", \"legendgroup\": \"category=expensive\", \"marker\": {\"color\": \"#ed7953\"}, \"name\": \"category=expensive\", \"r\": [98, 98, 98], \"showlegend\": true, \"subplot\": \"polar\", \"theta\": [\"Italy\", \"Austria\", \"USA\"], \"type\": \"barpolar\"}, {\"hoverlabel\": {\"namelength\": 0}, \"hovertemplate\": \"category=medium<br>points=%{r}<br>country=%{theta}\", \"legendgroup\": \"category=medium\", \"marker\": {\"color\": \"#d8576b\"}, \"name\": \"category=medium\", \"r\": [99, 98, 98], \"showlegend\": true, \"subplot\": \"polar\", \"theta\": [\"USA\", \"USA\", \"USA\"], \"type\": \"barpolar\"}, {\"hoverlabel\": {\"namelength\": 0}, \"hovertemplate\": \"category=low<br>points=%{r}<br>country=%{theta}\", \"legendgroup\": \"category=low\", \"marker\": {\"color\": \"#bd3786\"}, \"name\": \"category=low\", \"r\": [95, 95, 94], \"showlegend\": true, \"subplot\": \"polar\", \"theta\": [\"France\", \"USA\", \"Italy\"], \"type\": \"barpolar\"}, {\"hoverlabel\": {\"namelength\": 0}, \"hovertemplate\": \"category=cheap<br>points=%{r}<br>country=%{theta}\", \"legendgroup\": \"category=cheap\", \"marker\": {\"color\": \"#9c179e\"}, \"name\": \"category=cheap\", \"r\": [94, 94, 94], \"showlegend\": true, \"subplot\": \"polar\", \"theta\": [\"Portugal\", \"Spain\", \"Spain\"], \"type\": \"barpolar\"}],\n",
       "                        {\"barmode\": \"relative\", \"height\": 600, \"legend\": {\"tracegroupgap\": 0}, \"margin\": {\"t\": 60}, \"polar\": {\"angularaxis\": {\"direction\": \"clockwise\", \"rotation\": 90}, \"domain\": {\"x\": [0.0, 1.0], \"y\": [0.0, 1.0]}}, \"template\": {\"data\": {\"bar\": [{\"error_x\": {\"color\": \"#f2f5fa\"}, \"error_y\": {\"color\": \"#f2f5fa\"}, \"marker\": {\"line\": {\"color\": \"rgb(17,17,17)\", \"width\": 0.5}}, \"type\": \"bar\"}], \"barpolar\": [{\"marker\": {\"line\": {\"color\": \"rgb(17,17,17)\", \"width\": 0.5}}, \"type\": \"barpolar\"}], \"carpet\": [{\"aaxis\": {\"endlinecolor\": \"#A2B1C6\", \"gridcolor\": \"#506784\", \"linecolor\": \"#506784\", \"minorgridcolor\": \"#506784\", \"startlinecolor\": \"#A2B1C6\"}, \"baxis\": {\"endlinecolor\": \"#A2B1C6\", \"gridcolor\": \"#506784\", \"linecolor\": \"#506784\", \"minorgridcolor\": \"#506784\", \"startlinecolor\": \"#A2B1C6\"}, \"type\": \"carpet\"}], \"choropleth\": [{\"colorbar\": {\"outlinewidth\": 0, \"ticks\": \"\"}, \"type\": \"choropleth\"}], \"contour\": [{\"colorbar\": {\"outlinewidth\": 0, \"ticks\": \"\"}, \"colorscale\": [[0.0, \"#0d0887\"], [0.1111111111111111, \"#46039f\"], [0.2222222222222222, \"#7201a8\"], [0.3333333333333333, \"#9c179e\"], [0.4444444444444444, \"#bd3786\"], [0.5555555555555556, \"#d8576b\"], [0.6666666666666666, \"#ed7953\"], [0.7777777777777778, \"#fb9f3a\"], [0.8888888888888888, \"#fdca26\"], [1.0, \"#f0f921\"]], \"type\": \"contour\"}], \"contourcarpet\": [{\"colorbar\": {\"outlinewidth\": 0, \"ticks\": \"\"}, \"type\": \"contourcarpet\"}], \"heatmap\": [{\"colorbar\": {\"outlinewidth\": 0, \"ticks\": \"\"}, \"colorscale\": [[0.0, \"#0d0887\"], [0.1111111111111111, \"#46039f\"], [0.2222222222222222, \"#7201a8\"], [0.3333333333333333, \"#9c179e\"], [0.4444444444444444, \"#bd3786\"], [0.5555555555555556, \"#d8576b\"], [0.6666666666666666, \"#ed7953\"], [0.7777777777777778, \"#fb9f3a\"], [0.8888888888888888, \"#fdca26\"], [1.0, \"#f0f921\"]], \"type\": \"heatmap\"}], \"heatmapgl\": [{\"colorbar\": {\"outlinewidth\": 0, \"ticks\": \"\"}, \"colorscale\": [[0.0, \"#0d0887\"], [0.1111111111111111, \"#46039f\"], [0.2222222222222222, \"#7201a8\"], [0.3333333333333333, \"#9c179e\"], [0.4444444444444444, \"#bd3786\"], [0.5555555555555556, \"#d8576b\"], [0.6666666666666666, \"#ed7953\"], [0.7777777777777778, \"#fb9f3a\"], [0.8888888888888888, \"#fdca26\"], [1.0, \"#f0f921\"]], \"type\": \"heatmapgl\"}], \"histogram\": [{\"marker\": {\"colorbar\": {\"outlinewidth\": 0, \"ticks\": \"\"}}, \"type\": \"histogram\"}], \"histogram2d\": [{\"colorbar\": {\"outlinewidth\": 0, \"ticks\": \"\"}, \"colorscale\": [[0.0, \"#0d0887\"], [0.1111111111111111, \"#46039f\"], [0.2222222222222222, \"#7201a8\"], [0.3333333333333333, \"#9c179e\"], [0.4444444444444444, \"#bd3786\"], [0.5555555555555556, \"#d8576b\"], [0.6666666666666666, \"#ed7953\"], [0.7777777777777778, \"#fb9f3a\"], [0.8888888888888888, \"#fdca26\"], [1.0, \"#f0f921\"]], \"type\": \"histogram2d\"}], \"histogram2dcontour\": [{\"colorbar\": {\"outlinewidth\": 0, \"ticks\": \"\"}, \"colorscale\": [[0.0, \"#0d0887\"], [0.1111111111111111, \"#46039f\"], [0.2222222222222222, \"#7201a8\"], [0.3333333333333333, \"#9c179e\"], [0.4444444444444444, \"#bd3786\"], [0.5555555555555556, \"#d8576b\"], [0.6666666666666666, \"#ed7953\"], [0.7777777777777778, \"#fb9f3a\"], [0.8888888888888888, \"#fdca26\"], [1.0, \"#f0f921\"]], \"type\": \"histogram2dcontour\"}], \"mesh3d\": [{\"colorbar\": {\"outlinewidth\": 0, \"ticks\": \"\"}, \"type\": \"mesh3d\"}], \"parcoords\": [{\"line\": {\"colorbar\": {\"outlinewidth\": 0, \"ticks\": \"\"}}, \"type\": \"parcoords\"}], \"pie\": [{\"automargin\": true, \"type\": \"pie\"}], \"scatter\": [{\"marker\": {\"line\": {\"color\": \"#283442\"}}, \"type\": \"scatter\"}], \"scatter3d\": [{\"line\": {\"colorbar\": {\"outlinewidth\": 0, \"ticks\": \"\"}}, \"marker\": {\"colorbar\": {\"outlinewidth\": 0, \"ticks\": \"\"}}, \"type\": \"scatter3d\"}], \"scattercarpet\": [{\"marker\": {\"colorbar\": {\"outlinewidth\": 0, \"ticks\": \"\"}}, \"type\": \"scattercarpet\"}], \"scattergeo\": [{\"marker\": {\"colorbar\": {\"outlinewidth\": 0, \"ticks\": \"\"}}, \"type\": \"scattergeo\"}], \"scattergl\": [{\"marker\": {\"line\": {\"color\": \"#283442\"}}, \"type\": \"scattergl\"}], \"scattermapbox\": [{\"marker\": {\"colorbar\": {\"outlinewidth\": 0, \"ticks\": \"\"}}, \"type\": \"scattermapbox\"}], \"scatterpolar\": [{\"marker\": {\"colorbar\": {\"outlinewidth\": 0, \"ticks\": \"\"}}, \"type\": \"scatterpolar\"}], \"scatterpolargl\": [{\"marker\": {\"colorbar\": {\"outlinewidth\": 0, \"ticks\": \"\"}}, \"type\": \"scatterpolargl\"}], \"scatterternary\": [{\"marker\": {\"colorbar\": {\"outlinewidth\": 0, \"ticks\": \"\"}}, \"type\": \"scatterternary\"}], \"surface\": [{\"colorbar\": {\"outlinewidth\": 0, \"ticks\": \"\"}, \"colorscale\": [[0.0, \"#0d0887\"], [0.1111111111111111, \"#46039f\"], [0.2222222222222222, \"#7201a8\"], [0.3333333333333333, \"#9c179e\"], [0.4444444444444444, \"#bd3786\"], [0.5555555555555556, \"#d8576b\"], [0.6666666666666666, \"#ed7953\"], [0.7777777777777778, \"#fb9f3a\"], [0.8888888888888888, \"#fdca26\"], [1.0, \"#f0f921\"]], \"type\": \"surface\"}], \"table\": [{\"cells\": {\"fill\": {\"color\": \"#506784\"}, \"line\": {\"color\": \"rgb(17,17,17)\"}}, \"header\": {\"fill\": {\"color\": \"#2a3f5f\"}, \"line\": {\"color\": \"rgb(17,17,17)\"}}, \"type\": \"table\"}]}, \"layout\": {\"annotationdefaults\": {\"arrowcolor\": \"#f2f5fa\", \"arrowhead\": 0, \"arrowwidth\": 1}, \"coloraxis\": {\"colorbar\": {\"outlinewidth\": 0, \"ticks\": \"\"}}, \"colorscale\": {\"diverging\": [[0, \"#8e0152\"], [0.1, \"#c51b7d\"], [0.2, \"#de77ae\"], [0.3, \"#f1b6da\"], [0.4, \"#fde0ef\"], [0.5, \"#f7f7f7\"], [0.6, \"#e6f5d0\"], [0.7, \"#b8e186\"], [0.8, \"#7fbc41\"], [0.9, \"#4d9221\"], [1, \"#276419\"]], \"sequential\": [[0.0, \"#0d0887\"], [0.1111111111111111, \"#46039f\"], [0.2222222222222222, \"#7201a8\"], [0.3333333333333333, \"#9c179e\"], [0.4444444444444444, \"#bd3786\"], [0.5555555555555556, \"#d8576b\"], [0.6666666666666666, \"#ed7953\"], [0.7777777777777778, \"#fb9f3a\"], [0.8888888888888888, \"#fdca26\"], [1.0, \"#f0f921\"]], \"sequentialminus\": [[0.0, \"#0d0887\"], [0.1111111111111111, \"#46039f\"], [0.2222222222222222, \"#7201a8\"], [0.3333333333333333, \"#9c179e\"], [0.4444444444444444, \"#bd3786\"], [0.5555555555555556, \"#d8576b\"], [0.6666666666666666, \"#ed7953\"], [0.7777777777777778, \"#fb9f3a\"], [0.8888888888888888, \"#fdca26\"], [1.0, \"#f0f921\"]]}, \"colorway\": [\"#636efa\", \"#EF553B\", \"#00cc96\", \"#ab63fa\", \"#FFA15A\", \"#19d3f3\", \"#FF6692\", \"#B6E880\", \"#FF97FF\", \"#FECB52\"], \"font\": {\"color\": \"#f2f5fa\"}, \"geo\": {\"bgcolor\": \"rgb(17,17,17)\", \"lakecolor\": \"rgb(17,17,17)\", \"landcolor\": \"rgb(17,17,17)\", \"showlakes\": true, \"showland\": true, \"subunitcolor\": \"#506784\"}, \"hoverlabel\": {\"align\": \"left\"}, \"hovermode\": \"closest\", \"mapbox\": {\"style\": \"dark\"}, \"paper_bgcolor\": \"rgb(17,17,17)\", \"plot_bgcolor\": \"rgb(17,17,17)\", \"polar\": {\"angularaxis\": {\"gridcolor\": \"#506784\", \"linecolor\": \"#506784\", \"ticks\": \"\"}, \"bgcolor\": \"rgb(17,17,17)\", \"radialaxis\": {\"gridcolor\": \"#506784\", \"linecolor\": \"#506784\", \"ticks\": \"\"}}, \"scene\": {\"xaxis\": {\"backgroundcolor\": \"rgb(17,17,17)\", \"gridcolor\": \"#506784\", \"gridwidth\": 2, \"linecolor\": \"#506784\", \"showbackground\": true, \"ticks\": \"\", \"zerolinecolor\": \"#C8D4E3\"}, \"yaxis\": {\"backgroundcolor\": \"rgb(17,17,17)\", \"gridcolor\": \"#506784\", \"gridwidth\": 2, \"linecolor\": \"#506784\", \"showbackground\": true, \"ticks\": \"\", \"zerolinecolor\": \"#C8D4E3\"}, \"zaxis\": {\"backgroundcolor\": \"rgb(17,17,17)\", \"gridcolor\": \"#506784\", \"gridwidth\": 2, \"linecolor\": \"#506784\", \"showbackground\": true, \"ticks\": \"\", \"zerolinecolor\": \"#C8D4E3\"}}, \"shapedefaults\": {\"line\": {\"color\": \"#f2f5fa\"}}, \"sliderdefaults\": {\"bgcolor\": \"#C8D4E3\", \"bordercolor\": \"rgb(17,17,17)\", \"borderwidth\": 1, \"tickwidth\": 0}, \"ternary\": {\"aaxis\": {\"gridcolor\": \"#506784\", \"linecolor\": \"#506784\", \"ticks\": \"\"}, \"baxis\": {\"gridcolor\": \"#506784\", \"linecolor\": \"#506784\", \"ticks\": \"\"}, \"bgcolor\": \"rgb(17,17,17)\", \"caxis\": {\"gridcolor\": \"#506784\", \"linecolor\": \"#506784\", \"ticks\": \"\"}}, \"title\": {\"x\": 0.05}, \"updatemenudefaults\": {\"bgcolor\": \"#506784\", \"borderwidth\": 0}, \"xaxis\": {\"automargin\": true, \"gridcolor\": \"#283442\", \"linecolor\": \"#506784\", \"ticks\": \"\", \"title\": {\"standoff\": 15}, \"zerolinecolor\": \"#283442\", \"zerolinewidth\": 2}, \"yaxis\": {\"automargin\": true, \"gridcolor\": \"#283442\", \"linecolor\": \"#506784\", \"ticks\": \"\", \"title\": {\"standoff\": 15}, \"zerolinecolor\": \"#283442\", \"zerolinewidth\": 2}}}},\n",
       "                        {\"responsive\": true}\n",
       "                    ).then(function(){\n",
       "                            \n",
       "var gd = document.getElementById('d750a3e3-f9ec-47a3-826c-b843fed8f75f');\n",
       "var x = new MutationObserver(function (mutations, observer) {{\n",
       "        var display = window.getComputedStyle(gd).display;\n",
       "        if (!display || display === 'none') {{\n",
       "            console.log([gd, 'removed!']);\n",
       "            Plotly.purge(gd);\n",
       "            observer.disconnect();\n",
       "        }}\n",
       "}});\n",
       "\n",
       "// Listen for the removal of the full notebook cells\n",
       "var notebookContainer = gd.closest('#notebook-container');\n",
       "if (notebookContainer) {{\n",
       "    x.observe(notebookContainer, {childList: true});\n",
       "}}\n",
       "\n",
       "// Listen for the clearing of the current output cell\n",
       "var outputEl = gd.closest('.output');\n",
       "if (outputEl) {{\n",
       "    x.observe(outputEl, {childList: true});\n",
       "}}\n",
       "\n",
       "                        })\n",
       "                };\n",
       "                });\n",
       "            </script>\n",
       "        </div>"
      ]
     },
     "metadata": {},
     "output_type": "display_data"
    }
   ],
   "source": [
    "wind = px.data.wind()\n",
    "fig = px.bar_polar(joined, r='points', theta='country', color='category', template=\"plotly_dark\",\n",
    "            color_discrete_sequence= px.colors.sequential.Plasma[-2::-1])\n",
    "fig.show()"
   ]
  },
  {
   "cell_type": "code",
   "execution_count": null,
   "metadata": {},
   "outputs": [],
   "source": []
  }
 ],
 "metadata": {
  "kernelspec": {
   "display_name": "Python 3",
   "language": "python",
   "name": "python3"
  },
  "language_info": {
   "codemirror_mode": {
    "name": "ipython",
    "version": 3
   },
   "file_extension": ".py",
   "mimetype": "text/x-python",
   "name": "python",
   "nbconvert_exporter": "python",
   "pygments_lexer": "ipython3",
   "version": "3.5.6"
  }
 },
 "nbformat": 4,
 "nbformat_minor": 2
}
