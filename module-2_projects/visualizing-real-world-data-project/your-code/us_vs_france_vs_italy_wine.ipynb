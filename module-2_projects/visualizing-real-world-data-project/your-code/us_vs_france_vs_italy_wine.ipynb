{
 "cells": [
  {
   "cell_type": "code",
   "execution_count": 63,
   "metadata": {},
   "outputs": [],
   "source": [
    "import pandas as pd\n",
    "import numpy as np\n",
    "import seaborn as sns\n",
    "import matplotlib.pyplot as plt\n",
    "import plotly.express as px\n",
    "import plotly.graph_objects as go\n",
    "\n",
    "pd.set_option('display.max_rows', 500)\n",
    "%matplotlib inline\n",
    "sns.set()\n",
    "sns.set_style(\"ticks\")"
   ]
  },
  {
   "cell_type": "markdown",
   "metadata": {},
   "source": [
    "    france, italy and the usa\n",
    "    wine-tasting (red, white)\n",
    "    top-ranked(top-3) wine for each category from these countries\n",
    "    word-frequency\n",
    "    plotly, plotly - express"
   ]
  },
  {
   "cell_type": "code",
   "execution_count": 2,
   "metadata": {},
   "outputs": [],
   "source": [
    "df1 = pd.read_csv('winemag-data-130k-v2.csv', encoding='latin1')"
   ]
  },
  {
   "cell_type": "code",
   "execution_count": 3,
   "metadata": {},
   "outputs": [],
   "source": [
    "df2 = pd.read_csv('winemag-data_first150k.csv', encoding='latin1')"
   ]
  },
  {
   "cell_type": "code",
   "execution_count": 4,
   "metadata": {},
   "outputs": [],
   "source": [
    "df = pd.concat([df1,df2],sort = False)"
   ]
  },
  {
   "cell_type": "code",
   "execution_count": 5,
   "metadata": {},
   "outputs": [],
   "source": [
    "df = df.drop(['Unnamed: 0'], axis = 1)\n",
    "df = df.drop_duplicates()"
   ]
  },
  {
   "cell_type": "code",
   "execution_count": 6,
   "metadata": {},
   "outputs": [],
   "source": [
    "def grades(points):\n",
    "    if points in range(80,83):\n",
    "        return 0\n",
    "    elif points in range(83,87):\n",
    "        return 1\n",
    "    elif points in range(87,90):\n",
    "        return 2\n",
    "    elif points in range(90,94):\n",
    "        return 3\n",
    "    elif points in range(94,98):\n",
    "        return 4\n",
    "    else:\n",
    "        return 5\n",
    "    \n",
    "df['grade'] = df['points'].apply(grades)"
   ]
  },
  {
   "cell_type": "code",
   "execution_count": 7,
   "metadata": {},
   "outputs": [
    {
     "data": {
      "text/html": [
       "<div>\n",
       "<style scoped>\n",
       "    .dataframe tbody tr th:only-of-type {\n",
       "        vertical-align: middle;\n",
       "    }\n",
       "\n",
       "    .dataframe tbody tr th {\n",
       "        vertical-align: top;\n",
       "    }\n",
       "\n",
       "    .dataframe thead th {\n",
       "        text-align: right;\n",
       "    }\n",
       "</style>\n",
       "<table border=\"1\" class=\"dataframe\">\n",
       "  <thead>\n",
       "    <tr style=\"text-align: right;\">\n",
       "      <th></th>\n",
       "      <th>country</th>\n",
       "      <th>description</th>\n",
       "      <th>designation</th>\n",
       "      <th>points</th>\n",
       "      <th>price</th>\n",
       "      <th>province</th>\n",
       "      <th>region_1</th>\n",
       "      <th>region_2</th>\n",
       "      <th>taster_name</th>\n",
       "      <th>taster_twitter_handle</th>\n",
       "      <th>title</th>\n",
       "      <th>variety</th>\n",
       "      <th>winery</th>\n",
       "      <th>grade</th>\n",
       "    </tr>\n",
       "  </thead>\n",
       "  <tbody>\n",
       "    <tr>\n",
       "      <th>0</th>\n",
       "      <td>Italy</td>\n",
       "      <td>Aromas include tropical fruit, broom, brimston...</td>\n",
       "      <td>VulkÃ  Bianco</td>\n",
       "      <td>87</td>\n",
       "      <td>NaN</td>\n",
       "      <td>Sicily &amp; Sardinia</td>\n",
       "      <td>Etna</td>\n",
       "      <td>NaN</td>\n",
       "      <td>Kerin OâKeefe</td>\n",
       "      <td>@kerinokeefe</td>\n",
       "      <td>Nicosia 2013 VulkÃ  Bianco  (Etna)</td>\n",
       "      <td>White Blend</td>\n",
       "      <td>Nicosia</td>\n",
       "      <td>2</td>\n",
       "    </tr>\n",
       "    <tr>\n",
       "      <th>1</th>\n",
       "      <td>Portugal</td>\n",
       "      <td>This is ripe and fruity, a wine that is smooth...</td>\n",
       "      <td>Avidagos</td>\n",
       "      <td>87</td>\n",
       "      <td>15.0</td>\n",
       "      <td>Douro</td>\n",
       "      <td>NaN</td>\n",
       "      <td>NaN</td>\n",
       "      <td>Roger Voss</td>\n",
       "      <td>@vossroger</td>\n",
       "      <td>Quinta dos Avidagos 2011 Avidagos Red (Douro)</td>\n",
       "      <td>Portuguese Red</td>\n",
       "      <td>Quinta dos Avidagos</td>\n",
       "      <td>2</td>\n",
       "    </tr>\n",
       "    <tr>\n",
       "      <th>2</th>\n",
       "      <td>US</td>\n",
       "      <td>Tart and snappy, the flavors of lime flesh and...</td>\n",
       "      <td>NaN</td>\n",
       "      <td>87</td>\n",
       "      <td>14.0</td>\n",
       "      <td>Oregon</td>\n",
       "      <td>Willamette Valley</td>\n",
       "      <td>Willamette Valley</td>\n",
       "      <td>Paul Gregutt</td>\n",
       "      <td>@paulgwineÂ</td>\n",
       "      <td>Rainstorm 2013 Pinot Gris (Willamette Valley)</td>\n",
       "      <td>Pinot Gris</td>\n",
       "      <td>Rainstorm</td>\n",
       "      <td>2</td>\n",
       "    </tr>\n",
       "    <tr>\n",
       "      <th>3</th>\n",
       "      <td>US</td>\n",
       "      <td>Pineapple rind, lemon pith and orange blossom ...</td>\n",
       "      <td>Reserve Late Harvest</td>\n",
       "      <td>87</td>\n",
       "      <td>13.0</td>\n",
       "      <td>Michigan</td>\n",
       "      <td>Lake Michigan Shore</td>\n",
       "      <td>NaN</td>\n",
       "      <td>Alexander Peartree</td>\n",
       "      <td>NaN</td>\n",
       "      <td>St. Julian 2013 Reserve Late Harvest Riesling ...</td>\n",
       "      <td>Riesling</td>\n",
       "      <td>St. Julian</td>\n",
       "      <td>2</td>\n",
       "    </tr>\n",
       "    <tr>\n",
       "      <th>4</th>\n",
       "      <td>US</td>\n",
       "      <td>Much like the regular bottling from 2012, this...</td>\n",
       "      <td>Vintner's Reserve Wild Child Block</td>\n",
       "      <td>87</td>\n",
       "      <td>65.0</td>\n",
       "      <td>Oregon</td>\n",
       "      <td>Willamette Valley</td>\n",
       "      <td>Willamette Valley</td>\n",
       "      <td>Paul Gregutt</td>\n",
       "      <td>@paulgwineÂ</td>\n",
       "      <td>Sweet Cheeks 2012 Vintner's Reserve Wild Child...</td>\n",
       "      <td>Pinot Noir</td>\n",
       "      <td>Sweet Cheeks</td>\n",
       "      <td>2</td>\n",
       "    </tr>\n",
       "    <tr>\n",
       "      <th>...</th>\n",
       "      <td>...</td>\n",
       "      <td>...</td>\n",
       "      <td>...</td>\n",
       "      <td>...</td>\n",
       "      <td>...</td>\n",
       "      <td>...</td>\n",
       "      <td>...</td>\n",
       "      <td>...</td>\n",
       "      <td>...</td>\n",
       "      <td>...</td>\n",
       "      <td>...</td>\n",
       "      <td>...</td>\n",
       "      <td>...</td>\n",
       "      <td>...</td>\n",
       "    </tr>\n",
       "    <tr>\n",
       "      <th>149635</th>\n",
       "      <td>US</td>\n",
       "      <td>A Syrah-Grenache blend that's dry and rustical...</td>\n",
       "      <td>Bungalow Red</td>\n",
       "      <td>84</td>\n",
       "      <td>15.0</td>\n",
       "      <td>California</td>\n",
       "      <td>Santa Barbara County</td>\n",
       "      <td>Central Coast</td>\n",
       "      <td>NaN</td>\n",
       "      <td>NaN</td>\n",
       "      <td>NaN</td>\n",
       "      <td>Syrah-Grenache</td>\n",
       "      <td>Casa Barranca</td>\n",
       "      <td>1</td>\n",
       "    </tr>\n",
       "    <tr>\n",
       "      <th>149636</th>\n",
       "      <td>Portugal</td>\n",
       "      <td>Oreo eaters will enjoy the aromas of this wine...</td>\n",
       "      <td>30-year old tawny</td>\n",
       "      <td>84</td>\n",
       "      <td>NaN</td>\n",
       "      <td>Port</td>\n",
       "      <td>NaN</td>\n",
       "      <td>NaN</td>\n",
       "      <td>NaN</td>\n",
       "      <td>NaN</td>\n",
       "      <td>NaN</td>\n",
       "      <td>Port</td>\n",
       "      <td>Casa Santa Eufemia</td>\n",
       "      <td>1</td>\n",
       "    </tr>\n",
       "    <tr>\n",
       "      <th>149637</th>\n",
       "      <td>US</td>\n",
       "      <td>Outside of the vineyard, wines like this are w...</td>\n",
       "      <td>NaN</td>\n",
       "      <td>84</td>\n",
       "      <td>6.0</td>\n",
       "      <td>California</td>\n",
       "      <td>California</td>\n",
       "      <td>California Other</td>\n",
       "      <td>NaN</td>\n",
       "      <td>NaN</td>\n",
       "      <td>NaN</td>\n",
       "      <td>Merlot</td>\n",
       "      <td>Delicato</td>\n",
       "      <td>1</td>\n",
       "    </tr>\n",
       "    <tr>\n",
       "      <th>149638</th>\n",
       "      <td>Argentina</td>\n",
       "      <td>Heavy and basic, with melon and pineapple arom...</td>\n",
       "      <td>NaN</td>\n",
       "      <td>84</td>\n",
       "      <td>9.0</td>\n",
       "      <td>Mendoza Province</td>\n",
       "      <td>Uco Valley</td>\n",
       "      <td>NaN</td>\n",
       "      <td>NaN</td>\n",
       "      <td>NaN</td>\n",
       "      <td>NaN</td>\n",
       "      <td>Sauvignon Blanc</td>\n",
       "      <td>Finca El Portillo</td>\n",
       "      <td>1</td>\n",
       "    </tr>\n",
       "    <tr>\n",
       "      <th>149639</th>\n",
       "      <td>Australia</td>\n",
       "      <td>Smooth in the mouth, this Chard starts off wit...</td>\n",
       "      <td>NaN</td>\n",
       "      <td>84</td>\n",
       "      <td>8.0</td>\n",
       "      <td>Australia Other</td>\n",
       "      <td>South Eastern Australia</td>\n",
       "      <td>NaN</td>\n",
       "      <td>NaN</td>\n",
       "      <td>NaN</td>\n",
       "      <td>NaN</td>\n",
       "      <td>Chardonnay</td>\n",
       "      <td>Jacob's Creek</td>\n",
       "      <td>1</td>\n",
       "    </tr>\n",
       "  </tbody>\n",
       "</table>\n",
       "<p>217839 rows × 14 columns</p>\n",
       "</div>"
      ],
      "text/plain": [
       "          country                                        description  \\\n",
       "0           Italy  Aromas include tropical fruit, broom, brimston...   \n",
       "1        Portugal  This is ripe and fruity, a wine that is smooth...   \n",
       "2              US  Tart and snappy, the flavors of lime flesh and...   \n",
       "3              US  Pineapple rind, lemon pith and orange blossom ...   \n",
       "4              US  Much like the regular bottling from 2012, this...   \n",
       "...           ...                                                ...   \n",
       "149635         US  A Syrah-Grenache blend that's dry and rustical...   \n",
       "149636   Portugal  Oreo eaters will enjoy the aromas of this wine...   \n",
       "149637         US  Outside of the vineyard, wines like this are w...   \n",
       "149638  Argentina  Heavy and basic, with melon and pineapple arom...   \n",
       "149639  Australia  Smooth in the mouth, this Chard starts off wit...   \n",
       "\n",
       "                               designation  points  price           province  \\\n",
       "0                            VulkÃ  Bianco      87    NaN  Sicily & Sardinia   \n",
       "1                                 Avidagos      87   15.0              Douro   \n",
       "2                                      NaN      87   14.0             Oregon   \n",
       "3                     Reserve Late Harvest      87   13.0           Michigan   \n",
       "4       Vintner's Reserve Wild Child Block      87   65.0             Oregon   \n",
       "...                                    ...     ...    ...                ...   \n",
       "149635                        Bungalow Red      84   15.0         California   \n",
       "149636                   30-year old tawny      84    NaN               Port   \n",
       "149637                                 NaN      84    6.0         California   \n",
       "149638                                 NaN      84    9.0   Mendoza Province   \n",
       "149639                                 NaN      84    8.0    Australia Other   \n",
       "\n",
       "                       region_1           region_2         taster_name  \\\n",
       "0                          Etna                NaN     Kerin OâKeefe   \n",
       "1                           NaN                NaN          Roger Voss   \n",
       "2             Willamette Valley  Willamette Valley        Paul Gregutt   \n",
       "3           Lake Michigan Shore                NaN  Alexander Peartree   \n",
       "4             Willamette Valley  Willamette Valley        Paul Gregutt   \n",
       "...                         ...                ...                 ...   \n",
       "149635     Santa Barbara County      Central Coast                 NaN   \n",
       "149636                      NaN                NaN                 NaN   \n",
       "149637               California   California Other                 NaN   \n",
       "149638               Uco Valley                NaN                 NaN   \n",
       "149639  South Eastern Australia                NaN                 NaN   \n",
       "\n",
       "       taster_twitter_handle  \\\n",
       "0               @kerinokeefe   \n",
       "1                 @vossroger   \n",
       "2               @paulgwineÂ    \n",
       "3                        NaN   \n",
       "4               @paulgwineÂ    \n",
       "...                      ...   \n",
       "149635                   NaN   \n",
       "149636                   NaN   \n",
       "149637                   NaN   \n",
       "149638                   NaN   \n",
       "149639                   NaN   \n",
       "\n",
       "                                                    title          variety  \\\n",
       "0                      Nicosia 2013 VulkÃ  Bianco  (Etna)      White Blend   \n",
       "1           Quinta dos Avidagos 2011 Avidagos Red (Douro)   Portuguese Red   \n",
       "2           Rainstorm 2013 Pinot Gris (Willamette Valley)       Pinot Gris   \n",
       "3       St. Julian 2013 Reserve Late Harvest Riesling ...         Riesling   \n",
       "4       Sweet Cheeks 2012 Vintner's Reserve Wild Child...       Pinot Noir   \n",
       "...                                                   ...              ...   \n",
       "149635                                                NaN   Syrah-Grenache   \n",
       "149636                                                NaN             Port   \n",
       "149637                                                NaN           Merlot   \n",
       "149638                                                NaN  Sauvignon Blanc   \n",
       "149639                                                NaN       Chardonnay   \n",
       "\n",
       "                     winery  grade  \n",
       "0                   Nicosia      2  \n",
       "1       Quinta dos Avidagos      2  \n",
       "2                 Rainstorm      2  \n",
       "3                St. Julian      2  \n",
       "4              Sweet Cheeks      2  \n",
       "...                     ...    ...  \n",
       "149635        Casa Barranca      1  \n",
       "149636   Casa Santa Eufemia      1  \n",
       "149637             Delicato      1  \n",
       "149638    Finca El Portillo      1  \n",
       "149639        Jacob's Creek      1  \n",
       "\n",
       "[217839 rows x 14 columns]"
      ]
     },
     "execution_count": 7,
     "metadata": {},
     "output_type": "execute_result"
    }
   ],
   "source": [
    "df"
   ]
  },
  {
   "cell_type": "code",
   "execution_count": 48,
   "metadata": {},
   "outputs": [
    {
     "data": {
      "text/plain": [
       "US                        91001\n",
       "France                    34812\n",
       "Italy                     32790\n",
       "Spain                     11559\n",
       "Portugal                   8764\n",
       "Chile                      7919\n",
       "Argentina                  6991\n",
       "Australia                  5349\n",
       "Austria                    4993\n",
       "Germany                    3521\n",
       "New Zealand                3143\n",
       "South Africa               2782\n",
       "Greece                      973\n",
       "Israel                      836\n",
       "Canada                      375\n",
       "Hungary                     268\n",
       "Romania                     208\n",
       "Bulgaria                    188\n",
       "Uruguay                     150\n",
       "Slovenia                    149\n",
       "Croatia                     140\n",
       "Turkey                      127\n",
       "Mexico                      122\n",
       "Georgia                     106\n",
       "Moldova                     102\n",
       "England                      72\n",
       "Brazil                       63\n",
       "Lebanon                      59\n",
       "Morocco                      35\n",
       "Cyprus                       25\n",
       "Macedonia                    23\n",
       "Ukraine                      19\n",
       "Serbia                       18\n",
       "Czech Republic               17\n",
       "Peru                         16\n",
       "India                        15\n",
       "Switzerland                  10\n",
       "Luxembourg                    8\n",
       "Bosnia and Herzegovina        5\n",
       "Egypt                         4\n",
       "Lithuania                     4\n",
       "Slovakia                      3\n",
       "China                         3\n",
       "Armenia                       2\n",
       "Tunisia                       2\n",
       "South Korea                   2\n",
       "Albania                       1\n",
       "Montenegro                    1\n",
       "US-France                     1\n",
       "Japan                         1\n",
       "Name: country, dtype: int64"
      ]
     },
     "execution_count": 48,
     "metadata": {},
     "output_type": "execute_result"
    }
   ],
   "source": [
    "df['country'].value_counts()"
   ]
  },
  {
   "cell_type": "code",
   "execution_count": 8,
   "metadata": {},
   "outputs": [],
   "source": [
    "france = df[df['country'] == 'France'].reset_index(drop = True)"
   ]
  },
  {
   "cell_type": "code",
   "execution_count": 27,
   "metadata": {},
   "outputs": [
    {
     "data": {
      "text/html": [
       "<div>\n",
       "<style scoped>\n",
       "    .dataframe tbody tr th:only-of-type {\n",
       "        vertical-align: middle;\n",
       "    }\n",
       "\n",
       "    .dataframe tbody tr th {\n",
       "        vertical-align: top;\n",
       "    }\n",
       "\n",
       "    .dataframe thead th {\n",
       "        text-align: right;\n",
       "    }\n",
       "</style>\n",
       "<table border=\"1\" class=\"dataframe\">\n",
       "  <thead>\n",
       "    <tr style=\"text-align: right;\">\n",
       "      <th></th>\n",
       "      <th>country</th>\n",
       "      <th>description</th>\n",
       "      <th>designation</th>\n",
       "      <th>points</th>\n",
       "      <th>price</th>\n",
       "      <th>province</th>\n",
       "      <th>region_1</th>\n",
       "      <th>region_2</th>\n",
       "      <th>taster_name</th>\n",
       "      <th>taster_twitter_handle</th>\n",
       "      <th>title</th>\n",
       "      <th>variety</th>\n",
       "      <th>winery</th>\n",
       "      <th>grade</th>\n",
       "    </tr>\n",
       "  </thead>\n",
       "  <tbody>\n",
       "    <tr>\n",
       "      <th>0</th>\n",
       "      <td>France</td>\n",
       "      <td>This dry and restrained wine offers spice in p...</td>\n",
       "      <td>NaN</td>\n",
       "      <td>87</td>\n",
       "      <td>24.0</td>\n",
       "      <td>Alsace</td>\n",
       "      <td>Alsace</td>\n",
       "      <td>NaN</td>\n",
       "      <td>Roger Voss</td>\n",
       "      <td>@vossroger</td>\n",
       "      <td>Trimbach 2012 Gewurztraminer (Alsace)</td>\n",
       "      <td>GewÃ¼rztraminer</td>\n",
       "      <td>Trimbach</td>\n",
       "      <td>2</td>\n",
       "    </tr>\n",
       "    <tr>\n",
       "      <th>1</th>\n",
       "      <td>France</td>\n",
       "      <td>This has great depth of flavor with its fresh ...</td>\n",
       "      <td>Les Natures</td>\n",
       "      <td>87</td>\n",
       "      <td>27.0</td>\n",
       "      <td>Alsace</td>\n",
       "      <td>Alsace</td>\n",
       "      <td>NaN</td>\n",
       "      <td>Roger Voss</td>\n",
       "      <td>@vossroger</td>\n",
       "      <td>Jean-Baptiste Adam 2012 Les Natures Pinot Gris...</td>\n",
       "      <td>Pinot Gris</td>\n",
       "      <td>Jean-Baptiste Adam</td>\n",
       "      <td>2</td>\n",
       "    </tr>\n",
       "    <tr>\n",
       "      <th>2</th>\n",
       "      <td>France</td>\n",
       "      <td>This is a dry wine, very spicy, with a tight, ...</td>\n",
       "      <td>NaN</td>\n",
       "      <td>87</td>\n",
       "      <td>30.0</td>\n",
       "      <td>Alsace</td>\n",
       "      <td>Alsace</td>\n",
       "      <td>NaN</td>\n",
       "      <td>Roger Voss</td>\n",
       "      <td>@vossroger</td>\n",
       "      <td>Leon Beyer 2012 Gewurztraminer (Alsace)</td>\n",
       "      <td>GewÃ¼rztraminer</td>\n",
       "      <td>Leon Beyer</td>\n",
       "      <td>2</td>\n",
       "    </tr>\n",
       "    <tr>\n",
       "      <th>3</th>\n",
       "      <td>France</td>\n",
       "      <td>Red cherry fruit comes laced with light tannin...</td>\n",
       "      <td>Nouveau</td>\n",
       "      <td>86</td>\n",
       "      <td>NaN</td>\n",
       "      <td>Beaujolais</td>\n",
       "      <td>Beaujolais-Villages</td>\n",
       "      <td>NaN</td>\n",
       "      <td>Roger Voss</td>\n",
       "      <td>@vossroger</td>\n",
       "      <td>Domaine de la Madone 2012 Nouveau  (Beaujolais...</td>\n",
       "      <td>Gamay</td>\n",
       "      <td>Domaine de la Madone</td>\n",
       "      <td>1</td>\n",
       "    </tr>\n",
       "    <tr>\n",
       "      <th>4</th>\n",
       "      <td>France</td>\n",
       "      <td>This is a festive wine, with soft, ripe fruit ...</td>\n",
       "      <td>Nouveau</td>\n",
       "      <td>86</td>\n",
       "      <td>9.0</td>\n",
       "      <td>Beaujolais</td>\n",
       "      <td>Beaujolais</td>\n",
       "      <td>NaN</td>\n",
       "      <td>Roger Voss</td>\n",
       "      <td>@vossroger</td>\n",
       "      <td>Henry Fessy 2012 Nouveau  (Beaujolais)</td>\n",
       "      <td>Gamay</td>\n",
       "      <td>Henry Fessy</td>\n",
       "      <td>1</td>\n",
       "    </tr>\n",
       "    <tr>\n",
       "      <th>...</th>\n",
       "      <td>...</td>\n",
       "      <td>...</td>\n",
       "      <td>...</td>\n",
       "      <td>...</td>\n",
       "      <td>...</td>\n",
       "      <td>...</td>\n",
       "      <td>...</td>\n",
       "      <td>...</td>\n",
       "      <td>...</td>\n",
       "      <td>...</td>\n",
       "      <td>...</td>\n",
       "      <td>...</td>\n",
       "      <td>...</td>\n",
       "      <td>...</td>\n",
       "    </tr>\n",
       "    <tr>\n",
       "      <th>34807</th>\n",
       "      <td>France</td>\n",
       "      <td>Solid, mainstream Riesling, combining apple an...</td>\n",
       "      <td>CuvÃ©e Henri</td>\n",
       "      <td>85</td>\n",
       "      <td>25.0</td>\n",
       "      <td>Alsace</td>\n",
       "      <td>Alsace</td>\n",
       "      <td>NaN</td>\n",
       "      <td>NaN</td>\n",
       "      <td>NaN</td>\n",
       "      <td>NaN</td>\n",
       "      <td>Riesling</td>\n",
       "      <td>Lucien Albrecht</td>\n",
       "      <td>1</td>\n",
       "    </tr>\n",
       "    <tr>\n",
       "      <th>34808</th>\n",
       "      <td>France</td>\n",
       "      <td>Intriguingâbut strangeâstuff, with herbal-...</td>\n",
       "      <td>La Dame Wiebelsberg Grand Cru</td>\n",
       "      <td>85</td>\n",
       "      <td>38.0</td>\n",
       "      <td>Alsace</td>\n",
       "      <td>Alsace</td>\n",
       "      <td>NaN</td>\n",
       "      <td>NaN</td>\n",
       "      <td>NaN</td>\n",
       "      <td>NaN</td>\n",
       "      <td>Riesling</td>\n",
       "      <td>Marc Kreydenweiss</td>\n",
       "      <td>1</td>\n",
       "    </tr>\n",
       "    <tr>\n",
       "      <th>34809</th>\n",
       "      <td>France</td>\n",
       "      <td>This blending for the American market is softe...</td>\n",
       "      <td>NaN</td>\n",
       "      <td>84</td>\n",
       "      <td>19.0</td>\n",
       "      <td>Loire Valley</td>\n",
       "      <td>Sancerre</td>\n",
       "      <td>NaN</td>\n",
       "      <td>NaN</td>\n",
       "      <td>NaN</td>\n",
       "      <td>NaN</td>\n",
       "      <td>Sauvignon Blanc</td>\n",
       "      <td>Richard Bourgeois</td>\n",
       "      <td>1</td>\n",
       "    </tr>\n",
       "    <tr>\n",
       "      <th>34810</th>\n",
       "      <td>France</td>\n",
       "      <td>Opens with spice aromas that seem a bit unusua...</td>\n",
       "      <td>Andlau</td>\n",
       "      <td>84</td>\n",
       "      <td>21.0</td>\n",
       "      <td>Alsace</td>\n",
       "      <td>Alsace</td>\n",
       "      <td>NaN</td>\n",
       "      <td>NaN</td>\n",
       "      <td>NaN</td>\n",
       "      <td>NaN</td>\n",
       "      <td>Riesling</td>\n",
       "      <td>Marc Kreydenweiss</td>\n",
       "      <td>1</td>\n",
       "    </tr>\n",
       "    <tr>\n",
       "      <th>34811</th>\n",
       "      <td>France</td>\n",
       "      <td>Atypically light in body and reticent on the n...</td>\n",
       "      <td>NaN</td>\n",
       "      <td>84</td>\n",
       "      <td>15.0</td>\n",
       "      <td>Alsace</td>\n",
       "      <td>Alsace</td>\n",
       "      <td>NaN</td>\n",
       "      <td>NaN</td>\n",
       "      <td>NaN</td>\n",
       "      <td>NaN</td>\n",
       "      <td>GewÃ¼rztraminer</td>\n",
       "      <td>W. Gisselbrecht</td>\n",
       "      <td>1</td>\n",
       "    </tr>\n",
       "  </tbody>\n",
       "</table>\n",
       "<p>34812 rows × 14 columns</p>\n",
       "</div>"
      ],
      "text/plain": [
       "      country                                        description  \\\n",
       "0      France  This dry and restrained wine offers spice in p...   \n",
       "1      France  This has great depth of flavor with its fresh ...   \n",
       "2      France  This is a dry wine, very spicy, with a tight, ...   \n",
       "3      France  Red cherry fruit comes laced with light tannin...   \n",
       "4      France  This is a festive wine, with soft, ripe fruit ...   \n",
       "...       ...                                                ...   \n",
       "34807  France  Solid, mainstream Riesling, combining apple an...   \n",
       "34808  France  Intriguingâbut strangeâstuff, with herbal-...   \n",
       "34809  France  This blending for the American market is softe...   \n",
       "34810  France  Opens with spice aromas that seem a bit unusua...   \n",
       "34811  France  Atypically light in body and reticent on the n...   \n",
       "\n",
       "                         designation  points  price      province  \\\n",
       "0                                NaN      87   24.0        Alsace   \n",
       "1                        Les Natures      87   27.0        Alsace   \n",
       "2                                NaN      87   30.0        Alsace   \n",
       "3                            Nouveau      86    NaN    Beaujolais   \n",
       "4                            Nouveau      86    9.0    Beaujolais   \n",
       "...                              ...     ...    ...           ...   \n",
       "34807                   CuvÃ©e Henri      85   25.0        Alsace   \n",
       "34808  La Dame Wiebelsberg Grand Cru      85   38.0        Alsace   \n",
       "34809                            NaN      84   19.0  Loire Valley   \n",
       "34810                         Andlau      84   21.0        Alsace   \n",
       "34811                            NaN      84   15.0        Alsace   \n",
       "\n",
       "                  region_1 region_2 taster_name taster_twitter_handle  \\\n",
       "0                   Alsace      NaN  Roger Voss            @vossroger   \n",
       "1                   Alsace      NaN  Roger Voss            @vossroger   \n",
       "2                   Alsace      NaN  Roger Voss            @vossroger   \n",
       "3      Beaujolais-Villages      NaN  Roger Voss            @vossroger   \n",
       "4               Beaujolais      NaN  Roger Voss            @vossroger   \n",
       "...                    ...      ...         ...                   ...   \n",
       "34807               Alsace      NaN         NaN                   NaN   \n",
       "34808               Alsace      NaN         NaN                   NaN   \n",
       "34809             Sancerre      NaN         NaN                   NaN   \n",
       "34810               Alsace      NaN         NaN                   NaN   \n",
       "34811               Alsace      NaN         NaN                   NaN   \n",
       "\n",
       "                                                   title          variety  \\\n",
       "0                  Trimbach 2012 Gewurztraminer (Alsace)  GewÃ¼rztraminer   \n",
       "1      Jean-Baptiste Adam 2012 Les Natures Pinot Gris...       Pinot Gris   \n",
       "2                Leon Beyer 2012 Gewurztraminer (Alsace)  GewÃ¼rztraminer   \n",
       "3      Domaine de la Madone 2012 Nouveau  (Beaujolais...            Gamay   \n",
       "4                 Henry Fessy 2012 Nouveau  (Beaujolais)            Gamay   \n",
       "...                                                  ...              ...   \n",
       "34807                                                NaN         Riesling   \n",
       "34808                                                NaN         Riesling   \n",
       "34809                                                NaN  Sauvignon Blanc   \n",
       "34810                                                NaN         Riesling   \n",
       "34811                                                NaN  GewÃ¼rztraminer   \n",
       "\n",
       "                     winery  grade  \n",
       "0                  Trimbach      2  \n",
       "1        Jean-Baptiste Adam      2  \n",
       "2                Leon Beyer      2  \n",
       "3      Domaine de la Madone      1  \n",
       "4               Henry Fessy      1  \n",
       "...                     ...    ...  \n",
       "34807       Lucien Albrecht      1  \n",
       "34808     Marc Kreydenweiss      1  \n",
       "34809     Richard Bourgeois      1  \n",
       "34810     Marc Kreydenweiss      1  \n",
       "34811       W. Gisselbrecht      1  \n",
       "\n",
       "[34812 rows x 14 columns]"
      ]
     },
     "execution_count": 27,
     "metadata": {},
     "output_type": "execute_result"
    }
   ],
   "source": [
    "france"
   ]
  },
  {
   "cell_type": "code",
   "execution_count": 9,
   "metadata": {},
   "outputs": [],
   "source": [
    "us = df[df['country'] == 'US'].reset_index(drop = True)"
   ]
  },
  {
   "cell_type": "code",
   "execution_count": 28,
   "metadata": {},
   "outputs": [
    {
     "data": {
      "text/html": [
       "<div>\n",
       "<style scoped>\n",
       "    .dataframe tbody tr th:only-of-type {\n",
       "        vertical-align: middle;\n",
       "    }\n",
       "\n",
       "    .dataframe tbody tr th {\n",
       "        vertical-align: top;\n",
       "    }\n",
       "\n",
       "    .dataframe thead th {\n",
       "        text-align: right;\n",
       "    }\n",
       "</style>\n",
       "<table border=\"1\" class=\"dataframe\">\n",
       "  <thead>\n",
       "    <tr style=\"text-align: right;\">\n",
       "      <th></th>\n",
       "      <th>country</th>\n",
       "      <th>description</th>\n",
       "      <th>designation</th>\n",
       "      <th>points</th>\n",
       "      <th>price</th>\n",
       "      <th>province</th>\n",
       "      <th>region_1</th>\n",
       "      <th>region_2</th>\n",
       "      <th>taster_name</th>\n",
       "      <th>taster_twitter_handle</th>\n",
       "      <th>title</th>\n",
       "      <th>variety</th>\n",
       "      <th>winery</th>\n",
       "      <th>grade</th>\n",
       "    </tr>\n",
       "  </thead>\n",
       "  <tbody>\n",
       "    <tr>\n",
       "      <th>0</th>\n",
       "      <td>US</td>\n",
       "      <td>Tart and snappy, the flavors of lime flesh and...</td>\n",
       "      <td>NaN</td>\n",
       "      <td>87</td>\n",
       "      <td>14.0</td>\n",
       "      <td>Oregon</td>\n",
       "      <td>Willamette Valley</td>\n",
       "      <td>Willamette Valley</td>\n",
       "      <td>Paul Gregutt</td>\n",
       "      <td>@paulgwineÂ</td>\n",
       "      <td>Rainstorm 2013 Pinot Gris (Willamette Valley)</td>\n",
       "      <td>Pinot Gris</td>\n",
       "      <td>Rainstorm</td>\n",
       "      <td>2</td>\n",
       "    </tr>\n",
       "    <tr>\n",
       "      <th>1</th>\n",
       "      <td>US</td>\n",
       "      <td>Pineapple rind, lemon pith and orange blossom ...</td>\n",
       "      <td>Reserve Late Harvest</td>\n",
       "      <td>87</td>\n",
       "      <td>13.0</td>\n",
       "      <td>Michigan</td>\n",
       "      <td>Lake Michigan Shore</td>\n",
       "      <td>NaN</td>\n",
       "      <td>Alexander Peartree</td>\n",
       "      <td>NaN</td>\n",
       "      <td>St. Julian 2013 Reserve Late Harvest Riesling ...</td>\n",
       "      <td>Riesling</td>\n",
       "      <td>St. Julian</td>\n",
       "      <td>2</td>\n",
       "    </tr>\n",
       "    <tr>\n",
       "      <th>2</th>\n",
       "      <td>US</td>\n",
       "      <td>Much like the regular bottling from 2012, this...</td>\n",
       "      <td>Vintner's Reserve Wild Child Block</td>\n",
       "      <td>87</td>\n",
       "      <td>65.0</td>\n",
       "      <td>Oregon</td>\n",
       "      <td>Willamette Valley</td>\n",
       "      <td>Willamette Valley</td>\n",
       "      <td>Paul Gregutt</td>\n",
       "      <td>@paulgwineÂ</td>\n",
       "      <td>Sweet Cheeks 2012 Vintner's Reserve Wild Child...</td>\n",
       "      <td>Pinot Noir</td>\n",
       "      <td>Sweet Cheeks</td>\n",
       "      <td>2</td>\n",
       "    </tr>\n",
       "    <tr>\n",
       "      <th>3</th>\n",
       "      <td>US</td>\n",
       "      <td>Soft, supple plum envelopes an oaky structure ...</td>\n",
       "      <td>Mountain CuvÃ©e</td>\n",
       "      <td>87</td>\n",
       "      <td>19.0</td>\n",
       "      <td>California</td>\n",
       "      <td>Napa Valley</td>\n",
       "      <td>Napa</td>\n",
       "      <td>Virginie Boone</td>\n",
       "      <td>@vboone</td>\n",
       "      <td>Kirkland Signature 2011 Mountain CuvÃ©e Cabern...</td>\n",
       "      <td>Cabernet Sauvignon</td>\n",
       "      <td>Kirkland Signature</td>\n",
       "      <td>2</td>\n",
       "    </tr>\n",
       "    <tr>\n",
       "      <th>4</th>\n",
       "      <td>US</td>\n",
       "      <td>Slightly reduced, this wine offers a chalky, t...</td>\n",
       "      <td>NaN</td>\n",
       "      <td>87</td>\n",
       "      <td>34.0</td>\n",
       "      <td>California</td>\n",
       "      <td>Alexander Valley</td>\n",
       "      <td>Sonoma</td>\n",
       "      <td>Virginie Boone</td>\n",
       "      <td>@vboone</td>\n",
       "      <td>Louis M. Martini 2012 Cabernet Sauvignon (Alex...</td>\n",
       "      <td>Cabernet Sauvignon</td>\n",
       "      <td>Louis M. Martini</td>\n",
       "      <td>2</td>\n",
       "    </tr>\n",
       "    <tr>\n",
       "      <th>...</th>\n",
       "      <td>...</td>\n",
       "      <td>...</td>\n",
       "      <td>...</td>\n",
       "      <td>...</td>\n",
       "      <td>...</td>\n",
       "      <td>...</td>\n",
       "      <td>...</td>\n",
       "      <td>...</td>\n",
       "      <td>...</td>\n",
       "      <td>...</td>\n",
       "      <td>...</td>\n",
       "      <td>...</td>\n",
       "      <td>...</td>\n",
       "      <td>...</td>\n",
       "    </tr>\n",
       "    <tr>\n",
       "      <th>90996</th>\n",
       "      <td>US</td>\n",
       "      <td>Half Merlot, with the rest Cabernet Sauvignon,...</td>\n",
       "      <td>Five-O</td>\n",
       "      <td>84</td>\n",
       "      <td>25.0</td>\n",
       "      <td>New York</td>\n",
       "      <td>North Fork of Long Island</td>\n",
       "      <td>Long Island</td>\n",
       "      <td>NaN</td>\n",
       "      <td>NaN</td>\n",
       "      <td>NaN</td>\n",
       "      <td>Red Blend</td>\n",
       "      <td>Martha Clara</td>\n",
       "      <td>1</td>\n",
       "    </tr>\n",
       "    <tr>\n",
       "      <th>90997</th>\n",
       "      <td>US</td>\n",
       "      <td>Tastes kind of soft and thick in jammy cherry ...</td>\n",
       "      <td>Crimson Creek</td>\n",
       "      <td>84</td>\n",
       "      <td>27.0</td>\n",
       "      <td>California</td>\n",
       "      <td>Napa Valley</td>\n",
       "      <td>Napa</td>\n",
       "      <td>NaN</td>\n",
       "      <td>NaN</td>\n",
       "      <td>NaN</td>\n",
       "      <td>Merlot</td>\n",
       "      <td>Pine Ridge</td>\n",
       "      <td>1</td>\n",
       "    </tr>\n",
       "    <tr>\n",
       "      <th>90998</th>\n",
       "      <td>US</td>\n",
       "      <td>Mushroom and tomato are coated with spicy oak,...</td>\n",
       "      <td>NaN</td>\n",
       "      <td>84</td>\n",
       "      <td>40.0</td>\n",
       "      <td>New York</td>\n",
       "      <td>The Hamptons, Long Island</td>\n",
       "      <td>Long Island</td>\n",
       "      <td>NaN</td>\n",
       "      <td>NaN</td>\n",
       "      <td>NaN</td>\n",
       "      <td>Cabernet Franc</td>\n",
       "      <td>WÃ¶lffer</td>\n",
       "      <td>1</td>\n",
       "    </tr>\n",
       "    <tr>\n",
       "      <th>90999</th>\n",
       "      <td>US</td>\n",
       "      <td>A Syrah-Grenache blend that's dry and rustical...</td>\n",
       "      <td>Bungalow Red</td>\n",
       "      <td>84</td>\n",
       "      <td>15.0</td>\n",
       "      <td>California</td>\n",
       "      <td>Santa Barbara County</td>\n",
       "      <td>Central Coast</td>\n",
       "      <td>NaN</td>\n",
       "      <td>NaN</td>\n",
       "      <td>NaN</td>\n",
       "      <td>Syrah-Grenache</td>\n",
       "      <td>Casa Barranca</td>\n",
       "      <td>1</td>\n",
       "    </tr>\n",
       "    <tr>\n",
       "      <th>91000</th>\n",
       "      <td>US</td>\n",
       "      <td>Outside of the vineyard, wines like this are w...</td>\n",
       "      <td>NaN</td>\n",
       "      <td>84</td>\n",
       "      <td>6.0</td>\n",
       "      <td>California</td>\n",
       "      <td>California</td>\n",
       "      <td>California Other</td>\n",
       "      <td>NaN</td>\n",
       "      <td>NaN</td>\n",
       "      <td>NaN</td>\n",
       "      <td>Merlot</td>\n",
       "      <td>Delicato</td>\n",
       "      <td>1</td>\n",
       "    </tr>\n",
       "  </tbody>\n",
       "</table>\n",
       "<p>91001 rows × 14 columns</p>\n",
       "</div>"
      ],
      "text/plain": [
       "      country                                        description  \\\n",
       "0          US  Tart and snappy, the flavors of lime flesh and...   \n",
       "1          US  Pineapple rind, lemon pith and orange blossom ...   \n",
       "2          US  Much like the regular bottling from 2012, this...   \n",
       "3          US  Soft, supple plum envelopes an oaky structure ...   \n",
       "4          US  Slightly reduced, this wine offers a chalky, t...   \n",
       "...       ...                                                ...   \n",
       "90996      US  Half Merlot, with the rest Cabernet Sauvignon,...   \n",
       "90997      US  Tastes kind of soft and thick in jammy cherry ...   \n",
       "90998      US  Mushroom and tomato are coated with spicy oak,...   \n",
       "90999      US  A Syrah-Grenache blend that's dry and rustical...   \n",
       "91000      US  Outside of the vineyard, wines like this are w...   \n",
       "\n",
       "                              designation  points  price    province  \\\n",
       "0                                     NaN      87   14.0      Oregon   \n",
       "1                    Reserve Late Harvest      87   13.0    Michigan   \n",
       "2      Vintner's Reserve Wild Child Block      87   65.0      Oregon   \n",
       "3                         Mountain CuvÃ©e      87   19.0  California   \n",
       "4                                     NaN      87   34.0  California   \n",
       "...                                   ...     ...    ...         ...   \n",
       "90996                              Five-O      84   25.0    New York   \n",
       "90997                       Crimson Creek      84   27.0  California   \n",
       "90998                                 NaN      84   40.0    New York   \n",
       "90999                        Bungalow Red      84   15.0  California   \n",
       "91000                                 NaN      84    6.0  California   \n",
       "\n",
       "                        region_1           region_2         taster_name  \\\n",
       "0              Willamette Valley  Willamette Valley        Paul Gregutt   \n",
       "1            Lake Michigan Shore                NaN  Alexander Peartree   \n",
       "2              Willamette Valley  Willamette Valley        Paul Gregutt   \n",
       "3                    Napa Valley               Napa      Virginie Boone   \n",
       "4               Alexander Valley             Sonoma      Virginie Boone   \n",
       "...                          ...                ...                 ...   \n",
       "90996  North Fork of Long Island        Long Island                 NaN   \n",
       "90997                Napa Valley               Napa                 NaN   \n",
       "90998  The Hamptons, Long Island        Long Island                 NaN   \n",
       "90999       Santa Barbara County      Central Coast                 NaN   \n",
       "91000                 California   California Other                 NaN   \n",
       "\n",
       "      taster_twitter_handle  \\\n",
       "0              @paulgwineÂ    \n",
       "1                       NaN   \n",
       "2              @paulgwineÂ    \n",
       "3                   @vboone   \n",
       "4                   @vboone   \n",
       "...                     ...   \n",
       "90996                   NaN   \n",
       "90997                   NaN   \n",
       "90998                   NaN   \n",
       "90999                   NaN   \n",
       "91000                   NaN   \n",
       "\n",
       "                                                   title             variety  \\\n",
       "0          Rainstorm 2013 Pinot Gris (Willamette Valley)          Pinot Gris   \n",
       "1      St. Julian 2013 Reserve Late Harvest Riesling ...            Riesling   \n",
       "2      Sweet Cheeks 2012 Vintner's Reserve Wild Child...          Pinot Noir   \n",
       "3      Kirkland Signature 2011 Mountain CuvÃ©e Cabern...  Cabernet Sauvignon   \n",
       "4      Louis M. Martini 2012 Cabernet Sauvignon (Alex...  Cabernet Sauvignon   \n",
       "...                                                  ...                 ...   \n",
       "90996                                                NaN           Red Blend   \n",
       "90997                                                NaN              Merlot   \n",
       "90998                                                NaN      Cabernet Franc   \n",
       "90999                                                NaN      Syrah-Grenache   \n",
       "91000                                                NaN              Merlot   \n",
       "\n",
       "                   winery  grade  \n",
       "0               Rainstorm      2  \n",
       "1              St. Julian      2  \n",
       "2            Sweet Cheeks      2  \n",
       "3      Kirkland Signature      2  \n",
       "4        Louis M. Martini      2  \n",
       "...                   ...    ...  \n",
       "90996        Martha Clara      1  \n",
       "90997          Pine Ridge      1  \n",
       "90998            WÃ¶lffer      1  \n",
       "90999       Casa Barranca      1  \n",
       "91000            Delicato      1  \n",
       "\n",
       "[91001 rows x 14 columns]"
      ]
     },
     "execution_count": 28,
     "metadata": {},
     "output_type": "execute_result"
    }
   ],
   "source": [
    "us"
   ]
  },
  {
   "cell_type": "code",
   "execution_count": 49,
   "metadata": {},
   "outputs": [],
   "source": [
    "italy = df[df['country'] == 'Italy'].reset_index(drop = True)"
   ]
  },
  {
   "cell_type": "code",
   "execution_count": 50,
   "metadata": {},
   "outputs": [
    {
     "data": {
      "text/plain": [
       "0.7280744035732812"
      ]
     },
     "execution_count": 50,
     "metadata": {},
     "output_type": "execute_result"
    }
   ],
   "source": [
    "(len(us) + len(france) + len(italy)) / len(df)"
   ]
  },
  {
   "cell_type": "code",
   "execution_count": 18,
   "metadata": {},
   "outputs": [
    {
     "data": {
      "text/plain": [
       "3    35.516489\n",
       "2    32.959899\n",
       "1    23.058141\n",
       "4     7.250373\n",
       "0     1.019763\n",
       "5     0.195335\n",
       "Name: grade, dtype: float64"
      ]
     },
     "execution_count": 18,
     "metadata": {},
     "output_type": "execute_result"
    }
   ],
   "source": [
    "france['grade'].value_counts(normalize=True) * 100"
   ]
  },
  {
   "cell_type": "code",
   "execution_count": 39,
   "metadata": {},
   "outputs": [
    {
     "data": {
      "text/html": [
       "<div>\n",
       "<style scoped>\n",
       "    .dataframe tbody tr th:only-of-type {\n",
       "        vertical-align: middle;\n",
       "    }\n",
       "\n",
       "    .dataframe tbody tr th {\n",
       "        vertical-align: top;\n",
       "    }\n",
       "\n",
       "    .dataframe thead th {\n",
       "        text-align: right;\n",
       "    }\n",
       "</style>\n",
       "<table border=\"1\" class=\"dataframe\">\n",
       "  <thead>\n",
       "    <tr style=\"text-align: right;\">\n",
       "      <th></th>\n",
       "      <th>grade</th>\n",
       "      <th>count_fr</th>\n",
       "      <th>perc_fr</th>\n",
       "    </tr>\n",
       "  </thead>\n",
       "  <tbody>\n",
       "    <tr>\n",
       "      <th>0</th>\n",
       "      <td>3</td>\n",
       "      <td>12364</td>\n",
       "      <td>35.516489</td>\n",
       "    </tr>\n",
       "    <tr>\n",
       "      <th>1</th>\n",
       "      <td>2</td>\n",
       "      <td>11474</td>\n",
       "      <td>32.959899</td>\n",
       "    </tr>\n",
       "    <tr>\n",
       "      <th>2</th>\n",
       "      <td>1</td>\n",
       "      <td>8027</td>\n",
       "      <td>23.058141</td>\n",
       "    </tr>\n",
       "    <tr>\n",
       "      <th>3</th>\n",
       "      <td>4</td>\n",
       "      <td>2524</td>\n",
       "      <td>7.250373</td>\n",
       "    </tr>\n",
       "    <tr>\n",
       "      <th>4</th>\n",
       "      <td>0</td>\n",
       "      <td>355</td>\n",
       "      <td>1.019763</td>\n",
       "    </tr>\n",
       "    <tr>\n",
       "      <th>5</th>\n",
       "      <td>5</td>\n",
       "      <td>68</td>\n",
       "      <td>0.195335</td>\n",
       "    </tr>\n",
       "  </tbody>\n",
       "</table>\n",
       "</div>"
      ],
      "text/plain": [
       "   grade  count_fr    perc_fr\n",
       "0      3     12364  35.516489\n",
       "1      2     11474  32.959899\n",
       "2      1      8027  23.058141\n",
       "3      4      2524   7.250373\n",
       "4      0       355   1.019763\n",
       "5      5        68   0.195335"
      ]
     },
     "execution_count": 39,
     "metadata": {},
     "output_type": "execute_result"
    }
   ],
   "source": [
    "grades_france = france['grade'].value_counts().reset_index()\n",
    "grades_france.columns = ['grade', 'count_fr']\n",
    "grades_france['perc_fr'] = (grades_france['count_fr']/grades_france['count_fr'].sum()) * 100\n",
    "grades_france"
   ]
  },
  {
   "cell_type": "code",
   "execution_count": 15,
   "metadata": {},
   "outputs": [
    {
     "data": {
      "text/plain": [
       "3    29960\n",
       "2    28616\n",
       "1    24110\n",
       "4     4634\n",
       "0     3585\n",
       "5       96\n",
       "Name: grade, dtype: int64"
      ]
     },
     "execution_count": 15,
     "metadata": {},
     "output_type": "execute_result"
    }
   ],
   "source": [
    "us['grade'].value_counts()"
   ]
  },
  {
   "cell_type": "code",
   "execution_count": 38,
   "metadata": {},
   "outputs": [
    {
     "data": {
      "text/html": [
       "<div>\n",
       "<style scoped>\n",
       "    .dataframe tbody tr th:only-of-type {\n",
       "        vertical-align: middle;\n",
       "    }\n",
       "\n",
       "    .dataframe tbody tr th {\n",
       "        vertical-align: top;\n",
       "    }\n",
       "\n",
       "    .dataframe thead th {\n",
       "        text-align: right;\n",
       "    }\n",
       "</style>\n",
       "<table border=\"1\" class=\"dataframe\">\n",
       "  <thead>\n",
       "    <tr style=\"text-align: right;\">\n",
       "      <th></th>\n",
       "      <th>grade</th>\n",
       "      <th>count_us</th>\n",
       "      <th>perc_us</th>\n",
       "    </tr>\n",
       "  </thead>\n",
       "  <tbody>\n",
       "    <tr>\n",
       "      <th>0</th>\n",
       "      <td>3</td>\n",
       "      <td>29960</td>\n",
       "      <td>32.922715</td>\n",
       "    </tr>\n",
       "    <tr>\n",
       "      <th>1</th>\n",
       "      <td>2</td>\n",
       "      <td>28616</td>\n",
       "      <td>31.445808</td>\n",
       "    </tr>\n",
       "    <tr>\n",
       "      <th>2</th>\n",
       "      <td>1</td>\n",
       "      <td>24110</td>\n",
       "      <td>26.494214</td>\n",
       "    </tr>\n",
       "    <tr>\n",
       "      <th>3</th>\n",
       "      <td>4</td>\n",
       "      <td>4634</td>\n",
       "      <td>5.092252</td>\n",
       "    </tr>\n",
       "    <tr>\n",
       "      <th>4</th>\n",
       "      <td>0</td>\n",
       "      <td>3585</td>\n",
       "      <td>3.939517</td>\n",
       "    </tr>\n",
       "    <tr>\n",
       "      <th>5</th>\n",
       "      <td>5</td>\n",
       "      <td>96</td>\n",
       "      <td>0.105493</td>\n",
       "    </tr>\n",
       "  </tbody>\n",
       "</table>\n",
       "</div>"
      ],
      "text/plain": [
       "   grade  count_us    perc_us\n",
       "0      3     29960  32.922715\n",
       "1      2     28616  31.445808\n",
       "2      1     24110  26.494214\n",
       "3      4      4634   5.092252\n",
       "4      0      3585   3.939517\n",
       "5      5        96   0.105493"
      ]
     },
     "execution_count": 38,
     "metadata": {},
     "output_type": "execute_result"
    }
   ],
   "source": [
    "grades_us = us['grade'].value_counts().reset_index()\n",
    "grades_us.columns = ['grade', 'count_us']\n",
    "grades_us['perc_us'] = (grades_us['count_us']/grades_us['count_us'].sum()) * 100\n",
    "grades_us"
   ]
  },
  {
   "cell_type": "code",
   "execution_count": 40,
   "metadata": {},
   "outputs": [],
   "source": [
    "grades_together = pd.merge(grades_france, grades_us, on = 'grade')"
   ]
  },
  {
   "cell_type": "code",
   "execution_count": 46,
   "metadata": {},
   "outputs": [],
   "source": [
    "grades_final = grades_together.sort_values(by = 'grade', ascending=True).reset_index(drop=True)"
   ]
  },
  {
   "cell_type": "code",
   "execution_count": 47,
   "metadata": {},
   "outputs": [
    {
     "data": {
      "text/html": [
       "<div>\n",
       "<style scoped>\n",
       "    .dataframe tbody tr th:only-of-type {\n",
       "        vertical-align: middle;\n",
       "    }\n",
       "\n",
       "    .dataframe tbody tr th {\n",
       "        vertical-align: top;\n",
       "    }\n",
       "\n",
       "    .dataframe thead th {\n",
       "        text-align: right;\n",
       "    }\n",
       "</style>\n",
       "<table border=\"1\" class=\"dataframe\">\n",
       "  <thead>\n",
       "    <tr style=\"text-align: right;\">\n",
       "      <th></th>\n",
       "      <th>grade</th>\n",
       "      <th>count_fr</th>\n",
       "      <th>perc_fr</th>\n",
       "      <th>count_us</th>\n",
       "      <th>perc_us</th>\n",
       "    </tr>\n",
       "  </thead>\n",
       "  <tbody>\n",
       "    <tr>\n",
       "      <th>0</th>\n",
       "      <td>0</td>\n",
       "      <td>355</td>\n",
       "      <td>1.019763</td>\n",
       "      <td>3585</td>\n",
       "      <td>3.939517</td>\n",
       "    </tr>\n",
       "    <tr>\n",
       "      <th>1</th>\n",
       "      <td>1</td>\n",
       "      <td>8027</td>\n",
       "      <td>23.058141</td>\n",
       "      <td>24110</td>\n",
       "      <td>26.494214</td>\n",
       "    </tr>\n",
       "    <tr>\n",
       "      <th>2</th>\n",
       "      <td>2</td>\n",
       "      <td>11474</td>\n",
       "      <td>32.959899</td>\n",
       "      <td>28616</td>\n",
       "      <td>31.445808</td>\n",
       "    </tr>\n",
       "    <tr>\n",
       "      <th>3</th>\n",
       "      <td>3</td>\n",
       "      <td>12364</td>\n",
       "      <td>35.516489</td>\n",
       "      <td>29960</td>\n",
       "      <td>32.922715</td>\n",
       "    </tr>\n",
       "    <tr>\n",
       "      <th>4</th>\n",
       "      <td>4</td>\n",
       "      <td>2524</td>\n",
       "      <td>7.250373</td>\n",
       "      <td>4634</td>\n",
       "      <td>5.092252</td>\n",
       "    </tr>\n",
       "    <tr>\n",
       "      <th>5</th>\n",
       "      <td>5</td>\n",
       "      <td>68</td>\n",
       "      <td>0.195335</td>\n",
       "      <td>96</td>\n",
       "      <td>0.105493</td>\n",
       "    </tr>\n",
       "  </tbody>\n",
       "</table>\n",
       "</div>"
      ],
      "text/plain": [
       "   grade  count_fr    perc_fr  count_us    perc_us\n",
       "0      0       355   1.019763      3585   3.939517\n",
       "1      1      8027  23.058141     24110  26.494214\n",
       "2      2     11474  32.959899     28616  31.445808\n",
       "3      3     12364  35.516489     29960  32.922715\n",
       "4      4      2524   7.250373      4634   5.092252\n",
       "5      5        68   0.195335        96   0.105493"
      ]
     },
     "execution_count": 47,
     "metadata": {},
     "output_type": "execute_result"
    }
   ],
   "source": [
    "grades_final"
   ]
  },
  {
   "cell_type": "code",
   "execution_count": 51,
   "metadata": {},
   "outputs": [
    {
     "data": {
      "text/plain": [
       "2    43.266240\n",
       "3    30.003050\n",
       "1    21.857274\n",
       "4     4.056115\n",
       "0     0.667887\n",
       "5     0.149436\n",
       "Name: grade, dtype: float64"
      ]
     },
     "execution_count": 51,
     "metadata": {},
     "output_type": "execute_result"
    }
   ],
   "source": [
    "italy['grade'].value_counts(normalize=True) * 100"
   ]
  },
  {
   "cell_type": "code",
   "execution_count": 52,
   "metadata": {},
   "outputs": [
    {
     "data": {
      "text/html": [
       "<div>\n",
       "<style scoped>\n",
       "    .dataframe tbody tr th:only-of-type {\n",
       "        vertical-align: middle;\n",
       "    }\n",
       "\n",
       "    .dataframe tbody tr th {\n",
       "        vertical-align: top;\n",
       "    }\n",
       "\n",
       "    .dataframe thead th {\n",
       "        text-align: right;\n",
       "    }\n",
       "</style>\n",
       "<table border=\"1\" class=\"dataframe\">\n",
       "  <thead>\n",
       "    <tr style=\"text-align: right;\">\n",
       "      <th></th>\n",
       "      <th>grade</th>\n",
       "      <th>count_it</th>\n",
       "      <th>perc_it</th>\n",
       "    </tr>\n",
       "  </thead>\n",
       "  <tbody>\n",
       "    <tr>\n",
       "      <th>0</th>\n",
       "      <td>2</td>\n",
       "      <td>14187</td>\n",
       "      <td>43.266240</td>\n",
       "    </tr>\n",
       "    <tr>\n",
       "      <th>1</th>\n",
       "      <td>3</td>\n",
       "      <td>9838</td>\n",
       "      <td>30.003050</td>\n",
       "    </tr>\n",
       "    <tr>\n",
       "      <th>2</th>\n",
       "      <td>1</td>\n",
       "      <td>7167</td>\n",
       "      <td>21.857274</td>\n",
       "    </tr>\n",
       "    <tr>\n",
       "      <th>3</th>\n",
       "      <td>4</td>\n",
       "      <td>1330</td>\n",
       "      <td>4.056115</td>\n",
       "    </tr>\n",
       "    <tr>\n",
       "      <th>4</th>\n",
       "      <td>0</td>\n",
       "      <td>219</td>\n",
       "      <td>0.667887</td>\n",
       "    </tr>\n",
       "    <tr>\n",
       "      <th>5</th>\n",
       "      <td>5</td>\n",
       "      <td>49</td>\n",
       "      <td>0.149436</td>\n",
       "    </tr>\n",
       "  </tbody>\n",
       "</table>\n",
       "</div>"
      ],
      "text/plain": [
       "   grade  count_it    perc_it\n",
       "0      2     14187  43.266240\n",
       "1      3      9838  30.003050\n",
       "2      1      7167  21.857274\n",
       "3      4      1330   4.056115\n",
       "4      0       219   0.667887\n",
       "5      5        49   0.149436"
      ]
     },
     "execution_count": 52,
     "metadata": {},
     "output_type": "execute_result"
    }
   ],
   "source": [
    "grades_it = italy['grade'].value_counts().reset_index()\n",
    "grades_it.columns = ['grade', 'count_it']\n",
    "grades_it['perc_it'] = (grades_it['count_it']/grades_it['count_it'].sum()) * 100\n",
    "grades_it"
   ]
  },
  {
   "cell_type": "code",
   "execution_count": 69,
   "metadata": {},
   "outputs": [
    {
     "data": {
      "text/html": [
       "<div>\n",
       "<style scoped>\n",
       "    .dataframe tbody tr th:only-of-type {\n",
       "        vertical-align: middle;\n",
       "    }\n",
       "\n",
       "    .dataframe tbody tr th {\n",
       "        vertical-align: top;\n",
       "    }\n",
       "\n",
       "    .dataframe thead th {\n",
       "        text-align: right;\n",
       "    }\n",
       "</style>\n",
       "<table border=\"1\" class=\"dataframe\">\n",
       "  <thead>\n",
       "    <tr style=\"text-align: right;\">\n",
       "      <th></th>\n",
       "      <th>grade</th>\n",
       "      <th>count_all</th>\n",
       "      <th>perc_all</th>\n",
       "    </tr>\n",
       "  </thead>\n",
       "  <tbody>\n",
       "    <tr>\n",
       "      <th>0</th>\n",
       "      <td>2</td>\n",
       "      <td>74724</td>\n",
       "      <td>34.302398</td>\n",
       "    </tr>\n",
       "    <tr>\n",
       "      <th>1</th>\n",
       "      <td>3</td>\n",
       "      <td>67616</td>\n",
       "      <td>31.039437</td>\n",
       "    </tr>\n",
       "    <tr>\n",
       "      <th>2</th>\n",
       "      <td>1</td>\n",
       "      <td>58334</td>\n",
       "      <td>26.778492</td>\n",
       "    </tr>\n",
       "    <tr>\n",
       "      <th>3</th>\n",
       "      <td>4</td>\n",
       "      <td>10018</td>\n",
       "      <td>4.598809</td>\n",
       "    </tr>\n",
       "    <tr>\n",
       "      <th>4</th>\n",
       "      <td>0</td>\n",
       "      <td>6904</td>\n",
       "      <td>3.169313</td>\n",
       "    </tr>\n",
       "    <tr>\n",
       "      <th>5</th>\n",
       "      <td>5</td>\n",
       "      <td>243</td>\n",
       "      <td>0.111550</td>\n",
       "    </tr>\n",
       "  </tbody>\n",
       "</table>\n",
       "</div>"
      ],
      "text/plain": [
       "   grade  count_all   perc_all\n",
       "0      2      74724  34.302398\n",
       "1      3      67616  31.039437\n",
       "2      1      58334  26.778492\n",
       "3      4      10018   4.598809\n",
       "4      0       6904   3.169313\n",
       "5      5        243   0.111550"
      ]
     },
     "execution_count": 69,
     "metadata": {},
     "output_type": "execute_result"
    }
   ],
   "source": [
    "grades_all = df['grade'].value_counts().reset_index()\n",
    "grades_all.columns = ['grade', 'count_all']\n",
    "grades_all['perc_all'] = (grades_all['count_all']/grades_all['count_all'].sum()) * 100\n",
    "grades_all"
   ]
  },
  {
   "cell_type": "code",
   "execution_count": 53,
   "metadata": {},
   "outputs": [],
   "source": [
    "grades_final = pd.merge(grades_together, grades_it, on = 'grade').sort_values(by = 'grade', ascending=True).reset_index(drop=True)"
   ]
  },
  {
   "cell_type": "code",
   "execution_count": 54,
   "metadata": {},
   "outputs": [
    {
     "data": {
      "text/html": [
       "<div>\n",
       "<style scoped>\n",
       "    .dataframe tbody tr th:only-of-type {\n",
       "        vertical-align: middle;\n",
       "    }\n",
       "\n",
       "    .dataframe tbody tr th {\n",
       "        vertical-align: top;\n",
       "    }\n",
       "\n",
       "    .dataframe thead th {\n",
       "        text-align: right;\n",
       "    }\n",
       "</style>\n",
       "<table border=\"1\" class=\"dataframe\">\n",
       "  <thead>\n",
       "    <tr style=\"text-align: right;\">\n",
       "      <th></th>\n",
       "      <th>grade</th>\n",
       "      <th>count_fr</th>\n",
       "      <th>perc_fr</th>\n",
       "      <th>count_us</th>\n",
       "      <th>perc_us</th>\n",
       "      <th>count_it</th>\n",
       "      <th>perc_it</th>\n",
       "    </tr>\n",
       "  </thead>\n",
       "  <tbody>\n",
       "    <tr>\n",
       "      <th>0</th>\n",
       "      <td>0</td>\n",
       "      <td>355</td>\n",
       "      <td>1.019763</td>\n",
       "      <td>3585</td>\n",
       "      <td>3.939517</td>\n",
       "      <td>219</td>\n",
       "      <td>0.667887</td>\n",
       "    </tr>\n",
       "    <tr>\n",
       "      <th>1</th>\n",
       "      <td>1</td>\n",
       "      <td>8027</td>\n",
       "      <td>23.058141</td>\n",
       "      <td>24110</td>\n",
       "      <td>26.494214</td>\n",
       "      <td>7167</td>\n",
       "      <td>21.857274</td>\n",
       "    </tr>\n",
       "    <tr>\n",
       "      <th>2</th>\n",
       "      <td>2</td>\n",
       "      <td>11474</td>\n",
       "      <td>32.959899</td>\n",
       "      <td>28616</td>\n",
       "      <td>31.445808</td>\n",
       "      <td>14187</td>\n",
       "      <td>43.266240</td>\n",
       "    </tr>\n",
       "    <tr>\n",
       "      <th>3</th>\n",
       "      <td>3</td>\n",
       "      <td>12364</td>\n",
       "      <td>35.516489</td>\n",
       "      <td>29960</td>\n",
       "      <td>32.922715</td>\n",
       "      <td>9838</td>\n",
       "      <td>30.003050</td>\n",
       "    </tr>\n",
       "    <tr>\n",
       "      <th>4</th>\n",
       "      <td>4</td>\n",
       "      <td>2524</td>\n",
       "      <td>7.250373</td>\n",
       "      <td>4634</td>\n",
       "      <td>5.092252</td>\n",
       "      <td>1330</td>\n",
       "      <td>4.056115</td>\n",
       "    </tr>\n",
       "    <tr>\n",
       "      <th>5</th>\n",
       "      <td>5</td>\n",
       "      <td>68</td>\n",
       "      <td>0.195335</td>\n",
       "      <td>96</td>\n",
       "      <td>0.105493</td>\n",
       "      <td>49</td>\n",
       "      <td>0.149436</td>\n",
       "    </tr>\n",
       "  </tbody>\n",
       "</table>\n",
       "</div>"
      ],
      "text/plain": [
       "   grade  count_fr    perc_fr  count_us    perc_us  count_it    perc_it\n",
       "0      0       355   1.019763      3585   3.939517       219   0.667887\n",
       "1      1      8027  23.058141     24110  26.494214      7167  21.857274\n",
       "2      2     11474  32.959899     28616  31.445808     14187  43.266240\n",
       "3      3     12364  35.516489     29960  32.922715      9838  30.003050\n",
       "4      4      2524   7.250373      4634   5.092252      1330   4.056115\n",
       "5      5        68   0.195335        96   0.105493        49   0.149436"
      ]
     },
     "execution_count": 54,
     "metadata": {},
     "output_type": "execute_result"
    }
   ],
   "source": [
    "grades_final"
   ]
  },
  {
   "cell_type": "code",
   "execution_count": 55,
   "metadata": {},
   "outputs": [],
   "source": [
    "grades_final = grades_final[['grade', 'count_fr', 'count_it', 'count_us', 'perc_fr', 'perc_it', 'perc_us']]"
   ]
  },
  {
   "cell_type": "code",
   "execution_count": 56,
   "metadata": {},
   "outputs": [
    {
     "data": {
      "text/html": [
       "<div>\n",
       "<style scoped>\n",
       "    .dataframe tbody tr th:only-of-type {\n",
       "        vertical-align: middle;\n",
       "    }\n",
       "\n",
       "    .dataframe tbody tr th {\n",
       "        vertical-align: top;\n",
       "    }\n",
       "\n",
       "    .dataframe thead th {\n",
       "        text-align: right;\n",
       "    }\n",
       "</style>\n",
       "<table border=\"1\" class=\"dataframe\">\n",
       "  <thead>\n",
       "    <tr style=\"text-align: right;\">\n",
       "      <th></th>\n",
       "      <th>grade</th>\n",
       "      <th>count_fr</th>\n",
       "      <th>count_it</th>\n",
       "      <th>count_us</th>\n",
       "      <th>perc_fr</th>\n",
       "      <th>perc_it</th>\n",
       "      <th>perc_us</th>\n",
       "    </tr>\n",
       "  </thead>\n",
       "  <tbody>\n",
       "    <tr>\n",
       "      <th>0</th>\n",
       "      <td>0</td>\n",
       "      <td>355</td>\n",
       "      <td>219</td>\n",
       "      <td>3585</td>\n",
       "      <td>1.019763</td>\n",
       "      <td>0.667887</td>\n",
       "      <td>3.939517</td>\n",
       "    </tr>\n",
       "    <tr>\n",
       "      <th>1</th>\n",
       "      <td>1</td>\n",
       "      <td>8027</td>\n",
       "      <td>7167</td>\n",
       "      <td>24110</td>\n",
       "      <td>23.058141</td>\n",
       "      <td>21.857274</td>\n",
       "      <td>26.494214</td>\n",
       "    </tr>\n",
       "    <tr>\n",
       "      <th>2</th>\n",
       "      <td>2</td>\n",
       "      <td>11474</td>\n",
       "      <td>14187</td>\n",
       "      <td>28616</td>\n",
       "      <td>32.959899</td>\n",
       "      <td>43.266240</td>\n",
       "      <td>31.445808</td>\n",
       "    </tr>\n",
       "    <tr>\n",
       "      <th>3</th>\n",
       "      <td>3</td>\n",
       "      <td>12364</td>\n",
       "      <td>9838</td>\n",
       "      <td>29960</td>\n",
       "      <td>35.516489</td>\n",
       "      <td>30.003050</td>\n",
       "      <td>32.922715</td>\n",
       "    </tr>\n",
       "    <tr>\n",
       "      <th>4</th>\n",
       "      <td>4</td>\n",
       "      <td>2524</td>\n",
       "      <td>1330</td>\n",
       "      <td>4634</td>\n",
       "      <td>7.250373</td>\n",
       "      <td>4.056115</td>\n",
       "      <td>5.092252</td>\n",
       "    </tr>\n",
       "    <tr>\n",
       "      <th>5</th>\n",
       "      <td>5</td>\n",
       "      <td>68</td>\n",
       "      <td>49</td>\n",
       "      <td>96</td>\n",
       "      <td>0.195335</td>\n",
       "      <td>0.149436</td>\n",
       "      <td>0.105493</td>\n",
       "    </tr>\n",
       "  </tbody>\n",
       "</table>\n",
       "</div>"
      ],
      "text/plain": [
       "   grade  count_fr  count_it  count_us    perc_fr    perc_it    perc_us\n",
       "0      0       355       219      3585   1.019763   0.667887   3.939517\n",
       "1      1      8027      7167     24110  23.058141  21.857274  26.494214\n",
       "2      2     11474     14187     28616  32.959899  43.266240  31.445808\n",
       "3      3     12364      9838     29960  35.516489  30.003050  32.922715\n",
       "4      4      2524      1330      4634   7.250373   4.056115   5.092252\n",
       "5      5        68        49        96   0.195335   0.149436   0.105493"
      ]
     },
     "execution_count": 56,
     "metadata": {},
     "output_type": "execute_result"
    }
   ],
   "source": [
    "grades_final"
   ]
  },
  {
   "cell_type": "code",
   "execution_count": 57,
   "metadata": {},
   "outputs": [],
   "source": [
    "perc = grades_final[['grade', 'perc_fr', 'perc_it', 'perc_us']]"
   ]
  },
  {
   "cell_type": "code",
   "execution_count": 58,
   "metadata": {},
   "outputs": [
    {
     "data": {
      "text/html": [
       "<div>\n",
       "<style scoped>\n",
       "    .dataframe tbody tr th:only-of-type {\n",
       "        vertical-align: middle;\n",
       "    }\n",
       "\n",
       "    .dataframe tbody tr th {\n",
       "        vertical-align: top;\n",
       "    }\n",
       "\n",
       "    .dataframe thead th {\n",
       "        text-align: right;\n",
       "    }\n",
       "</style>\n",
       "<table border=\"1\" class=\"dataframe\">\n",
       "  <thead>\n",
       "    <tr style=\"text-align: right;\">\n",
       "      <th></th>\n",
       "      <th>grade</th>\n",
       "      <th>perc_fr</th>\n",
       "      <th>perc_it</th>\n",
       "      <th>perc_us</th>\n",
       "    </tr>\n",
       "  </thead>\n",
       "  <tbody>\n",
       "    <tr>\n",
       "      <th>0</th>\n",
       "      <td>0</td>\n",
       "      <td>1.019763</td>\n",
       "      <td>0.667887</td>\n",
       "      <td>3.939517</td>\n",
       "    </tr>\n",
       "    <tr>\n",
       "      <th>1</th>\n",
       "      <td>1</td>\n",
       "      <td>23.058141</td>\n",
       "      <td>21.857274</td>\n",
       "      <td>26.494214</td>\n",
       "    </tr>\n",
       "    <tr>\n",
       "      <th>2</th>\n",
       "      <td>2</td>\n",
       "      <td>32.959899</td>\n",
       "      <td>43.266240</td>\n",
       "      <td>31.445808</td>\n",
       "    </tr>\n",
       "    <tr>\n",
       "      <th>3</th>\n",
       "      <td>3</td>\n",
       "      <td>35.516489</td>\n",
       "      <td>30.003050</td>\n",
       "      <td>32.922715</td>\n",
       "    </tr>\n",
       "    <tr>\n",
       "      <th>4</th>\n",
       "      <td>4</td>\n",
       "      <td>7.250373</td>\n",
       "      <td>4.056115</td>\n",
       "      <td>5.092252</td>\n",
       "    </tr>\n",
       "    <tr>\n",
       "      <th>5</th>\n",
       "      <td>5</td>\n",
       "      <td>0.195335</td>\n",
       "      <td>0.149436</td>\n",
       "      <td>0.105493</td>\n",
       "    </tr>\n",
       "  </tbody>\n",
       "</table>\n",
       "</div>"
      ],
      "text/plain": [
       "   grade    perc_fr    perc_it    perc_us\n",
       "0      0   1.019763   0.667887   3.939517\n",
       "1      1  23.058141  21.857274  26.494214\n",
       "2      2  32.959899  43.266240  31.445808\n",
       "3      3  35.516489  30.003050  32.922715\n",
       "4      4   7.250373   4.056115   5.092252\n",
       "5      5   0.195335   0.149436   0.105493"
      ]
     },
     "execution_count": 58,
     "metadata": {},
     "output_type": "execute_result"
    }
   ],
   "source": [
    "perc"
   ]
  },
  {
   "cell_type": "code",
   "execution_count": 67,
   "metadata": {},
   "outputs": [
    {
     "data": {
      "application/vnd.plotly.v1+json": {
       "config": {
        "plotlyServerURL": "https://plot.ly"
       },
       "data": [
        {
         "mode": "lines+markers",
         "name": "France",
         "type": "scatter",
         "x": [
          0,
          1,
          2,
          3,
          4,
          5
         ],
         "y": [
          1.0197633000114903,
          23.058140870964035,
          32.9598988854418,
          35.51648856716075,
          7.250373434447892,
          0.19533494197403195
         ]
        },
        {
         "mode": "lines+markers",
         "name": "Italy",
         "type": "scatter",
         "x": [
          0,
          1,
          2,
          3,
          4,
          5
         ],
         "y": [
          0.6678865507776761,
          21.857273559011894,
          43.26623970722782,
          30.003049710277523,
          4.056114669106435,
          0.14943580359865813
         ]
        },
        {
         "mode": "lines+markers",
         "name": "USA",
         "type": "scatter",
         "x": [
          0,
          1,
          2,
          3,
          4,
          5
         ],
         "y": [
          3.9395171481632065,
          26.494214349292868,
          31.445808287821013,
          32.92271513499851,
          5.092251733497434,
          0.10549334622696455
         ]
        }
       ],
       "layout": {
        "template": {
         "data": {
          "bar": [
           {
            "error_x": {
             "color": "#2a3f5f"
            },
            "error_y": {
             "color": "#2a3f5f"
            },
            "marker": {
             "line": {
              "color": "#E5ECF6",
              "width": 0.5
             }
            },
            "type": "bar"
           }
          ],
          "barpolar": [
           {
            "marker": {
             "line": {
              "color": "#E5ECF6",
              "width": 0.5
             }
            },
            "type": "barpolar"
           }
          ],
          "carpet": [
           {
            "aaxis": {
             "endlinecolor": "#2a3f5f",
             "gridcolor": "white",
             "linecolor": "white",
             "minorgridcolor": "white",
             "startlinecolor": "#2a3f5f"
            },
            "baxis": {
             "endlinecolor": "#2a3f5f",
             "gridcolor": "white",
             "linecolor": "white",
             "minorgridcolor": "white",
             "startlinecolor": "#2a3f5f"
            },
            "type": "carpet"
           }
          ],
          "choropleth": [
           {
            "colorbar": {
             "outlinewidth": 0,
             "ticks": ""
            },
            "type": "choropleth"
           }
          ],
          "contour": [
           {
            "colorbar": {
             "outlinewidth": 0,
             "ticks": ""
            },
            "colorscale": [
             [
              0,
              "#0d0887"
             ],
             [
              0.1111111111111111,
              "#46039f"
             ],
             [
              0.2222222222222222,
              "#7201a8"
             ],
             [
              0.3333333333333333,
              "#9c179e"
             ],
             [
              0.4444444444444444,
              "#bd3786"
             ],
             [
              0.5555555555555556,
              "#d8576b"
             ],
             [
              0.6666666666666666,
              "#ed7953"
             ],
             [
              0.7777777777777778,
              "#fb9f3a"
             ],
             [
              0.8888888888888888,
              "#fdca26"
             ],
             [
              1,
              "#f0f921"
             ]
            ],
            "type": "contour"
           }
          ],
          "contourcarpet": [
           {
            "colorbar": {
             "outlinewidth": 0,
             "ticks": ""
            },
            "type": "contourcarpet"
           }
          ],
          "heatmap": [
           {
            "colorbar": {
             "outlinewidth": 0,
             "ticks": ""
            },
            "colorscale": [
             [
              0,
              "#0d0887"
             ],
             [
              0.1111111111111111,
              "#46039f"
             ],
             [
              0.2222222222222222,
              "#7201a8"
             ],
             [
              0.3333333333333333,
              "#9c179e"
             ],
             [
              0.4444444444444444,
              "#bd3786"
             ],
             [
              0.5555555555555556,
              "#d8576b"
             ],
             [
              0.6666666666666666,
              "#ed7953"
             ],
             [
              0.7777777777777778,
              "#fb9f3a"
             ],
             [
              0.8888888888888888,
              "#fdca26"
             ],
             [
              1,
              "#f0f921"
             ]
            ],
            "type": "heatmap"
           }
          ],
          "heatmapgl": [
           {
            "colorbar": {
             "outlinewidth": 0,
             "ticks": ""
            },
            "colorscale": [
             [
              0,
              "#0d0887"
             ],
             [
              0.1111111111111111,
              "#46039f"
             ],
             [
              0.2222222222222222,
              "#7201a8"
             ],
             [
              0.3333333333333333,
              "#9c179e"
             ],
             [
              0.4444444444444444,
              "#bd3786"
             ],
             [
              0.5555555555555556,
              "#d8576b"
             ],
             [
              0.6666666666666666,
              "#ed7953"
             ],
             [
              0.7777777777777778,
              "#fb9f3a"
             ],
             [
              0.8888888888888888,
              "#fdca26"
             ],
             [
              1,
              "#f0f921"
             ]
            ],
            "type": "heatmapgl"
           }
          ],
          "histogram": [
           {
            "marker": {
             "colorbar": {
              "outlinewidth": 0,
              "ticks": ""
             }
            },
            "type": "histogram"
           }
          ],
          "histogram2d": [
           {
            "colorbar": {
             "outlinewidth": 0,
             "ticks": ""
            },
            "colorscale": [
             [
              0,
              "#0d0887"
             ],
             [
              0.1111111111111111,
              "#46039f"
             ],
             [
              0.2222222222222222,
              "#7201a8"
             ],
             [
              0.3333333333333333,
              "#9c179e"
             ],
             [
              0.4444444444444444,
              "#bd3786"
             ],
             [
              0.5555555555555556,
              "#d8576b"
             ],
             [
              0.6666666666666666,
              "#ed7953"
             ],
             [
              0.7777777777777778,
              "#fb9f3a"
             ],
             [
              0.8888888888888888,
              "#fdca26"
             ],
             [
              1,
              "#f0f921"
             ]
            ],
            "type": "histogram2d"
           }
          ],
          "histogram2dcontour": [
           {
            "colorbar": {
             "outlinewidth": 0,
             "ticks": ""
            },
            "colorscale": [
             [
              0,
              "#0d0887"
             ],
             [
              0.1111111111111111,
              "#46039f"
             ],
             [
              0.2222222222222222,
              "#7201a8"
             ],
             [
              0.3333333333333333,
              "#9c179e"
             ],
             [
              0.4444444444444444,
              "#bd3786"
             ],
             [
              0.5555555555555556,
              "#d8576b"
             ],
             [
              0.6666666666666666,
              "#ed7953"
             ],
             [
              0.7777777777777778,
              "#fb9f3a"
             ],
             [
              0.8888888888888888,
              "#fdca26"
             ],
             [
              1,
              "#f0f921"
             ]
            ],
            "type": "histogram2dcontour"
           }
          ],
          "mesh3d": [
           {
            "colorbar": {
             "outlinewidth": 0,
             "ticks": ""
            },
            "type": "mesh3d"
           }
          ],
          "parcoords": [
           {
            "line": {
             "colorbar": {
              "outlinewidth": 0,
              "ticks": ""
             }
            },
            "type": "parcoords"
           }
          ],
          "pie": [
           {
            "automargin": true,
            "type": "pie"
           }
          ],
          "scatter": [
           {
            "marker": {
             "colorbar": {
              "outlinewidth": 0,
              "ticks": ""
             }
            },
            "type": "scatter"
           }
          ],
          "scatter3d": [
           {
            "line": {
             "colorbar": {
              "outlinewidth": 0,
              "ticks": ""
             }
            },
            "marker": {
             "colorbar": {
              "outlinewidth": 0,
              "ticks": ""
             }
            },
            "type": "scatter3d"
           }
          ],
          "scattercarpet": [
           {
            "marker": {
             "colorbar": {
              "outlinewidth": 0,
              "ticks": ""
             }
            },
            "type": "scattercarpet"
           }
          ],
          "scattergeo": [
           {
            "marker": {
             "colorbar": {
              "outlinewidth": 0,
              "ticks": ""
             }
            },
            "type": "scattergeo"
           }
          ],
          "scattergl": [
           {
            "marker": {
             "colorbar": {
              "outlinewidth": 0,
              "ticks": ""
             }
            },
            "type": "scattergl"
           }
          ],
          "scattermapbox": [
           {
            "marker": {
             "colorbar": {
              "outlinewidth": 0,
              "ticks": ""
             }
            },
            "type": "scattermapbox"
           }
          ],
          "scatterpolar": [
           {
            "marker": {
             "colorbar": {
              "outlinewidth": 0,
              "ticks": ""
             }
            },
            "type": "scatterpolar"
           }
          ],
          "scatterpolargl": [
           {
            "marker": {
             "colorbar": {
              "outlinewidth": 0,
              "ticks": ""
             }
            },
            "type": "scatterpolargl"
           }
          ],
          "scatterternary": [
           {
            "marker": {
             "colorbar": {
              "outlinewidth": 0,
              "ticks": ""
             }
            },
            "type": "scatterternary"
           }
          ],
          "surface": [
           {
            "colorbar": {
             "outlinewidth": 0,
             "ticks": ""
            },
            "colorscale": [
             [
              0,
              "#0d0887"
             ],
             [
              0.1111111111111111,
              "#46039f"
             ],
             [
              0.2222222222222222,
              "#7201a8"
             ],
             [
              0.3333333333333333,
              "#9c179e"
             ],
             [
              0.4444444444444444,
              "#bd3786"
             ],
             [
              0.5555555555555556,
              "#d8576b"
             ],
             [
              0.6666666666666666,
              "#ed7953"
             ],
             [
              0.7777777777777778,
              "#fb9f3a"
             ],
             [
              0.8888888888888888,
              "#fdca26"
             ],
             [
              1,
              "#f0f921"
             ]
            ],
            "type": "surface"
           }
          ],
          "table": [
           {
            "cells": {
             "fill": {
              "color": "#EBF0F8"
             },
             "line": {
              "color": "white"
             }
            },
            "header": {
             "fill": {
              "color": "#C8D4E3"
             },
             "line": {
              "color": "white"
             }
            },
            "type": "table"
           }
          ]
         },
         "layout": {
          "annotationdefaults": {
           "arrowcolor": "#2a3f5f",
           "arrowhead": 0,
           "arrowwidth": 1
          },
          "coloraxis": {
           "colorbar": {
            "outlinewidth": 0,
            "ticks": ""
           }
          },
          "colorscale": {
           "diverging": [
            [
             0,
             "#8e0152"
            ],
            [
             0.1,
             "#c51b7d"
            ],
            [
             0.2,
             "#de77ae"
            ],
            [
             0.3,
             "#f1b6da"
            ],
            [
             0.4,
             "#fde0ef"
            ],
            [
             0.5,
             "#f7f7f7"
            ],
            [
             0.6,
             "#e6f5d0"
            ],
            [
             0.7,
             "#b8e186"
            ],
            [
             0.8,
             "#7fbc41"
            ],
            [
             0.9,
             "#4d9221"
            ],
            [
             1,
             "#276419"
            ]
           ],
           "sequential": [
            [
             0,
             "#0d0887"
            ],
            [
             0.1111111111111111,
             "#46039f"
            ],
            [
             0.2222222222222222,
             "#7201a8"
            ],
            [
             0.3333333333333333,
             "#9c179e"
            ],
            [
             0.4444444444444444,
             "#bd3786"
            ],
            [
             0.5555555555555556,
             "#d8576b"
            ],
            [
             0.6666666666666666,
             "#ed7953"
            ],
            [
             0.7777777777777778,
             "#fb9f3a"
            ],
            [
             0.8888888888888888,
             "#fdca26"
            ],
            [
             1,
             "#f0f921"
            ]
           ],
           "sequentialminus": [
            [
             0,
             "#0d0887"
            ],
            [
             0.1111111111111111,
             "#46039f"
            ],
            [
             0.2222222222222222,
             "#7201a8"
            ],
            [
             0.3333333333333333,
             "#9c179e"
            ],
            [
             0.4444444444444444,
             "#bd3786"
            ],
            [
             0.5555555555555556,
             "#d8576b"
            ],
            [
             0.6666666666666666,
             "#ed7953"
            ],
            [
             0.7777777777777778,
             "#fb9f3a"
            ],
            [
             0.8888888888888888,
             "#fdca26"
            ],
            [
             1,
             "#f0f921"
            ]
           ]
          },
          "colorway": [
           "#636efa",
           "#EF553B",
           "#00cc96",
           "#ab63fa",
           "#FFA15A",
           "#19d3f3",
           "#FF6692",
           "#B6E880",
           "#FF97FF",
           "#FECB52"
          ],
          "font": {
           "color": "#2a3f5f"
          },
          "geo": {
           "bgcolor": "white",
           "lakecolor": "white",
           "landcolor": "#E5ECF6",
           "showlakes": true,
           "showland": true,
           "subunitcolor": "white"
          },
          "hoverlabel": {
           "align": "left"
          },
          "hovermode": "closest",
          "mapbox": {
           "style": "light"
          },
          "paper_bgcolor": "white",
          "plot_bgcolor": "#E5ECF6",
          "polar": {
           "angularaxis": {
            "gridcolor": "white",
            "linecolor": "white",
            "ticks": ""
           },
           "bgcolor": "#E5ECF6",
           "radialaxis": {
            "gridcolor": "white",
            "linecolor": "white",
            "ticks": ""
           }
          },
          "scene": {
           "xaxis": {
            "backgroundcolor": "#E5ECF6",
            "gridcolor": "white",
            "gridwidth": 2,
            "linecolor": "white",
            "showbackground": true,
            "ticks": "",
            "zerolinecolor": "white"
           },
           "yaxis": {
            "backgroundcolor": "#E5ECF6",
            "gridcolor": "white",
            "gridwidth": 2,
            "linecolor": "white",
            "showbackground": true,
            "ticks": "",
            "zerolinecolor": "white"
           },
           "zaxis": {
            "backgroundcolor": "#E5ECF6",
            "gridcolor": "white",
            "gridwidth": 2,
            "linecolor": "white",
            "showbackground": true,
            "ticks": "",
            "zerolinecolor": "white"
           }
          },
          "shapedefaults": {
           "line": {
            "color": "#2a3f5f"
           }
          },
          "ternary": {
           "aaxis": {
            "gridcolor": "white",
            "linecolor": "white",
            "ticks": ""
           },
           "baxis": {
            "gridcolor": "white",
            "linecolor": "white",
            "ticks": ""
           },
           "bgcolor": "#E5ECF6",
           "caxis": {
            "gridcolor": "white",
            "linecolor": "white",
            "ticks": ""
           }
          },
          "title": {
           "x": 0.05
          },
          "xaxis": {
           "automargin": true,
           "gridcolor": "white",
           "linecolor": "white",
           "ticks": "",
           "title": {
            "standoff": 15
           },
           "zerolinecolor": "white",
           "zerolinewidth": 2
          },
          "yaxis": {
           "automargin": true,
           "gridcolor": "white",
           "linecolor": "white",
           "ticks": "",
           "title": {
            "standoff": 15
           },
           "zerolinecolor": "white",
           "zerolinewidth": 2
          }
         }
        },
        "title": {
         "text": "Percentage of each grade compared to the total wine by each country"
        },
        "xaxis": {
         "title": {
          "text": "Grade"
         }
        },
        "yaxis": {
         "title": {
          "text": "Percentage(%)"
         }
        }
       }
      },
      "text/html": [
       "<div>\n",
       "        \n",
       "        \n",
       "            <div id=\"f7dc304b-cb9a-4a22-87ec-7c71f2be2e5e\" class=\"plotly-graph-div\" style=\"height:525px; width:100%;\"></div>\n",
       "            <script type=\"text/javascript\">\n",
       "                require([\"plotly\"], function(Plotly) {\n",
       "                    window.PLOTLYENV=window.PLOTLYENV || {};\n",
       "                    \n",
       "                if (document.getElementById(\"f7dc304b-cb9a-4a22-87ec-7c71f2be2e5e\")) {\n",
       "                    Plotly.newPlot(\n",
       "                        'f7dc304b-cb9a-4a22-87ec-7c71f2be2e5e',\n",
       "                        [{\"mode\": \"lines+markers\", \"name\": \"France\", \"type\": \"scatter\", \"x\": [0, 1, 2, 3, 4, 5], \"y\": [1.0197633000114903, 23.058140870964035, 32.9598988854418, 35.51648856716075, 7.250373434447892, 0.19533494197403195]}, {\"mode\": \"lines+markers\", \"name\": \"Italy\", \"type\": \"scatter\", \"x\": [0, 1, 2, 3, 4, 5], \"y\": [0.6678865507776761, 21.857273559011894, 43.26623970722782, 30.003049710277523, 4.056114669106435, 0.14943580359865813]}, {\"mode\": \"lines+markers\", \"name\": \"USA\", \"type\": \"scatter\", \"x\": [0, 1, 2, 3, 4, 5], \"y\": [3.9395171481632065, 26.494214349292868, 31.445808287821013, 32.92271513499851, 5.092251733497434, 0.10549334622696455]}],\n",
       "                        {\"template\": {\"data\": {\"bar\": [{\"error_x\": {\"color\": \"#2a3f5f\"}, \"error_y\": {\"color\": \"#2a3f5f\"}, \"marker\": {\"line\": {\"color\": \"#E5ECF6\", \"width\": 0.5}}, \"type\": \"bar\"}], \"barpolar\": [{\"marker\": {\"line\": {\"color\": \"#E5ECF6\", \"width\": 0.5}}, \"type\": \"barpolar\"}], \"carpet\": [{\"aaxis\": {\"endlinecolor\": \"#2a3f5f\", \"gridcolor\": \"white\", \"linecolor\": \"white\", \"minorgridcolor\": \"white\", \"startlinecolor\": \"#2a3f5f\"}, \"baxis\": {\"endlinecolor\": \"#2a3f5f\", \"gridcolor\": \"white\", \"linecolor\": \"white\", \"minorgridcolor\": \"white\", \"startlinecolor\": \"#2a3f5f\"}, \"type\": \"carpet\"}], \"choropleth\": [{\"colorbar\": {\"outlinewidth\": 0, \"ticks\": \"\"}, \"type\": \"choropleth\"}], \"contour\": [{\"colorbar\": {\"outlinewidth\": 0, \"ticks\": \"\"}, \"colorscale\": [[0.0, \"#0d0887\"], [0.1111111111111111, \"#46039f\"], [0.2222222222222222, \"#7201a8\"], [0.3333333333333333, \"#9c179e\"], [0.4444444444444444, \"#bd3786\"], [0.5555555555555556, \"#d8576b\"], [0.6666666666666666, \"#ed7953\"], [0.7777777777777778, \"#fb9f3a\"], [0.8888888888888888, \"#fdca26\"], [1.0, \"#f0f921\"]], \"type\": \"contour\"}], \"contourcarpet\": [{\"colorbar\": {\"outlinewidth\": 0, \"ticks\": \"\"}, \"type\": \"contourcarpet\"}], \"heatmap\": [{\"colorbar\": {\"outlinewidth\": 0, \"ticks\": \"\"}, \"colorscale\": [[0.0, \"#0d0887\"], [0.1111111111111111, \"#46039f\"], [0.2222222222222222, \"#7201a8\"], [0.3333333333333333, \"#9c179e\"], [0.4444444444444444, \"#bd3786\"], [0.5555555555555556, \"#d8576b\"], [0.6666666666666666, \"#ed7953\"], [0.7777777777777778, \"#fb9f3a\"], [0.8888888888888888, \"#fdca26\"], [1.0, \"#f0f921\"]], \"type\": \"heatmap\"}], \"heatmapgl\": [{\"colorbar\": {\"outlinewidth\": 0, \"ticks\": \"\"}, \"colorscale\": [[0.0, \"#0d0887\"], [0.1111111111111111, \"#46039f\"], [0.2222222222222222, \"#7201a8\"], [0.3333333333333333, \"#9c179e\"], [0.4444444444444444, \"#bd3786\"], [0.5555555555555556, \"#d8576b\"], [0.6666666666666666, \"#ed7953\"], [0.7777777777777778, \"#fb9f3a\"], [0.8888888888888888, \"#fdca26\"], [1.0, \"#f0f921\"]], \"type\": \"heatmapgl\"}], \"histogram\": [{\"marker\": {\"colorbar\": {\"outlinewidth\": 0, \"ticks\": \"\"}}, \"type\": \"histogram\"}], \"histogram2d\": [{\"colorbar\": {\"outlinewidth\": 0, \"ticks\": \"\"}, \"colorscale\": [[0.0, \"#0d0887\"], [0.1111111111111111, \"#46039f\"], [0.2222222222222222, \"#7201a8\"], [0.3333333333333333, \"#9c179e\"], [0.4444444444444444, \"#bd3786\"], [0.5555555555555556, \"#d8576b\"], [0.6666666666666666, \"#ed7953\"], [0.7777777777777778, \"#fb9f3a\"], [0.8888888888888888, \"#fdca26\"], [1.0, \"#f0f921\"]], \"type\": \"histogram2d\"}], \"histogram2dcontour\": [{\"colorbar\": {\"outlinewidth\": 0, \"ticks\": \"\"}, \"colorscale\": [[0.0, \"#0d0887\"], [0.1111111111111111, \"#46039f\"], [0.2222222222222222, \"#7201a8\"], [0.3333333333333333, \"#9c179e\"], [0.4444444444444444, \"#bd3786\"], [0.5555555555555556, \"#d8576b\"], [0.6666666666666666, \"#ed7953\"], [0.7777777777777778, \"#fb9f3a\"], [0.8888888888888888, \"#fdca26\"], [1.0, \"#f0f921\"]], \"type\": \"histogram2dcontour\"}], \"mesh3d\": [{\"colorbar\": {\"outlinewidth\": 0, \"ticks\": \"\"}, \"type\": \"mesh3d\"}], \"parcoords\": [{\"line\": {\"colorbar\": {\"outlinewidth\": 0, \"ticks\": \"\"}}, \"type\": \"parcoords\"}], \"pie\": [{\"automargin\": true, \"type\": \"pie\"}], \"scatter\": [{\"marker\": {\"colorbar\": {\"outlinewidth\": 0, \"ticks\": \"\"}}, \"type\": \"scatter\"}], \"scatter3d\": [{\"line\": {\"colorbar\": {\"outlinewidth\": 0, \"ticks\": \"\"}}, \"marker\": {\"colorbar\": {\"outlinewidth\": 0, \"ticks\": \"\"}}, \"type\": \"scatter3d\"}], \"scattercarpet\": [{\"marker\": {\"colorbar\": {\"outlinewidth\": 0, \"ticks\": \"\"}}, \"type\": \"scattercarpet\"}], \"scattergeo\": [{\"marker\": {\"colorbar\": {\"outlinewidth\": 0, \"ticks\": \"\"}}, \"type\": \"scattergeo\"}], \"scattergl\": [{\"marker\": {\"colorbar\": {\"outlinewidth\": 0, \"ticks\": \"\"}}, \"type\": \"scattergl\"}], \"scattermapbox\": [{\"marker\": {\"colorbar\": {\"outlinewidth\": 0, \"ticks\": \"\"}}, \"type\": \"scattermapbox\"}], \"scatterpolar\": [{\"marker\": {\"colorbar\": {\"outlinewidth\": 0, \"ticks\": \"\"}}, \"type\": \"scatterpolar\"}], \"scatterpolargl\": [{\"marker\": {\"colorbar\": {\"outlinewidth\": 0, \"ticks\": \"\"}}, \"type\": \"scatterpolargl\"}], \"scatterternary\": [{\"marker\": {\"colorbar\": {\"outlinewidth\": 0, \"ticks\": \"\"}}, \"type\": \"scatterternary\"}], \"surface\": [{\"colorbar\": {\"outlinewidth\": 0, \"ticks\": \"\"}, \"colorscale\": [[0.0, \"#0d0887\"], [0.1111111111111111, \"#46039f\"], [0.2222222222222222, \"#7201a8\"], [0.3333333333333333, \"#9c179e\"], [0.4444444444444444, \"#bd3786\"], [0.5555555555555556, \"#d8576b\"], [0.6666666666666666, \"#ed7953\"], [0.7777777777777778, \"#fb9f3a\"], [0.8888888888888888, \"#fdca26\"], [1.0, \"#f0f921\"]], \"type\": \"surface\"}], \"table\": [{\"cells\": {\"fill\": {\"color\": \"#EBF0F8\"}, \"line\": {\"color\": \"white\"}}, \"header\": {\"fill\": {\"color\": \"#C8D4E3\"}, \"line\": {\"color\": \"white\"}}, \"type\": \"table\"}]}, \"layout\": {\"annotationdefaults\": {\"arrowcolor\": \"#2a3f5f\", \"arrowhead\": 0, \"arrowwidth\": 1}, \"coloraxis\": {\"colorbar\": {\"outlinewidth\": 0, \"ticks\": \"\"}}, \"colorscale\": {\"diverging\": [[0, \"#8e0152\"], [0.1, \"#c51b7d\"], [0.2, \"#de77ae\"], [0.3, \"#f1b6da\"], [0.4, \"#fde0ef\"], [0.5, \"#f7f7f7\"], [0.6, \"#e6f5d0\"], [0.7, \"#b8e186\"], [0.8, \"#7fbc41\"], [0.9, \"#4d9221\"], [1, \"#276419\"]], \"sequential\": [[0.0, \"#0d0887\"], [0.1111111111111111, \"#46039f\"], [0.2222222222222222, \"#7201a8\"], [0.3333333333333333, \"#9c179e\"], [0.4444444444444444, \"#bd3786\"], [0.5555555555555556, \"#d8576b\"], [0.6666666666666666, \"#ed7953\"], [0.7777777777777778, \"#fb9f3a\"], [0.8888888888888888, \"#fdca26\"], [1.0, \"#f0f921\"]], \"sequentialminus\": [[0.0, \"#0d0887\"], [0.1111111111111111, \"#46039f\"], [0.2222222222222222, \"#7201a8\"], [0.3333333333333333, \"#9c179e\"], [0.4444444444444444, \"#bd3786\"], [0.5555555555555556, \"#d8576b\"], [0.6666666666666666, \"#ed7953\"], [0.7777777777777778, \"#fb9f3a\"], [0.8888888888888888, \"#fdca26\"], [1.0, \"#f0f921\"]]}, \"colorway\": [\"#636efa\", \"#EF553B\", \"#00cc96\", \"#ab63fa\", \"#FFA15A\", \"#19d3f3\", \"#FF6692\", \"#B6E880\", \"#FF97FF\", \"#FECB52\"], \"font\": {\"color\": \"#2a3f5f\"}, \"geo\": {\"bgcolor\": \"white\", \"lakecolor\": \"white\", \"landcolor\": \"#E5ECF6\", \"showlakes\": true, \"showland\": true, \"subunitcolor\": \"white\"}, \"hoverlabel\": {\"align\": \"left\"}, \"hovermode\": \"closest\", \"mapbox\": {\"style\": \"light\"}, \"paper_bgcolor\": \"white\", \"plot_bgcolor\": \"#E5ECF6\", \"polar\": {\"angularaxis\": {\"gridcolor\": \"white\", \"linecolor\": \"white\", \"ticks\": \"\"}, \"bgcolor\": \"#E5ECF6\", \"radialaxis\": {\"gridcolor\": \"white\", \"linecolor\": \"white\", \"ticks\": \"\"}}, \"scene\": {\"xaxis\": {\"backgroundcolor\": \"#E5ECF6\", \"gridcolor\": \"white\", \"gridwidth\": 2, \"linecolor\": \"white\", \"showbackground\": true, \"ticks\": \"\", \"zerolinecolor\": \"white\"}, \"yaxis\": {\"backgroundcolor\": \"#E5ECF6\", \"gridcolor\": \"white\", \"gridwidth\": 2, \"linecolor\": \"white\", \"showbackground\": true, \"ticks\": \"\", \"zerolinecolor\": \"white\"}, \"zaxis\": {\"backgroundcolor\": \"#E5ECF6\", \"gridcolor\": \"white\", \"gridwidth\": 2, \"linecolor\": \"white\", \"showbackground\": true, \"ticks\": \"\", \"zerolinecolor\": \"white\"}}, \"shapedefaults\": {\"line\": {\"color\": \"#2a3f5f\"}}, \"ternary\": {\"aaxis\": {\"gridcolor\": \"white\", \"linecolor\": \"white\", \"ticks\": \"\"}, \"baxis\": {\"gridcolor\": \"white\", \"linecolor\": \"white\", \"ticks\": \"\"}, \"bgcolor\": \"#E5ECF6\", \"caxis\": {\"gridcolor\": \"white\", \"linecolor\": \"white\", \"ticks\": \"\"}}, \"title\": {\"x\": 0.05}, \"xaxis\": {\"automargin\": true, \"gridcolor\": \"white\", \"linecolor\": \"white\", \"ticks\": \"\", \"title\": {\"standoff\": 15}, \"zerolinecolor\": \"white\", \"zerolinewidth\": 2}, \"yaxis\": {\"automargin\": true, \"gridcolor\": \"white\", \"linecolor\": \"white\", \"ticks\": \"\", \"title\": {\"standoff\": 15}, \"zerolinecolor\": \"white\", \"zerolinewidth\": 2}}}, \"title\": {\"text\": \"Percentage of each grade compared to the total wine by each country\"}, \"xaxis\": {\"title\": {\"text\": \"Grade\"}}, \"yaxis\": {\"title\": {\"text\": \"Percentage(%)\"}}},\n",
       "                        {\"responsive\": true}\n",
       "                    ).then(function(){\n",
       "                            \n",
       "var gd = document.getElementById('f7dc304b-cb9a-4a22-87ec-7c71f2be2e5e');\n",
       "var x = new MutationObserver(function (mutations, observer) {{\n",
       "        var display = window.getComputedStyle(gd).display;\n",
       "        if (!display || display === 'none') {{\n",
       "            console.log([gd, 'removed!']);\n",
       "            Plotly.purge(gd);\n",
       "            observer.disconnect();\n",
       "        }}\n",
       "}});\n",
       "\n",
       "// Listen for the removal of the full notebook cells\n",
       "var notebookContainer = gd.closest('#notebook-container');\n",
       "if (notebookContainer) {{\n",
       "    x.observe(notebookContainer, {childList: true});\n",
       "}}\n",
       "\n",
       "// Listen for the clearing of the current output cell\n",
       "var outputEl = gd.closest('.output');\n",
       "if (outputEl) {{\n",
       "    x.observe(outputEl, {childList: true});\n",
       "}}\n",
       "\n",
       "                        })\n",
       "                };\n",
       "                });\n",
       "            </script>\n",
       "        </div>"
      ]
     },
     "metadata": {},
     "output_type": "display_data"
    }
   ],
   "source": [
    "x = perc['grade']\n",
    "y0 = perc['perc_fr']\n",
    "y1 = perc['perc_it']\n",
    "y2 = perc['perc_us']\n",
    "\n",
    "# Create traces\n",
    "fig = go.Figure()\n",
    "fig.add_trace(go.Scatter(x=x, y=y0,\n",
    "                    mode='lines+markers',\n",
    "                    name='France'))\n",
    "fig.add_trace(go.Scatter(x=x, y=y1,\n",
    "                    mode='lines+markers',\n",
    "                    name='Italy'))\n",
    "fig.add_trace(go.Scatter(x=x, y=y2,\n",
    "                    mode='lines+markers', name='USA'))\n",
    "\n",
    "# Edit the layout\n",
    "fig.update_layout(title='Percentage of each grade compared to the total wine by each country',\n",
    "                   xaxis_title='Grade',\n",
    "                   yaxis_title='Percentage(%)')\n",
    "\n",
    "\n",
    "fig.show()"
   ]
  },
  {
   "cell_type": "code",
   "execution_count": 91,
   "metadata": {},
   "outputs": [
    {
     "data": {
      "text/html": [
       "<div>\n",
       "<style scoped>\n",
       "    .dataframe tbody tr th:only-of-type {\n",
       "        vertical-align: middle;\n",
       "    }\n",
       "\n",
       "    .dataframe tbody tr th {\n",
       "        vertical-align: top;\n",
       "    }\n",
       "\n",
       "    .dataframe thead th {\n",
       "        text-align: right;\n",
       "    }\n",
       "</style>\n",
       "<table border=\"1\" class=\"dataframe\">\n",
       "  <thead>\n",
       "    <tr style=\"text-align: right;\">\n",
       "      <th></th>\n",
       "      <th>grade</th>\n",
       "      <th>count_fr</th>\n",
       "      <th>count_it</th>\n",
       "      <th>count_us</th>\n",
       "      <th>perc_fr</th>\n",
       "      <th>perc_it</th>\n",
       "      <th>perc_us</th>\n",
       "      <th>count_all</th>\n",
       "      <th>perc_all</th>\n",
       "      <th>div_fr</th>\n",
       "      <th>div_it</th>\n",
       "      <th>div_us</th>\n",
       "      <th>sum</th>\n",
       "      <th>part</th>\n",
       "    </tr>\n",
       "  </thead>\n",
       "  <tbody>\n",
       "    <tr>\n",
       "      <th>0</th>\n",
       "      <td>0</td>\n",
       "      <td>355</td>\n",
       "      <td>219</td>\n",
       "      <td>3585</td>\n",
       "      <td>1.019763</td>\n",
       "      <td>0.667887</td>\n",
       "      <td>3.939517</td>\n",
       "      <td>6904</td>\n",
       "      <td>3.169313</td>\n",
       "      <td>5.141947</td>\n",
       "      <td>3.172074</td>\n",
       "      <td>51.926419</td>\n",
       "      <td>4159</td>\n",
       "      <td>60.240440</td>\n",
       "    </tr>\n",
       "    <tr>\n",
       "      <th>1</th>\n",
       "      <td>1</td>\n",
       "      <td>8027</td>\n",
       "      <td>7167</td>\n",
       "      <td>24110</td>\n",
       "      <td>23.058141</td>\n",
       "      <td>21.857274</td>\n",
       "      <td>26.494214</td>\n",
       "      <td>58334</td>\n",
       "      <td>26.778492</td>\n",
       "      <td>13.760414</td>\n",
       "      <td>12.286145</td>\n",
       "      <td>41.330956</td>\n",
       "      <td>39304</td>\n",
       "      <td>67.377516</td>\n",
       "    </tr>\n",
       "    <tr>\n",
       "      <th>2</th>\n",
       "      <td>2</td>\n",
       "      <td>11474</td>\n",
       "      <td>14187</td>\n",
       "      <td>28616</td>\n",
       "      <td>32.959899</td>\n",
       "      <td>43.266240</td>\n",
       "      <td>31.445808</td>\n",
       "      <td>74724</td>\n",
       "      <td>34.302398</td>\n",
       "      <td>15.355174</td>\n",
       "      <td>18.985868</td>\n",
       "      <td>38.295594</td>\n",
       "      <td>54277</td>\n",
       "      <td>72.636636</td>\n",
       "    </tr>\n",
       "    <tr>\n",
       "      <th>3</th>\n",
       "      <td>3</td>\n",
       "      <td>12364</td>\n",
       "      <td>9838</td>\n",
       "      <td>29960</td>\n",
       "      <td>35.516489</td>\n",
       "      <td>30.003050</td>\n",
       "      <td>32.922715</td>\n",
       "      <td>67616</td>\n",
       "      <td>31.039437</td>\n",
       "      <td>18.285613</td>\n",
       "      <td>14.549811</td>\n",
       "      <td>44.309039</td>\n",
       "      <td>52162</td>\n",
       "      <td>77.144463</td>\n",
       "    </tr>\n",
       "    <tr>\n",
       "      <th>4</th>\n",
       "      <td>4</td>\n",
       "      <td>2524</td>\n",
       "      <td>1330</td>\n",
       "      <td>4634</td>\n",
       "      <td>7.250373</td>\n",
       "      <td>4.056115</td>\n",
       "      <td>5.092252</td>\n",
       "      <td>10018</td>\n",
       "      <td>4.598809</td>\n",
       "      <td>25.194650</td>\n",
       "      <td>13.276103</td>\n",
       "      <td>46.256738</td>\n",
       "      <td>8488</td>\n",
       "      <td>84.727491</td>\n",
       "    </tr>\n",
       "    <tr>\n",
       "      <th>5</th>\n",
       "      <td>5</td>\n",
       "      <td>68</td>\n",
       "      <td>49</td>\n",
       "      <td>96</td>\n",
       "      <td>0.195335</td>\n",
       "      <td>0.149436</td>\n",
       "      <td>0.105493</td>\n",
       "      <td>243</td>\n",
       "      <td>0.111550</td>\n",
       "      <td>27.983539</td>\n",
       "      <td>20.164609</td>\n",
       "      <td>39.506173</td>\n",
       "      <td>213</td>\n",
       "      <td>87.654321</td>\n",
       "    </tr>\n",
       "  </tbody>\n",
       "</table>\n",
       "</div>"
      ],
      "text/plain": [
       "   grade  count_fr  count_it  count_us    perc_fr    perc_it    perc_us  \\\n",
       "0      0       355       219      3585   1.019763   0.667887   3.939517   \n",
       "1      1      8027      7167     24110  23.058141  21.857274  26.494214   \n",
       "2      2     11474     14187     28616  32.959899  43.266240  31.445808   \n",
       "3      3     12364      9838     29960  35.516489  30.003050  32.922715   \n",
       "4      4      2524      1330      4634   7.250373   4.056115   5.092252   \n",
       "5      5        68        49        96   0.195335   0.149436   0.105493   \n",
       "\n",
       "   count_all   perc_all     div_fr     div_it     div_us    sum       part  \n",
       "0       6904   3.169313   5.141947   3.172074  51.926419   4159  60.240440  \n",
       "1      58334  26.778492  13.760414  12.286145  41.330956  39304  67.377516  \n",
       "2      74724  34.302398  15.355174  18.985868  38.295594  54277  72.636636  \n",
       "3      67616  31.039437  18.285613  14.549811  44.309039  52162  77.144463  \n",
       "4      10018   4.598809  25.194650  13.276103  46.256738   8488  84.727491  \n",
       "5        243   0.111550  27.983539  20.164609  39.506173    213  87.654321  "
      ]
     },
     "execution_count": 91,
     "metadata": {},
     "output_type": "execute_result"
    }
   ],
   "source": [
    "grades_very_final = pd.merge(grades_final, grades_all, on = 'grade').sort_values(by = 'grade', ascending=True).reset_index(drop=True)\n",
    "grades_very_final['div_fr'] = (grades_very_final['count_fr']/grades_very_final['count_all']) * 100\n",
    "grades_very_final['div_it'] = (grades_very_final['count_it']/grades_very_final['count_all']) * 100\n",
    "grades_very_final['div_us'] = (grades_very_final['count_us']/grades_very_final['count_all']) * 100\n",
    "grades_very_final['sum'] = (grades_very_final['count_fr'] + grades_very_final['count_us'] + grades_very_final['count_it'])\n",
    "grades_very_final['part'] = (grades_very_final['sum'] / grades_very_final['count_all']) * 100\n",
    "grades_very_final"
   ]
  }
 ],
 "metadata": {
  "kernelspec": {
   "display_name": "Python 3",
   "language": "python",
   "name": "python3"
  },
  "language_info": {
   "codemirror_mode": {
    "name": "ipython",
    "version": 3
   },
   "file_extension": ".py",
   "mimetype": "text/x-python",
   "name": "python",
   "nbconvert_exporter": "python",
   "pygments_lexer": "ipython3",
   "version": "3.5.6"
  }
 },
 "nbformat": 4,
 "nbformat_minor": 2
}
