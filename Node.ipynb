{
 "cells": [
  {
   "cell_type": "code",
   "execution_count": 1,
   "metadata": {},
   "outputs": [],
   "source": [
    "import math\n",
    "import copy\n",
    "import numpy as np"
   ]
  },
  {
   "cell_type": "code",
   "execution_count": 10,
   "metadata": {},
   "outputs": [],
   "source": [
    "class Node():\n",
    "    \n",
    "    def __init__(self, size, costs,sortedEdges,allSortedEdges, parent_constr, extra_constr = None):\n",
    "        self.size = size # Number of cities\n",
    "        self.costs = costs # Distance matrix\n",
    "        self.sortedEdges = sortedEdges\n",
    "        self.allSortedEdges = allSortedEdges\n",
    "        self.extra_constr = extra_constr\n",
    "        self.constraints = self.determine_constr(parent_constr) \n",
    "        self.lowerBound = self.computeLowerBound()"
   ]
  },
  {
   "cell_type": "code",
   "execution_count": 33,
   "metadata": {},
   "outputs": [],
   "source": [
    "# This methods calculates the simple lower bound (SB)\n",
    "# This this the sum over all vertices of the two smallest # allowed edges\n",
    "def computeLowerBound(self): \n",
    "    lb = 0\n",
    "    for i in range(self.size):\n",
    "        lower = 0\n",
    "        t = 0\n",
    "    for j in range(self.size):\n",
    "        if self.constraints[i][j] == 1: \n",
    "            lower += self.costs[i][j]\n",
    "            t += 1\n",
    "    tt = 0\n",
    "    while t < 2:\n",
    "        shortest = self.sortedEdges[i][tt]\n",
    "        if self.constraints[i][shortest] == 2:\n",
    "            lower += self.costs[i][shortest]\n",
    "            t += 1\n",
    "        tt += 1\n",
    "        if tt >= self.size: \n",
    "            lower = math.inf\n",
    "            break\n",
    "    lb += lower \n",
    "    return lb"
   ]
  },
  {
   "cell_type": "code",
   "execution_count": 34,
   "metadata": {},
   "outputs": [],
   "source": [
    "# This method determines the constraints of a node # based on the constraints of the parent and\n",
    "# the extra constraint for this node\n",
    "def determine_constr(self,parent_constr): \n",
    "    constraints = copy.deepcopy(parent_constr) \n",
    "    if self.extra_constr == None:\n",
    "        return constraints\n",
    "    fr = self.extra_constr[0]\n",
    "    to = self.extra_constr[1] \n",
    "    constraints[fr][to] = self.extra_constr[2] \n",
    "    constraints[to][fr] = self.extra_constr[2] \n",
    "    for i in range (2):\n",
    "        constraints = self.removeEdges(constraints)\n",
    "        constraints = self.addEdges(constraints) \n",
    "    return constraints"
   ]
  },
  {
   "cell_type": "code",
   "execution_count": 36,
   "metadata": {},
   "outputs": [],
   "source": [
    "# This method excludes edges when:\n",
    "# 1) Already two other edges adjacent to the same vertex\n",
    "# are included\n",
    "# 2) Including the edge would create a subtour\n",
    "def removeEdges(self,constraints): \n",
    "    for i in range(self.size):\n",
    "        t=0\n",
    "        for j in range(self.size):\n",
    "            if (i != j) and (constraints[i][j] == 1): \n",
    "                t += 1\n",
    "        if t >= 2:\n",
    "            for j in range(self.size):\n",
    "                if constraints[i][j] == 2: \n",
    "                    constraints[i][j] = 0 \n",
    "                    constraints[j][i] = 0\n",
    "    for i in range(self.size):\n",
    "        for j in range(self.size):\n",
    "            t=1\n",
    "            prev = i\n",
    "            fr = j\n",
    "            cycle = False\n",
    "            nextOne = self.next_one(prev,fr,constraints) \n",
    "            while (nextOne[0]):\n",
    "                t += 1\n",
    "                next = nextOne[1] \n",
    "                if next == i:\n",
    "                    cycle = True\n",
    "                    break\n",
    "                if t > self.size:\n",
    "                    break\n",
    "                prev = fr\n",
    "                fr = next\n",
    "                nextOne = self.next_one(prev,fr,constraints)\n",
    "            if (cycle) and (t < self.size) and (constraints[i][j] == 2):\n",
    "                constraints[i][j] = 0\n",
    "                constraints[j][i] = 0 \n",
    "        return constraints"
   ]
  },
  {
   "cell_type": "code",
   "execution_count": 39,
   "metadata": {},
   "outputs": [],
   "source": [
    "# This methods checks if all but two edges adjacent to # a vertex are excluded .\n",
    "# If so, these edges are included\n",
    "def addEdges(self,constraints): \n",
    "    for i in range(self.size):\n",
    "        t=0\n",
    "        for j in range(self.size):\n",
    "            if constraints[i][j] == 0: \n",
    "                t += 1\n",
    "        if t == self.size - 2:\n",
    "            for j in range(self.size):\n",
    "                if constraints[i][j] == 2: \n",
    "                    constraints[i][j] = 1 \n",
    "                    constraints[j][i] = 1\n",
    "    return constraints"
   ]
  },
  {
   "cell_type": "code",
   "execution_count": 40,
   "metadata": {},
   "outputs": [],
   "source": [
    "# Determines whether there exists an included edge that starts # in fr and does not end in prev. If so, it also returns the\n",
    "# endpoint of this edge\n",
    "def next_one(self,prev,fr,constraints): \n",
    "    for j in range(self.size):\n",
    "        if (constraints[fr][j] == 1) and (j != prev): \n",
    "            return [True,j]\n",
    "    return[False]"
   ]
  },
  {
   "cell_type": "code",
   "execution_count": 41,
   "metadata": {},
   "outputs": [],
   "source": [
    "# Determines if a node represents a full tour\n",
    "# by checking whether from every vertex there are\n",
    "# exactly 2 included edges and all other edges are excluded.\n",
    "def isTour(self):\n",
    "    for i in range(self.size):\n",
    "        num_zero = 0\n",
    "        num_one = 0\n",
    "    for j in range(self.size):\n",
    "        if self.constraints[i][j] == 0: \n",
    "            num_zero += 1\n",
    "        elif self.constraints[i][j] == 1: \n",
    "            num_one += 1\n",
    "        if (num_zero != self.size - 2) or (num_one != 2): \n",
    "            return False\n",
    "    return True"
   ]
  },
  {
   "cell_type": "code",
   "execution_count": 43,
   "metadata": {},
   "outputs": [],
   "source": [
    "# Checks if a node contains a subtour\n",
    "def contains_subtour(self): \n",
    "    for i in range(self.size):\n",
    "        next = self.next_one(i,i,self.constraints) \n",
    "        if next[0]:\n",
    "            prev = i\n",
    "            fr = next[1]\n",
    "            t=1\n",
    "            next = self.next_one(prev, fr, self.constraints)\n",
    "    while next [0]:\n",
    "        t += 1\n",
    "        prev = fr\n",
    "        fr = next[1]\n",
    "        if (fr == i) and (t < self.size):\n",
    "            return True\n",
    "        next = self.next_one(prev,fr,self.constraints) \n",
    "        if t == self.size:\n",
    "            return False\n",
    "    return False"
   ]
  },
  {
   "cell_type": "code",
   "execution_count": 44,
   "metadata": {},
   "outputs": [],
   "source": [
    "# Assumes the node represents a tour and returns # the length of this tour\n",
    "def tourLength(self): \n",
    "    length = 0\n",
    "    fr = 0\n",
    "    to = self.next_one(fr,fr,self.constraints)[1]\n",
    "    for i in range(self.size):\n",
    "        length += self.costs[fr][to]\n",
    "        temp = fr\n",
    "        fr = to\n",
    "        to = self.next_one(temp,to,self.constraints)[1]\n",
    "    return length"
   ]
  },
  {
   "cell_type": "code",
   "execution_count": 46,
   "metadata": {},
   "outputs": [],
   "source": [
    "# This method determines the next constraint according\n",
    "# to the the branching strategy lexicographic order (LG)\n",
    "def next_constraint(self):\n",
    "    for i in range(self.size):\n",
    "        for j in range(self.size):\n",
    "            if self.constraints[i][j] == 2:\n",
    "                return [i,j]"
   ]
  },
  {
   "cell_type": "code",
   "execution_count": 49,
   "metadata": {},
   "outputs": [],
   "source": [
    "# If a node represents a tour , this method returns a # string with the order of the vertices in the tour\n",
    "def __str__ (self):\n",
    "    if self.isTour():\n",
    "        result = '0'\n",
    "        fr = 0\n",
    "        to = None\n",
    "        for j in range(self.size):\n",
    "            if self.constraints[fr][j] == 1: \n",
    "                to = j\n",
    "                result += '-' + str(j)\n",
    "                break\n",
    "        for i in range(self.size - 1):\n",
    "            for j in range(self.size):\n",
    "                if (self.constraints[to][j] == 1) and (j != fr):\n",
    "                    result += '-' + str(j) \n",
    "                    fr = to\n",
    "                    to = j\n",
    "                    break\n",
    "        return result \n",
    "    else:\n",
    "        print('This node is not a tour')"
   ]
  }
 ],
 "metadata": {
  "kernelspec": {
   "display_name": "Python 3",
   "language": "python",
   "name": "python3"
  },
  "language_info": {
   "codemirror_mode": {
    "name": "ipython",
    "version": 3
   },
   "file_extension": ".py",
   "mimetype": "text/x-python",
   "name": "python",
   "nbconvert_exporter": "python",
   "pygments_lexer": "ipython3",
   "version": "3.5.6"
  }
 },
 "nbformat": 4,
 "nbformat_minor": 2
}
