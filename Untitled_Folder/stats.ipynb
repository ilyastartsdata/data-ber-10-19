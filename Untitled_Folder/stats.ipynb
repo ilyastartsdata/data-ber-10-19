{
 "cells": [
  {
   "cell_type": "code",
   "execution_count": 1,
   "metadata": {},
   "outputs": [],
   "source": [
    "import pandas as pd\n",
    "import numpy as np\n",
    "\n",
    "import pymysql\n",
    "import getpass\n",
    "%matplotlib inline"
   ]
  },
  {
   "cell_type": "code",
   "execution_count": 2,
   "metadata": {},
   "outputs": [
    {
     "name": "stdout",
     "output_type": "stream",
     "text": [
      "········\n"
     ]
    }
   ],
   "source": [
    "pw = getpass.getpass()"
   ]
  },
  {
   "cell_type": "code",
   "execution_count": 3,
   "metadata": {},
   "outputs": [],
   "source": [
    "conn = pymysql.connect(host='localhost',\n",
    "                       port = 3306,\n",
    "                       user = 'root',\n",
    "                       passwd = pw,\n",
    "                       db = 'olist');"
   ]
  },
  {
   "cell_type": "markdown",
   "metadata": {},
   "source": [
    "## Answer some questions regarding Sellers in 2017\n",
    "\n",
    "1. How many sellers do we have?\n",
    "2. How much do they sell?\n",
    "3. How much revenue do they generate?\n",
    "\n",
    "--"
   ]
  },
  {
   "cell_type": "markdown",
   "metadata": {},
   "source": [
    "1. How many sellers do we have?"
   ]
  },
  {
   "cell_type": "code",
   "execution_count": 4,
   "metadata": {},
   "outputs": [],
   "source": [
    "unique_sellers_query = \"\"\"\n",
    "SELECT DISTINCT\n",
    "\toi.seller_id\n",
    "FROM order_items oi\n",
    "\tINNER JOIN orders o\n",
    "\tON oi.order_id = o.order_id\n",
    "WHERE o.order_purchase_timestamp >= '20170101'\n",
    "\tAND o.order_purchase_timestamp < '20180101';\n",
    "\"\"\"\n",
    "unique_sellers = pd.read_sql(unique_sellers_query, conn)"
   ]
  },
  {
   "cell_type": "code",
   "execution_count": 5,
   "metadata": {},
   "outputs": [
    {
     "data": {
      "text/html": [
       "<div>\n",
       "<style scoped>\n",
       "    .dataframe tbody tr th:only-of-type {\n",
       "        vertical-align: middle;\n",
       "    }\n",
       "\n",
       "    .dataframe tbody tr th {\n",
       "        vertical-align: top;\n",
       "    }\n",
       "\n",
       "    .dataframe thead th {\n",
       "        text-align: right;\n",
       "    }\n",
       "</style>\n",
       "<table border=\"1\" class=\"dataframe\">\n",
       "  <thead>\n",
       "    <tr style=\"text-align: right;\">\n",
       "      <th></th>\n",
       "      <th>seller_id</th>\n",
       "    </tr>\n",
       "  </thead>\n",
       "  <tbody>\n",
       "    <tr>\n",
       "      <th>0</th>\n",
       "      <td>3504c0cb71d7fa48d967e0e4c94d59d9</td>\n",
       "    </tr>\n",
       "    <tr>\n",
       "      <th>1</th>\n",
       "      <td>66922902710d126a0e7d26b0e3805106</td>\n",
       "    </tr>\n",
       "    <tr>\n",
       "      <th>2</th>\n",
       "      <td>8581055ce74af1daba164fdbd55a40de</td>\n",
       "    </tr>\n",
       "    <tr>\n",
       "      <th>3</th>\n",
       "      <td>dc8798cbf453b7e0f98745e396cc5616</td>\n",
       "    </tr>\n",
       "    <tr>\n",
       "      <th>4</th>\n",
       "      <td>16090f2ca825584b5a147ab24aa30c86</td>\n",
       "    </tr>\n",
       "  </tbody>\n",
       "</table>\n",
       "</div>"
      ],
      "text/plain": [
       "                          seller_id\n",
       "0  3504c0cb71d7fa48d967e0e4c94d59d9\n",
       "1  66922902710d126a0e7d26b0e3805106\n",
       "2  8581055ce74af1daba164fdbd55a40de\n",
       "3  dc8798cbf453b7e0f98745e396cc5616\n",
       "4  16090f2ca825584b5a147ab24aa30c86"
      ]
     },
     "execution_count": 5,
     "metadata": {},
     "output_type": "execute_result"
    }
   ],
   "source": [
    "unique_sellers.head()"
   ]
  },
  {
   "cell_type": "code",
   "execution_count": 6,
   "metadata": {},
   "outputs": [
    {
     "data": {
      "text/plain": [
       "seller_id    1784\n",
       "dtype: int64"
      ]
     },
     "execution_count": 6,
     "metadata": {},
     "output_type": "execute_result"
    }
   ],
   "source": [
    "unique_sellers.count()"
   ]
  },
  {
   "cell_type": "markdown",
   "metadata": {},
   "source": [
    "2. How much do they sell?"
   ]
  },
  {
   "cell_type": "code",
   "execution_count": 7,
   "metadata": {},
   "outputs": [],
   "source": [
    "seller_qty_query = \"\"\"\n",
    "SELECT \n",
    "\toi.seller_id, \n",
    "\tCOUNT(*) AS items_sold\n",
    "FROM order_items oi\n",
    "\tINNER JOIN orders o\n",
    "\tON oi.order_id = o.order_id\n",
    "WHERE o.order_purchase_timestamp >= '20170101'\n",
    "\tAND o.order_purchase_timestamp < '20180101'\n",
    "GROUP BY oi.seller_id;\n",
    "\"\"\"\n",
    "\n",
    "seller_qty = pd.read_sql(seller_qty_query, conn)"
   ]
  },
  {
   "cell_type": "code",
   "execution_count": 8,
   "metadata": {},
   "outputs": [
    {
     "data": {
      "text/html": [
       "<div>\n",
       "<style scoped>\n",
       "    .dataframe tbody tr th:only-of-type {\n",
       "        vertical-align: middle;\n",
       "    }\n",
       "\n",
       "    .dataframe tbody tr th {\n",
       "        vertical-align: top;\n",
       "    }\n",
       "\n",
       "    .dataframe thead th {\n",
       "        text-align: right;\n",
       "    }\n",
       "</style>\n",
       "<table border=\"1\" class=\"dataframe\">\n",
       "  <thead>\n",
       "    <tr style=\"text-align: right;\">\n",
       "      <th></th>\n",
       "      <th>seller_id</th>\n",
       "      <th>items_sold</th>\n",
       "    </tr>\n",
       "  </thead>\n",
       "  <tbody>\n",
       "    <tr>\n",
       "      <th>0</th>\n",
       "      <td>3504c0cb71d7fa48d967e0e4c94d59d9</td>\n",
       "      <td>53</td>\n",
       "    </tr>\n",
       "    <tr>\n",
       "      <th>1</th>\n",
       "      <td>66922902710d126a0e7d26b0e3805106</td>\n",
       "      <td>64</td>\n",
       "    </tr>\n",
       "    <tr>\n",
       "      <th>2</th>\n",
       "      <td>8581055ce74af1daba164fdbd55a40de</td>\n",
       "      <td>310</td>\n",
       "    </tr>\n",
       "    <tr>\n",
       "      <th>3</th>\n",
       "      <td>dc8798cbf453b7e0f98745e396cc5616</td>\n",
       "      <td>49</td>\n",
       "    </tr>\n",
       "    <tr>\n",
       "      <th>4</th>\n",
       "      <td>16090f2ca825584b5a147ab24aa30c86</td>\n",
       "      <td>78</td>\n",
       "    </tr>\n",
       "    <tr>\n",
       "      <th>5</th>\n",
       "      <td>63b9ae557efed31d1f7687917d248a8d</td>\n",
       "      <td>6</td>\n",
       "    </tr>\n",
       "    <tr>\n",
       "      <th>6</th>\n",
       "      <td>7c67e1448b00f6e969d365cea6b010ab</td>\n",
       "      <td>655</td>\n",
       "    </tr>\n",
       "    <tr>\n",
       "      <th>7</th>\n",
       "      <td>001cca7ae9ae17fb1caed9dfb1094831</td>\n",
       "      <td>210</td>\n",
       "    </tr>\n",
       "    <tr>\n",
       "      <th>8</th>\n",
       "      <td>87142160b41353c4e5fca2360caf6f92</td>\n",
       "      <td>218</td>\n",
       "    </tr>\n",
       "    <tr>\n",
       "      <th>9</th>\n",
       "      <td>ea8482cd71df3c1969d7b9473ff13abc</td>\n",
       "      <td>356</td>\n",
       "    </tr>\n",
       "    <tr>\n",
       "      <th>10</th>\n",
       "      <td>d2374cbcbb3ca4ab1086534108cc3ab7</td>\n",
       "      <td>373</td>\n",
       "    </tr>\n",
       "    <tr>\n",
       "      <th>11</th>\n",
       "      <td>70a12e78e608ac31179aea7f8422044b</td>\n",
       "      <td>235</td>\n",
       "    </tr>\n",
       "    <tr>\n",
       "      <th>12</th>\n",
       "      <td>633ecdf879b94b5337cca303328e4a25</td>\n",
       "      <td>6</td>\n",
       "    </tr>\n",
       "    <tr>\n",
       "      <th>13</th>\n",
       "      <td>5dceca129747e92ff8ef7a997dc4f8ca</td>\n",
       "      <td>261</td>\n",
       "    </tr>\n",
       "    <tr>\n",
       "      <th>14</th>\n",
       "      <td>77530e9772f57a62c906e1c21538ab82</td>\n",
       "      <td>181</td>\n",
       "    </tr>\n",
       "    <tr>\n",
       "      <th>15</th>\n",
       "      <td>85d9eb9ddc5d00ca9336a2219c97bb13</td>\n",
       "      <td>297</td>\n",
       "    </tr>\n",
       "    <tr>\n",
       "      <th>16</th>\n",
       "      <td>a1043bafd471dff536d0c462352beb48</td>\n",
       "      <td>321</td>\n",
       "    </tr>\n",
       "    <tr>\n",
       "      <th>17</th>\n",
       "      <td>f5f46307a4d15880ca14fab4ad9dfc9b</td>\n",
       "      <td>10</td>\n",
       "    </tr>\n",
       "    <tr>\n",
       "      <th>18</th>\n",
       "      <td>a3a38f4affed601eb87a97788c949667</td>\n",
       "      <td>217</td>\n",
       "    </tr>\n",
       "    <tr>\n",
       "      <th>19</th>\n",
       "      <td>f8db351d8c4c4c22c6835c19a46f01b0</td>\n",
       "      <td>442</td>\n",
       "    </tr>\n",
       "    <tr>\n",
       "      <th>20</th>\n",
       "      <td>669ae81880e08f269a64487cfb287169</td>\n",
       "      <td>114</td>\n",
       "    </tr>\n",
       "    <tr>\n",
       "      <th>21</th>\n",
       "      <td>b33e7c55446eabf8fe1a42d037ac7d6d</td>\n",
       "      <td>84</td>\n",
       "    </tr>\n",
       "    <tr>\n",
       "      <th>22</th>\n",
       "      <td>1025f0e2d44d7041d6cf58b6550e0bfa</td>\n",
       "      <td>411</td>\n",
       "    </tr>\n",
       "    <tr>\n",
       "      <th>23</th>\n",
       "      <td>391fc6631aebcf3004804e51b40bcf1e</td>\n",
       "      <td>335</td>\n",
       "    </tr>\n",
       "    <tr>\n",
       "      <th>24</th>\n",
       "      <td>80e6699fe29150b372a0c8a1ebf7dcc8</td>\n",
       "      <td>77</td>\n",
       "    </tr>\n",
       "    <tr>\n",
       "      <th>25</th>\n",
       "      <td>a673821011d0cec28146ea42f5ab767f</td>\n",
       "      <td>73</td>\n",
       "    </tr>\n",
       "    <tr>\n",
       "      <th>26</th>\n",
       "      <td>5b925e1d006e9476d738aa200751b73b</td>\n",
       "      <td>26</td>\n",
       "    </tr>\n",
       "    <tr>\n",
       "      <th>27</th>\n",
       "      <td>855668e0971d4dfd7bef1b6a4133b41b</td>\n",
       "      <td>197</td>\n",
       "    </tr>\n",
       "    <tr>\n",
       "      <th>28</th>\n",
       "      <td>f84a00e60c73a49e7e851c9bdca3a5bb</td>\n",
       "      <td>43</td>\n",
       "    </tr>\n",
       "    <tr>\n",
       "      <th>29</th>\n",
       "      <td>c8417879a15366a17c30af34c798c332</td>\n",
       "      <td>36</td>\n",
       "    </tr>\n",
       "    <tr>\n",
       "      <th>...</th>\n",
       "      <td>...</td>\n",
       "      <td>...</td>\n",
       "    </tr>\n",
       "    <tr>\n",
       "      <th>1754</th>\n",
       "      <td>eb5b6204dde3a6e03b5f1bb8479f055b</td>\n",
       "      <td>1</td>\n",
       "    </tr>\n",
       "    <tr>\n",
       "      <th>1755</th>\n",
       "      <td>d4f117125b59ce73c3302f88ee40c458</td>\n",
       "      <td>1</td>\n",
       "    </tr>\n",
       "    <tr>\n",
       "      <th>1756</th>\n",
       "      <td>014d9a685fd57276679edd00e07089e5</td>\n",
       "      <td>1</td>\n",
       "    </tr>\n",
       "    <tr>\n",
       "      <th>1757</th>\n",
       "      <td>5d043cd5512d4bd2f88e5ccdd5736c38</td>\n",
       "      <td>1</td>\n",
       "    </tr>\n",
       "    <tr>\n",
       "      <th>1758</th>\n",
       "      <td>3d62f86afa7c73be2628a3be1423f5a0</td>\n",
       "      <td>1</td>\n",
       "    </tr>\n",
       "    <tr>\n",
       "      <th>1759</th>\n",
       "      <td>7994081388d55b9cf976c050653dd359</td>\n",
       "      <td>6</td>\n",
       "    </tr>\n",
       "    <tr>\n",
       "      <th>1760</th>\n",
       "      <td>fc6295add6f51a0936407ead70c1001d</td>\n",
       "      <td>4</td>\n",
       "    </tr>\n",
       "    <tr>\n",
       "      <th>1761</th>\n",
       "      <td>ca5832c6960267b71041f74bb39e8b12</td>\n",
       "      <td>1</td>\n",
       "    </tr>\n",
       "    <tr>\n",
       "      <th>1762</th>\n",
       "      <td>f3055483058c84d75ca2a3314fb4deef</td>\n",
       "      <td>1</td>\n",
       "    </tr>\n",
       "    <tr>\n",
       "      <th>1763</th>\n",
       "      <td>ab75b89cc49c9ab3160d0c91565a442a</td>\n",
       "      <td>2</td>\n",
       "    </tr>\n",
       "    <tr>\n",
       "      <th>1764</th>\n",
       "      <td>fa7ad8ae9bcb2c4493fdf38e96b1d74f</td>\n",
       "      <td>2</td>\n",
       "    </tr>\n",
       "    <tr>\n",
       "      <th>1765</th>\n",
       "      <td>804287717b9156fb7a787acd9af4fac1</td>\n",
       "      <td>1</td>\n",
       "    </tr>\n",
       "    <tr>\n",
       "      <th>1766</th>\n",
       "      <td>809413606dbfe5deefd2db646693ef67</td>\n",
       "      <td>2</td>\n",
       "    </tr>\n",
       "    <tr>\n",
       "      <th>1767</th>\n",
       "      <td>fe26f3ecb51a15e6d8335cd92da42562</td>\n",
       "      <td>1</td>\n",
       "    </tr>\n",
       "    <tr>\n",
       "      <th>1768</th>\n",
       "      <td>9d4db00d65d7760644ac0c14edb5fd86</td>\n",
       "      <td>1</td>\n",
       "    </tr>\n",
       "    <tr>\n",
       "      <th>1769</th>\n",
       "      <td>8e670472e453ba34a379331513d6aab1</td>\n",
       "      <td>1</td>\n",
       "    </tr>\n",
       "    <tr>\n",
       "      <th>1770</th>\n",
       "      <td>740205fedfe4e90ca6857bc77db0f2b4</td>\n",
       "      <td>1</td>\n",
       "    </tr>\n",
       "    <tr>\n",
       "      <th>1771</th>\n",
       "      <td>3bfad056cf05c00dabe2f895925d83b1</td>\n",
       "      <td>5</td>\n",
       "    </tr>\n",
       "    <tr>\n",
       "      <th>1772</th>\n",
       "      <td>889009a0ed0bb52c87819941192931b8</td>\n",
       "      <td>1</td>\n",
       "    </tr>\n",
       "    <tr>\n",
       "      <th>1773</th>\n",
       "      <td>46ef1a25845fc051c2998d878354810c</td>\n",
       "      <td>1</td>\n",
       "    </tr>\n",
       "    <tr>\n",
       "      <th>1774</th>\n",
       "      <td>bcd2d7510d58e293f20fad6438c1b314</td>\n",
       "      <td>1</td>\n",
       "    </tr>\n",
       "    <tr>\n",
       "      <th>1775</th>\n",
       "      <td>262237171f48e85819065498cac80d7b</td>\n",
       "      <td>5</td>\n",
       "    </tr>\n",
       "    <tr>\n",
       "      <th>1776</th>\n",
       "      <td>ace601496e211a664100321f038f50af</td>\n",
       "      <td>1</td>\n",
       "    </tr>\n",
       "    <tr>\n",
       "      <th>1777</th>\n",
       "      <td>aadfe0417e61315688b6bd7043361e25</td>\n",
       "      <td>1</td>\n",
       "    </tr>\n",
       "    <tr>\n",
       "      <th>1778</th>\n",
       "      <td>20d53aad4fe5ee93a64f8839609d3586</td>\n",
       "      <td>1</td>\n",
       "    </tr>\n",
       "    <tr>\n",
       "      <th>1779</th>\n",
       "      <td>72c73be2b085b9d57650dd53eb2004c9</td>\n",
       "      <td>1</td>\n",
       "    </tr>\n",
       "    <tr>\n",
       "      <th>1780</th>\n",
       "      <td>9ef932e837d8b7f392c0bfee9d359dc2</td>\n",
       "      <td>1</td>\n",
       "    </tr>\n",
       "    <tr>\n",
       "      <th>1781</th>\n",
       "      <td>2d8cfba3fcd3170555941605edaa196a</td>\n",
       "      <td>1</td>\n",
       "    </tr>\n",
       "    <tr>\n",
       "      <th>1782</th>\n",
       "      <td>8501d82f68d23148b6d78bb7c4a42037</td>\n",
       "      <td>1</td>\n",
       "    </tr>\n",
       "    <tr>\n",
       "      <th>1783</th>\n",
       "      <td>8fe8786ee000001ab51d030dfd4a7bf1</td>\n",
       "      <td>1</td>\n",
       "    </tr>\n",
       "  </tbody>\n",
       "</table>\n",
       "<p>1784 rows × 2 columns</p>\n",
       "</div>"
      ],
      "text/plain": [
       "                             seller_id  items_sold\n",
       "0     3504c0cb71d7fa48d967e0e4c94d59d9          53\n",
       "1     66922902710d126a0e7d26b0e3805106          64\n",
       "2     8581055ce74af1daba164fdbd55a40de         310\n",
       "3     dc8798cbf453b7e0f98745e396cc5616          49\n",
       "4     16090f2ca825584b5a147ab24aa30c86          78\n",
       "5     63b9ae557efed31d1f7687917d248a8d           6\n",
       "6     7c67e1448b00f6e969d365cea6b010ab         655\n",
       "7     001cca7ae9ae17fb1caed9dfb1094831         210\n",
       "8     87142160b41353c4e5fca2360caf6f92         218\n",
       "9     ea8482cd71df3c1969d7b9473ff13abc         356\n",
       "10    d2374cbcbb3ca4ab1086534108cc3ab7         373\n",
       "11    70a12e78e608ac31179aea7f8422044b         235\n",
       "12    633ecdf879b94b5337cca303328e4a25           6\n",
       "13    5dceca129747e92ff8ef7a997dc4f8ca         261\n",
       "14    77530e9772f57a62c906e1c21538ab82         181\n",
       "15    85d9eb9ddc5d00ca9336a2219c97bb13         297\n",
       "16    a1043bafd471dff536d0c462352beb48         321\n",
       "17    f5f46307a4d15880ca14fab4ad9dfc9b          10\n",
       "18    a3a38f4affed601eb87a97788c949667         217\n",
       "19    f8db351d8c4c4c22c6835c19a46f01b0         442\n",
       "20    669ae81880e08f269a64487cfb287169         114\n",
       "21    b33e7c55446eabf8fe1a42d037ac7d6d          84\n",
       "22    1025f0e2d44d7041d6cf58b6550e0bfa         411\n",
       "23    391fc6631aebcf3004804e51b40bcf1e         335\n",
       "24    80e6699fe29150b372a0c8a1ebf7dcc8          77\n",
       "25    a673821011d0cec28146ea42f5ab767f          73\n",
       "26    5b925e1d006e9476d738aa200751b73b          26\n",
       "27    855668e0971d4dfd7bef1b6a4133b41b         197\n",
       "28    f84a00e60c73a49e7e851c9bdca3a5bb          43\n",
       "29    c8417879a15366a17c30af34c798c332          36\n",
       "...                                ...         ...\n",
       "1754  eb5b6204dde3a6e03b5f1bb8479f055b           1\n",
       "1755  d4f117125b59ce73c3302f88ee40c458           1\n",
       "1756  014d9a685fd57276679edd00e07089e5           1\n",
       "1757  5d043cd5512d4bd2f88e5ccdd5736c38           1\n",
       "1758  3d62f86afa7c73be2628a3be1423f5a0           1\n",
       "1759  7994081388d55b9cf976c050653dd359           6\n",
       "1760  fc6295add6f51a0936407ead70c1001d           4\n",
       "1761  ca5832c6960267b71041f74bb39e8b12           1\n",
       "1762  f3055483058c84d75ca2a3314fb4deef           1\n",
       "1763  ab75b89cc49c9ab3160d0c91565a442a           2\n",
       "1764  fa7ad8ae9bcb2c4493fdf38e96b1d74f           2\n",
       "1765  804287717b9156fb7a787acd9af4fac1           1\n",
       "1766  809413606dbfe5deefd2db646693ef67           2\n",
       "1767  fe26f3ecb51a15e6d8335cd92da42562           1\n",
       "1768  9d4db00d65d7760644ac0c14edb5fd86           1\n",
       "1769  8e670472e453ba34a379331513d6aab1           1\n",
       "1770  740205fedfe4e90ca6857bc77db0f2b4           1\n",
       "1771  3bfad056cf05c00dabe2f895925d83b1           5\n",
       "1772  889009a0ed0bb52c87819941192931b8           1\n",
       "1773  46ef1a25845fc051c2998d878354810c           1\n",
       "1774  bcd2d7510d58e293f20fad6438c1b314           1\n",
       "1775  262237171f48e85819065498cac80d7b           5\n",
       "1776  ace601496e211a664100321f038f50af           1\n",
       "1777  aadfe0417e61315688b6bd7043361e25           1\n",
       "1778  20d53aad4fe5ee93a64f8839609d3586           1\n",
       "1779  72c73be2b085b9d57650dd53eb2004c9           1\n",
       "1780  9ef932e837d8b7f392c0bfee9d359dc2           1\n",
       "1781  2d8cfba3fcd3170555941605edaa196a           1\n",
       "1782  8501d82f68d23148b6d78bb7c4a42037           1\n",
       "1783  8fe8786ee000001ab51d030dfd4a7bf1           1\n",
       "\n",
       "[1784 rows x 2 columns]"
      ]
     },
     "execution_count": 8,
     "metadata": {},
     "output_type": "execute_result"
    }
   ],
   "source": [
    "seller_qty"
   ]
  },
  {
   "cell_type": "code",
   "execution_count": 9,
   "metadata": {},
   "outputs": [
    {
     "data": {
      "text/html": [
       "<div>\n",
       "<style scoped>\n",
       "    .dataframe tbody tr th:only-of-type {\n",
       "        vertical-align: middle;\n",
       "    }\n",
       "\n",
       "    .dataframe tbody tr th {\n",
       "        vertical-align: top;\n",
       "    }\n",
       "\n",
       "    .dataframe thead th {\n",
       "        text-align: right;\n",
       "    }\n",
       "</style>\n",
       "<table border=\"1\" class=\"dataframe\">\n",
       "  <thead>\n",
       "    <tr style=\"text-align: right;\">\n",
       "      <th></th>\n",
       "      <th>items_sold</th>\n",
       "    </tr>\n",
       "  </thead>\n",
       "  <tbody>\n",
       "    <tr>\n",
       "      <th>count</th>\n",
       "      <td>1784.00000</td>\n",
       "    </tr>\n",
       "    <tr>\n",
       "      <th>mean</th>\n",
       "      <td>28.51009</td>\n",
       "    </tr>\n",
       "    <tr>\n",
       "      <th>std</th>\n",
       "      <td>80.93112</td>\n",
       "    </tr>\n",
       "    <tr>\n",
       "      <th>min</th>\n",
       "      <td>1.00000</td>\n",
       "    </tr>\n",
       "    <tr>\n",
       "      <th>25%</th>\n",
       "      <td>2.00000</td>\n",
       "    </tr>\n",
       "    <tr>\n",
       "      <th>50%</th>\n",
       "      <td>6.00000</td>\n",
       "    </tr>\n",
       "    <tr>\n",
       "      <th>75%</th>\n",
       "      <td>22.00000</td>\n",
       "    </tr>\n",
       "    <tr>\n",
       "      <th>max</th>\n",
       "      <td>1258.00000</td>\n",
       "    </tr>\n",
       "  </tbody>\n",
       "</table>\n",
       "</div>"
      ],
      "text/plain": [
       "       items_sold\n",
       "count  1784.00000\n",
       "mean     28.51009\n",
       "std      80.93112\n",
       "min       1.00000\n",
       "25%       2.00000\n",
       "50%       6.00000\n",
       "75%      22.00000\n",
       "max    1258.00000"
      ]
     },
     "execution_count": 9,
     "metadata": {},
     "output_type": "execute_result"
    }
   ],
   "source": [
    "seller_qty.describe()       # 5 points summary"
   ]
  },
  {
   "cell_type": "markdown",
   "metadata": {},
   "source": [
    "Top seller has had 1258 sales in 2017\n",
    "\n",
    "Lowest performing seller only sold 1 item\n",
    "\n",
    "Half of the sellers sold no more than 6 items\n",
    "\n",
    "75% sold no more than 22 items"
   ]
  },
  {
   "cell_type": "code",
   "execution_count": 12,
   "metadata": {},
   "outputs": [
    {
     "data": {
      "text/plain": [
       "<matplotlib.axes._subplots.AxesSubplot at 0x1195d6e10>"
      ]
     },
     "execution_count": 12,
     "metadata": {},
     "output_type": "execute_result"
    },
    {
     "data": {
      "image/png": "[encoded data removed]",
      "text/plain": [
       "<Figure size 432x288 with 1 Axes>"
      ]
     },
     "metadata": {
      "needs_background": "light"
     },
     "output_type": "display_data"
    }
   ],
   "source": [
    "seller_qty.plot(kind='box')"
   ]
  },
  {
   "cell_type": "code",
   "execution_count": 14,
   "metadata": {},
   "outputs": [
    {
     "data": {
      "text/plain": [
       "<matplotlib.axes._subplots.AxesSubplot at 0x1196b2128>"
      ]
     },
     "execution_count": 14,
     "metadata": {},
     "output_type": "execute_result"
    },
    {
     "data": {
      "image/png": "[encoded data removed]",
      "text/plain": [
       "<Figure size 432x288 with 1 Axes>"
      ]
     },
     "metadata": {
      "needs_background": "light"
     },
     "output_type": "display_data"
    }
   ],
   "source": [
    "seller_qty.plot(kind='box',ylim=(0,60))"
   ]
  },
  {
   "cell_type": "code",
   "execution_count": 21,
   "metadata": {},
   "outputs": [
    {
     "data": {
      "text/plain": [
       "<matplotlib.axes._subplots.AxesSubplot at 0x11a6b55f8>"
      ]
     },
     "execution_count": 21,
     "metadata": {},
     "output_type": "execute_result"
    },
    {
     "data": {
      "image/png": "[encoded data removed]",
      "text/plain": [
       "<Figure size 432x288 with 1 Axes>"
      ]
     },
     "metadata": {
      "needs_background": "light"
     },
     "output_type": "display_data"
    }
   ],
   "source": [
    "seller_qty.plot(kind='hist')"
   ]
  },
  {
   "cell_type": "code",
   "execution_count": 20,
   "metadata": {},
   "outputs": [
    {
     "data": {
      "text/plain": [
       "<matplotlib.axes._subplots.AxesSubplot at 0x119fd4eb8>"
      ]
     },
     "execution_count": 20,
     "metadata": {},
     "output_type": "execute_result"
    },
    {
     "data": {
      "image/png": "[encoded data removed]",
      "text/plain": [
       "<Figure size 432x288 with 1 Axes>"
      ]
     },
     "metadata": {
      "needs_background": "light"
     },
     "output_type": "display_data"
    }
   ],
   "source": [
    "seller_qty.plot(kind='hist',bins=1000)"
   ]
  },
  {
   "cell_type": "code",
   "execution_count": 23,
   "metadata": {},
   "outputs": [
    {
     "data": {
      "text/plain": [
       "<matplotlib.axes._subplots.AxesSubplot at 0x11af4fb38>"
      ]
     },
     "execution_count": 23,
     "metadata": {},
     "output_type": "execute_result"
    },
    {
     "data": {
      "image/png": "[encoded data removed]",
      "text/plain": [
       "<Figure size 432x288 with 1 Axes>"
      ]
     },
     "metadata": {
      "needs_background": "light"
     },
     "output_type": "display_data"
    }
   ],
   "source": [
    "seller_qty.plot(kind='hist',bins=1000,xlim=(0,100),colormap='jet')"
   ]
  },
  {
   "cell_type": "code",
   "execution_count": 24,
   "metadata": {},
   "outputs": [
    {
     "data": {
      "text/plain": [
       "items_sold    6.0\n",
       "Name: 0.5, dtype: float64"
      ]
     },
     "execution_count": 24,
     "metadata": {},
     "output_type": "execute_result"
    }
   ],
   "source": [
    "seller_qty.quantile(.5)"
   ]
  },
  {
   "cell_type": "code",
   "execution_count": 25,
   "metadata": {},
   "outputs": [
    {
     "data": {
      "text/html": [
       "<div>\n",
       "<style scoped>\n",
       "    .dataframe tbody tr th:only-of-type {\n",
       "        vertical-align: middle;\n",
       "    }\n",
       "\n",
       "    .dataframe tbody tr th {\n",
       "        vertical-align: top;\n",
       "    }\n",
       "\n",
       "    .dataframe thead th {\n",
       "        text-align: right;\n",
       "    }\n",
       "</style>\n",
       "<table border=\"1\" class=\"dataframe\">\n",
       "  <thead>\n",
       "    <tr style=\"text-align: right;\">\n",
       "      <th></th>\n",
       "      <th>items_sold</th>\n",
       "    </tr>\n",
       "  </thead>\n",
       "  <tbody>\n",
       "    <tr>\n",
       "      <th>0.25</th>\n",
       "      <td>2.0</td>\n",
       "    </tr>\n",
       "    <tr>\n",
       "      <th>0.50</th>\n",
       "      <td>6.0</td>\n",
       "    </tr>\n",
       "    <tr>\n",
       "      <th>0.75</th>\n",
       "      <td>22.0</td>\n",
       "    </tr>\n",
       "  </tbody>\n",
       "</table>\n",
       "</div>"
      ],
      "text/plain": [
       "      items_sold\n",
       "0.25         2.0\n",
       "0.50         6.0\n",
       "0.75        22.0"
      ]
     },
     "execution_count": 25,
     "metadata": {},
     "output_type": "execute_result"
    }
   ],
   "source": [
    "seller_qty.quantile([.25,.5,.75])"
   ]
  },
  {
   "cell_type": "code",
   "execution_count": 26,
   "metadata": {},
   "outputs": [
    {
     "data": {
      "text/plain": [
       "[0,\n",
       " 1,\n",
       " 2,\n",
       " 3,\n",
       " 4,\n",
       " 5,\n",
       " 6,\n",
       " 7,\n",
       " 8,\n",
       " 9,\n",
       " 10,\n",
       " 11,\n",
       " 12,\n",
       " 13,\n",
       " 14,\n",
       " 15,\n",
       " 16,\n",
       " 17,\n",
       " 18,\n",
       " 19,\n",
       " 20,\n",
       " 21,\n",
       " 22,\n",
       " 23,\n",
       " 24,\n",
       " 25,\n",
       " 26,\n",
       " 27,\n",
       " 28,\n",
       " 29,\n",
       " 30,\n",
       " 31,\n",
       " 32,\n",
       " 33,\n",
       " 34,\n",
       " 35,\n",
       " 36,\n",
       " 37,\n",
       " 38,\n",
       " 39,\n",
       " 40,\n",
       " 41,\n",
       " 42,\n",
       " 43,\n",
       " 44,\n",
       " 45,\n",
       " 46,\n",
       " 47,\n",
       " 48,\n",
       " 49,\n",
       " 50,\n",
       " 51,\n",
       " 52,\n",
       " 53,\n",
       " 54,\n",
       " 55,\n",
       " 56,\n",
       " 57,\n",
       " 58,\n",
       " 59,\n",
       " 60,\n",
       " 61,\n",
       " 62,\n",
       " 63,\n",
       " 64,\n",
       " 65,\n",
       " 66,\n",
       " 67,\n",
       " 68,\n",
       " 69,\n",
       " 70,\n",
       " 71,\n",
       " 72,\n",
       " 73,\n",
       " 74,\n",
       " 75,\n",
       " 76,\n",
       " 77,\n",
       " 78,\n",
       " 79,\n",
       " 80,\n",
       " 81,\n",
       " 82,\n",
       " 83,\n",
       " 84,\n",
       " 85,\n",
       " 86,\n",
       " 87,\n",
       " 88,\n",
       " 89,\n",
       " 90,\n",
       " 91,\n",
       " 92,\n",
       " 93,\n",
       " 94,\n",
       " 95,\n",
       " 96,\n",
       " 97,\n",
       " 98,\n",
       " 99]"
      ]
     },
     "execution_count": 26,
     "metadata": {},
     "output_type": "execute_result"
    }
   ],
   "source": [
    "list(range(100))"
   ]
  },
  {
   "cell_type": "code",
   "execution_count": 27,
   "metadata": {},
   "outputs": [
    {
     "data": {
      "text/plain": [
       "array([ 0.  ,  0.01,  0.02,  0.03,  0.04,  0.05,  0.06,  0.07,  0.08,\n",
       "        0.09,  0.1 ,  0.11,  0.12,  0.13,  0.14,  0.15,  0.16,  0.17,\n",
       "        0.18,  0.19,  0.2 ,  0.21,  0.22,  0.23,  0.24,  0.25,  0.26,\n",
       "        0.27,  0.28,  0.29,  0.3 ,  0.31,  0.32,  0.33,  0.34,  0.35,\n",
       "        0.36,  0.37,  0.38,  0.39,  0.4 ,  0.41,  0.42,  0.43,  0.44,\n",
       "        0.45,  0.46,  0.47,  0.48,  0.49,  0.5 ,  0.51,  0.52,  0.53,\n",
       "        0.54,  0.55,  0.56,  0.57,  0.58,  0.59,  0.6 ,  0.61,  0.62,\n",
       "        0.63,  0.64,  0.65,  0.66,  0.67,  0.68,  0.69,  0.7 ,  0.71,\n",
       "        0.72,  0.73,  0.74,  0.75,  0.76,  0.77,  0.78,  0.79,  0.8 ,\n",
       "        0.81,  0.82,  0.83,  0.84,  0.85,  0.86,  0.87,  0.88,  0.89,\n",
       "        0.9 ,  0.91,  0.92,  0.93,  0.94,  0.95,  0.96,  0.97,  0.98,  0.99])"
      ]
     },
     "execution_count": 27,
     "metadata": {},
     "output_type": "execute_result"
    }
   ],
   "source": [
    "np.arange(0,1,.01)"
   ]
  },
  {
   "cell_type": "code",
   "execution_count": 29,
   "metadata": {},
   "outputs": [],
   "source": [
    "seller_percentiles = seller_qty.quantile(np.arange(0,1,.01))"
   ]
  },
  {
   "cell_type": "code",
   "execution_count": 30,
   "metadata": {},
   "outputs": [
    {
     "data": {
      "text/plain": [
       "<matplotlib.axes._subplots.AxesSubplot at 0x11b7234e0>"
      ]
     },
     "execution_count": 30,
     "metadata": {},
     "output_type": "execute_result"
    },
    {
     "data": {
      "image/png": "[encoded data removed]",
      "text/plain": [
       "<Figure size 432x288 with 1 Axes>"
      ]
     },
     "metadata": {
      "needs_background": "light"
     },
     "output_type": "display_data"
    }
   ],
   "source": [
    "seller_percentiles.plot()"
   ]
  },
  {
   "cell_type": "code",
   "execution_count": 31,
   "metadata": {},
   "outputs": [
    {
     "data": {
      "text/plain": [
       "<matplotlib.axes._subplots.AxesSubplot at 0x11b760f60>"
      ]
     },
     "execution_count": 31,
     "metadata": {},
     "output_type": "execute_result"
    },
    {
     "data": {
      "image/png": "[encoded data removed]",
      "text/plain": [
       "<Figure size 432x288 with 1 Axes>"
      ]
     },
     "metadata": {
      "needs_background": "light"
     },
     "output_type": "display_data"
    }
   ],
   "source": [
    "seller_percentiles.plot(kind='bar')"
   ]
  },
  {
   "cell_type": "code",
   "execution_count": 32,
   "metadata": {},
   "outputs": [
    {
     "data": {
      "text/html": [
       "<div>\n",
       "<style scoped>\n",
       "    .dataframe tbody tr th:only-of-type {\n",
       "        vertical-align: middle;\n",
       "    }\n",
       "\n",
       "    .dataframe tbody tr th {\n",
       "        vertical-align: top;\n",
       "    }\n",
       "\n",
       "    .dataframe thead th {\n",
       "        text-align: right;\n",
       "    }\n",
       "</style>\n",
       "<table border=\"1\" class=\"dataframe\">\n",
       "  <thead>\n",
       "    <tr style=\"text-align: right;\">\n",
       "      <th></th>\n",
       "      <th>items_sold</th>\n",
       "    </tr>\n",
       "  </thead>\n",
       "  <tbody>\n",
       "    <tr>\n",
       "      <th>0.0</th>\n",
       "      <td>1.0</td>\n",
       "    </tr>\n",
       "    <tr>\n",
       "      <th>0.1</th>\n",
       "      <td>1.0</td>\n",
       "    </tr>\n",
       "    <tr>\n",
       "      <th>0.2</th>\n",
       "      <td>2.0</td>\n",
       "    </tr>\n",
       "    <tr>\n",
       "      <th>0.3</th>\n",
       "      <td>3.0</td>\n",
       "    </tr>\n",
       "    <tr>\n",
       "      <th>0.4</th>\n",
       "      <td>4.0</td>\n",
       "    </tr>\n",
       "    <tr>\n",
       "      <th>0.5</th>\n",
       "      <td>6.0</td>\n",
       "    </tr>\n",
       "    <tr>\n",
       "      <th>0.6</th>\n",
       "      <td>10.0</td>\n",
       "    </tr>\n",
       "    <tr>\n",
       "      <th>0.7</th>\n",
       "      <td>16.0</td>\n",
       "    </tr>\n",
       "    <tr>\n",
       "      <th>0.8</th>\n",
       "      <td>29.0</td>\n",
       "    </tr>\n",
       "    <tr>\n",
       "      <th>0.9</th>\n",
       "      <td>64.0</td>\n",
       "    </tr>\n",
       "  </tbody>\n",
       "</table>\n",
       "</div>"
      ],
      "text/plain": [
       "     items_sold\n",
       "0.0         1.0\n",
       "0.1         1.0\n",
       "0.2         2.0\n",
       "0.3         3.0\n",
       "0.4         4.0\n",
       "0.5         6.0\n",
       "0.6        10.0\n",
       "0.7        16.0\n",
       "0.8        29.0\n",
       "0.9        64.0"
      ]
     },
     "execution_count": 32,
     "metadata": {},
     "output_type": "execute_result"
    }
   ],
   "source": [
    "seller_qty.quantile(np.arange(0,1,.1))"
   ]
  },
  {
   "cell_type": "markdown",
   "metadata": {},
   "source": [
    "the top 10% of sellers sold at least 64 items in 2007"
   ]
  },
  {
   "cell_type": "markdown",
   "metadata": {},
   "source": [
    "3. How much revenue do they generate?"
   ]
  },
  {
   "cell_type": "code",
   "execution_count": 33,
   "metadata": {},
   "outputs": [],
   "source": [
    "sellers_rev_query = \"\"\"\n",
    "\n",
    "SELECT \n",
    "\toi.seller_id, \n",
    "\tSUM(oi.price) AS revenue_generated\n",
    "FROM order_items oi\n",
    "\tINNER JOIN orders o\n",
    "\tON oi.order_id = o.order_id\n",
    "WHERE o.order_purchase_timestamp >= '20170101'\n",
    "\tAND o.order_purchase_timestamp < '20180101'\n",
    "GROUP BY oi.seller_id;\n",
    "\n",
    "\"\"\"\n",
    "sellers_rev = pd.read_sql(sellers_rev_query, conn)"
   ]
  },
  {
   "cell_type": "code",
   "execution_count": 34,
   "metadata": {},
   "outputs": [
    {
     "data": {
      "text/html": [
       "<div>\n",
       "<style scoped>\n",
       "    .dataframe tbody tr th:only-of-type {\n",
       "        vertical-align: middle;\n",
       "    }\n",
       "\n",
       "    .dataframe tbody tr th {\n",
       "        vertical-align: top;\n",
       "    }\n",
       "\n",
       "    .dataframe thead th {\n",
       "        text-align: right;\n",
       "    }\n",
       "</style>\n",
       "<table border=\"1\" class=\"dataframe\">\n",
       "  <thead>\n",
       "    <tr style=\"text-align: right;\">\n",
       "      <th></th>\n",
       "      <th>seller_id</th>\n",
       "      <th>revenue_generated</th>\n",
       "    </tr>\n",
       "  </thead>\n",
       "  <tbody>\n",
       "    <tr>\n",
       "      <th>0</th>\n",
       "      <td>3504c0cb71d7fa48d967e0e4c94d59d9</td>\n",
       "      <td>2349.940056</td>\n",
       "    </tr>\n",
       "    <tr>\n",
       "      <th>1</th>\n",
       "      <td>66922902710d126a0e7d26b0e3805106</td>\n",
       "      <td>5926.800003</td>\n",
       "    </tr>\n",
       "    <tr>\n",
       "      <th>2</th>\n",
       "      <td>8581055ce74af1daba164fdbd55a40de</td>\n",
       "      <td>45763.090235</td>\n",
       "    </tr>\n",
       "    <tr>\n",
       "      <th>3</th>\n",
       "      <td>dc8798cbf453b7e0f98745e396cc5616</td>\n",
       "      <td>1976.500029</td>\n",
       "    </tr>\n",
       "    <tr>\n",
       "      <th>4</th>\n",
       "      <td>16090f2ca825584b5a147ab24aa30c86</td>\n",
       "      <td>11045.279995</td>\n",
       "    </tr>\n",
       "    <tr>\n",
       "      <th>5</th>\n",
       "      <td>63b9ae557efed31d1f7687917d248a8d</td>\n",
       "      <td>129.499998</td>\n",
       "    </tr>\n",
       "    <tr>\n",
       "      <th>6</th>\n",
       "      <td>7c67e1448b00f6e969d365cea6b010ab</td>\n",
       "      <td>95176.991259</td>\n",
       "    </tr>\n",
       "    <tr>\n",
       "      <th>7</th>\n",
       "      <td>001cca7ae9ae17fb1caed9dfb1094831</td>\n",
       "      <td>21638.229988</td>\n",
       "    </tr>\n",
       "    <tr>\n",
       "      <th>8</th>\n",
       "      <td>87142160b41353c4e5fca2360caf6f92</td>\n",
       "      <td>20687.799986</td>\n",
       "    </tr>\n",
       "    <tr>\n",
       "      <th>9</th>\n",
       "      <td>ea8482cd71df3c1969d7b9473ff13abc</td>\n",
       "      <td>10056.639969</td>\n",
       "    </tr>\n",
       "    <tr>\n",
       "      <th>10</th>\n",
       "      <td>d2374cbcbb3ca4ab1086534108cc3ab7</td>\n",
       "      <td>11268.520048</td>\n",
       "    </tr>\n",
       "    <tr>\n",
       "      <th>11</th>\n",
       "      <td>70a12e78e608ac31179aea7f8422044b</td>\n",
       "      <td>17971.030010</td>\n",
       "    </tr>\n",
       "    <tr>\n",
       "      <th>12</th>\n",
       "      <td>633ecdf879b94b5337cca303328e4a25</td>\n",
       "      <td>1037.600006</td>\n",
       "    </tr>\n",
       "    <tr>\n",
       "      <th>13</th>\n",
       "      <td>5dceca129747e92ff8ef7a997dc4f8ca</td>\n",
       "      <td>57830.409777</td>\n",
       "    </tr>\n",
       "    <tr>\n",
       "      <th>14</th>\n",
       "      <td>77530e9772f57a62c906e1c21538ab82</td>\n",
       "      <td>20568.999969</td>\n",
       "    </tr>\n",
       "    <tr>\n",
       "      <th>15</th>\n",
       "      <td>85d9eb9ddc5d00ca9336a2219c97bb13</td>\n",
       "      <td>8734.199936</td>\n",
       "    </tr>\n",
       "    <tr>\n",
       "      <th>16</th>\n",
       "      <td>a1043bafd471dff536d0c462352beb48</td>\n",
       "      <td>40714.110451</td>\n",
       "    </tr>\n",
       "    <tr>\n",
       "      <th>17</th>\n",
       "      <td>f5f46307a4d15880ca14fab4ad9dfc9b</td>\n",
       "      <td>1422.940014</td>\n",
       "    </tr>\n",
       "    <tr>\n",
       "      <th>18</th>\n",
       "      <td>a3a38f4affed601eb87a97788c949667</td>\n",
       "      <td>21602.569963</td>\n",
       "    </tr>\n",
       "    <tr>\n",
       "      <th>19</th>\n",
       "      <td>f8db351d8c4c4c22c6835c19a46f01b0</td>\n",
       "      <td>30642.799822</td>\n",
       "    </tr>\n",
       "    <tr>\n",
       "      <th>20</th>\n",
       "      <td>669ae81880e08f269a64487cfb287169</td>\n",
       "      <td>8826.200003</td>\n",
       "    </tr>\n",
       "    <tr>\n",
       "      <th>21</th>\n",
       "      <td>b33e7c55446eabf8fe1a42d037ac7d6d</td>\n",
       "      <td>22010.250031</td>\n",
       "    </tr>\n",
       "    <tr>\n",
       "      <th>22</th>\n",
       "      <td>1025f0e2d44d7041d6cf58b6550e0bfa</td>\n",
       "      <td>33771.840351</td>\n",
       "    </tr>\n",
       "    <tr>\n",
       "      <th>23</th>\n",
       "      <td>391fc6631aebcf3004804e51b40bcf1e</td>\n",
       "      <td>22229.409973</td>\n",
       "    </tr>\n",
       "    <tr>\n",
       "      <th>24</th>\n",
       "      <td>80e6699fe29150b372a0c8a1ebf7dcc8</td>\n",
       "      <td>9028.269958</td>\n",
       "    </tr>\n",
       "    <tr>\n",
       "      <th>25</th>\n",
       "      <td>a673821011d0cec28146ea42f5ab767f</td>\n",
       "      <td>6770.920084</td>\n",
       "    </tr>\n",
       "    <tr>\n",
       "      <th>26</th>\n",
       "      <td>5b925e1d006e9476d738aa200751b73b</td>\n",
       "      <td>3674.000000</td>\n",
       "    </tr>\n",
       "    <tr>\n",
       "      <th>27</th>\n",
       "      <td>855668e0971d4dfd7bef1b6a4133b41b</td>\n",
       "      <td>20114.579952</td>\n",
       "    </tr>\n",
       "    <tr>\n",
       "      <th>28</th>\n",
       "      <td>f84a00e60c73a49e7e851c9bdca3a5bb</td>\n",
       "      <td>2632.740035</td>\n",
       "    </tr>\n",
       "    <tr>\n",
       "      <th>29</th>\n",
       "      <td>c8417879a15366a17c30af34c798c332</td>\n",
       "      <td>1767.899998</td>\n",
       "    </tr>\n",
       "    <tr>\n",
       "      <th>...</th>\n",
       "      <td>...</td>\n",
       "      <td>...</td>\n",
       "    </tr>\n",
       "    <tr>\n",
       "      <th>1754</th>\n",
       "      <td>eb5b6204dde3a6e03b5f1bb8479f055b</td>\n",
       "      <td>36.900002</td>\n",
       "    </tr>\n",
       "    <tr>\n",
       "      <th>1755</th>\n",
       "      <td>d4f117125b59ce73c3302f88ee40c458</td>\n",
       "      <td>32.900002</td>\n",
       "    </tr>\n",
       "    <tr>\n",
       "      <th>1756</th>\n",
       "      <td>014d9a685fd57276679edd00e07089e5</td>\n",
       "      <td>69.989998</td>\n",
       "    </tr>\n",
       "    <tr>\n",
       "      <th>1757</th>\n",
       "      <td>5d043cd5512d4bd2f88e5ccdd5736c38</td>\n",
       "      <td>650.000000</td>\n",
       "    </tr>\n",
       "    <tr>\n",
       "      <th>1758</th>\n",
       "      <td>3d62f86afa7c73be2628a3be1423f5a0</td>\n",
       "      <td>6.000000</td>\n",
       "    </tr>\n",
       "    <tr>\n",
       "      <th>1759</th>\n",
       "      <td>7994081388d55b9cf976c050653dd359</td>\n",
       "      <td>1020.000000</td>\n",
       "    </tr>\n",
       "    <tr>\n",
       "      <th>1760</th>\n",
       "      <td>fc6295add6f51a0936407ead70c1001d</td>\n",
       "      <td>160.000000</td>\n",
       "    </tr>\n",
       "    <tr>\n",
       "      <th>1761</th>\n",
       "      <td>ca5832c6960267b71041f74bb39e8b12</td>\n",
       "      <td>79.900002</td>\n",
       "    </tr>\n",
       "    <tr>\n",
       "      <th>1762</th>\n",
       "      <td>f3055483058c84d75ca2a3314fb4deef</td>\n",
       "      <td>67.500000</td>\n",
       "    </tr>\n",
       "    <tr>\n",
       "      <th>1763</th>\n",
       "      <td>ab75b89cc49c9ab3160d0c91565a442a</td>\n",
       "      <td>37.980000</td>\n",
       "    </tr>\n",
       "    <tr>\n",
       "      <th>1764</th>\n",
       "      <td>fa7ad8ae9bcb2c4493fdf38e96b1d74f</td>\n",
       "      <td>88.000000</td>\n",
       "    </tr>\n",
       "    <tr>\n",
       "      <th>1765</th>\n",
       "      <td>804287717b9156fb7a787acd9af4fac1</td>\n",
       "      <td>18.799999</td>\n",
       "    </tr>\n",
       "    <tr>\n",
       "      <th>1766</th>\n",
       "      <td>809413606dbfe5deefd2db646693ef67</td>\n",
       "      <td>89.400002</td>\n",
       "    </tr>\n",
       "    <tr>\n",
       "      <th>1767</th>\n",
       "      <td>fe26f3ecb51a15e6d8335cd92da42562</td>\n",
       "      <td>299.989990</td>\n",
       "    </tr>\n",
       "    <tr>\n",
       "      <th>1768</th>\n",
       "      <td>9d4db00d65d7760644ac0c14edb5fd86</td>\n",
       "      <td>109.989998</td>\n",
       "    </tr>\n",
       "    <tr>\n",
       "      <th>1769</th>\n",
       "      <td>8e670472e453ba34a379331513d6aab1</td>\n",
       "      <td>975.000000</td>\n",
       "    </tr>\n",
       "    <tr>\n",
       "      <th>1770</th>\n",
       "      <td>740205fedfe4e90ca6857bc77db0f2b4</td>\n",
       "      <td>229.899994</td>\n",
       "    </tr>\n",
       "    <tr>\n",
       "      <th>1771</th>\n",
       "      <td>3bfad056cf05c00dabe2f895925d83b1</td>\n",
       "      <td>206.650009</td>\n",
       "    </tr>\n",
       "    <tr>\n",
       "      <th>1772</th>\n",
       "      <td>889009a0ed0bb52c87819941192931b8</td>\n",
       "      <td>89.900002</td>\n",
       "    </tr>\n",
       "    <tr>\n",
       "      <th>1773</th>\n",
       "      <td>46ef1a25845fc051c2998d878354810c</td>\n",
       "      <td>56.060001</td>\n",
       "    </tr>\n",
       "    <tr>\n",
       "      <th>1774</th>\n",
       "      <td>bcd2d7510d58e293f20fad6438c1b314</td>\n",
       "      <td>23.900000</td>\n",
       "    </tr>\n",
       "    <tr>\n",
       "      <th>1775</th>\n",
       "      <td>262237171f48e85819065498cac80d7b</td>\n",
       "      <td>299.500008</td>\n",
       "    </tr>\n",
       "    <tr>\n",
       "      <th>1776</th>\n",
       "      <td>ace601496e211a664100321f038f50af</td>\n",
       "      <td>165.000000</td>\n",
       "    </tr>\n",
       "    <tr>\n",
       "      <th>1777</th>\n",
       "      <td>aadfe0417e61315688b6bd7043361e25</td>\n",
       "      <td>289.899994</td>\n",
       "    </tr>\n",
       "    <tr>\n",
       "      <th>1778</th>\n",
       "      <td>20d53aad4fe5ee93a64f8839609d3586</td>\n",
       "      <td>14.500000</td>\n",
       "    </tr>\n",
       "    <tr>\n",
       "      <th>1779</th>\n",
       "      <td>72c73be2b085b9d57650dd53eb2004c9</td>\n",
       "      <td>29.400000</td>\n",
       "    </tr>\n",
       "    <tr>\n",
       "      <th>1780</th>\n",
       "      <td>9ef932e837d8b7f392c0bfee9d359dc2</td>\n",
       "      <td>59.900002</td>\n",
       "    </tr>\n",
       "    <tr>\n",
       "      <th>1781</th>\n",
       "      <td>2d8cfba3fcd3170555941605edaa196a</td>\n",
       "      <td>45.000000</td>\n",
       "    </tr>\n",
       "    <tr>\n",
       "      <th>1782</th>\n",
       "      <td>8501d82f68d23148b6d78bb7c4a42037</td>\n",
       "      <td>19.700001</td>\n",
       "    </tr>\n",
       "    <tr>\n",
       "      <th>1783</th>\n",
       "      <td>8fe8786ee000001ab51d030dfd4a7bf1</td>\n",
       "      <td>439.000000</td>\n",
       "    </tr>\n",
       "  </tbody>\n",
       "</table>\n",
       "<p>1784 rows × 2 columns</p>\n",
       "</div>"
      ],
      "text/plain": [
       "                             seller_id  revenue_generated\n",
       "0     3504c0cb71d7fa48d967e0e4c94d59d9        2349.940056\n",
       "1     66922902710d126a0e7d26b0e3805106        5926.800003\n",
       "2     8581055ce74af1daba164fdbd55a40de       45763.090235\n",
       "3     dc8798cbf453b7e0f98745e396cc5616        1976.500029\n",
       "4     16090f2ca825584b5a147ab24aa30c86       11045.279995\n",
       "5     63b9ae557efed31d1f7687917d248a8d         129.499998\n",
       "6     7c67e1448b00f6e969d365cea6b010ab       95176.991259\n",
       "7     001cca7ae9ae17fb1caed9dfb1094831       21638.229988\n",
       "8     87142160b41353c4e5fca2360caf6f92       20687.799986\n",
       "9     ea8482cd71df3c1969d7b9473ff13abc       10056.639969\n",
       "10    d2374cbcbb3ca4ab1086534108cc3ab7       11268.520048\n",
       "11    70a12e78e608ac31179aea7f8422044b       17971.030010\n",
       "12    633ecdf879b94b5337cca303328e4a25        1037.600006\n",
       "13    5dceca129747e92ff8ef7a997dc4f8ca       57830.409777\n",
       "14    77530e9772f57a62c906e1c21538ab82       20568.999969\n",
       "15    85d9eb9ddc5d00ca9336a2219c97bb13        8734.199936\n",
       "16    a1043bafd471dff536d0c462352beb48       40714.110451\n",
       "17    f5f46307a4d15880ca14fab4ad9dfc9b        1422.940014\n",
       "18    a3a38f4affed601eb87a97788c949667       21602.569963\n",
       "19    f8db351d8c4c4c22c6835c19a46f01b0       30642.799822\n",
       "20    669ae81880e08f269a64487cfb287169        8826.200003\n",
       "21    b33e7c55446eabf8fe1a42d037ac7d6d       22010.250031\n",
       "22    1025f0e2d44d7041d6cf58b6550e0bfa       33771.840351\n",
       "23    391fc6631aebcf3004804e51b40bcf1e       22229.409973\n",
       "24    80e6699fe29150b372a0c8a1ebf7dcc8        9028.269958\n",
       "25    a673821011d0cec28146ea42f5ab767f        6770.920084\n",
       "26    5b925e1d006e9476d738aa200751b73b        3674.000000\n",
       "27    855668e0971d4dfd7bef1b6a4133b41b       20114.579952\n",
       "28    f84a00e60c73a49e7e851c9bdca3a5bb        2632.740035\n",
       "29    c8417879a15366a17c30af34c798c332        1767.899998\n",
       "...                                ...                ...\n",
       "1754  eb5b6204dde3a6e03b5f1bb8479f055b          36.900002\n",
       "1755  d4f117125b59ce73c3302f88ee40c458          32.900002\n",
       "1756  014d9a685fd57276679edd00e07089e5          69.989998\n",
       "1757  5d043cd5512d4bd2f88e5ccdd5736c38         650.000000\n",
       "1758  3d62f86afa7c73be2628a3be1423f5a0           6.000000\n",
       "1759  7994081388d55b9cf976c050653dd359        1020.000000\n",
       "1760  fc6295add6f51a0936407ead70c1001d         160.000000\n",
       "1761  ca5832c6960267b71041f74bb39e8b12          79.900002\n",
       "1762  f3055483058c84d75ca2a3314fb4deef          67.500000\n",
       "1763  ab75b89cc49c9ab3160d0c91565a442a          37.980000\n",
       "1764  fa7ad8ae9bcb2c4493fdf38e96b1d74f          88.000000\n",
       "1765  804287717b9156fb7a787acd9af4fac1          18.799999\n",
       "1766  809413606dbfe5deefd2db646693ef67          89.400002\n",
       "1767  fe26f3ecb51a15e6d8335cd92da42562         299.989990\n",
       "1768  9d4db00d65d7760644ac0c14edb5fd86         109.989998\n",
       "1769  8e670472e453ba34a379331513d6aab1         975.000000\n",
       "1770  740205fedfe4e90ca6857bc77db0f2b4         229.899994\n",
       "1771  3bfad056cf05c00dabe2f895925d83b1         206.650009\n",
       "1772  889009a0ed0bb52c87819941192931b8          89.900002\n",
       "1773  46ef1a25845fc051c2998d878354810c          56.060001\n",
       "1774  bcd2d7510d58e293f20fad6438c1b314          23.900000\n",
       "1775  262237171f48e85819065498cac80d7b         299.500008\n",
       "1776  ace601496e211a664100321f038f50af         165.000000\n",
       "1777  aadfe0417e61315688b6bd7043361e25         289.899994\n",
       "1778  20d53aad4fe5ee93a64f8839609d3586          14.500000\n",
       "1779  72c73be2b085b9d57650dd53eb2004c9          29.400000\n",
       "1780  9ef932e837d8b7f392c0bfee9d359dc2          59.900002\n",
       "1781  2d8cfba3fcd3170555941605edaa196a          45.000000\n",
       "1782  8501d82f68d23148b6d78bb7c4a42037          19.700001\n",
       "1783  8fe8786ee000001ab51d030dfd4a7bf1         439.000000\n",
       "\n",
       "[1784 rows x 2 columns]"
      ]
     },
     "execution_count": 34,
     "metadata": {},
     "output_type": "execute_result"
    }
   ],
   "source": [
    "sellers_rev"
   ]
  },
  {
   "cell_type": "code",
   "execution_count": 35,
   "metadata": {},
   "outputs": [
    {
     "data": {
      "text/html": [
       "<div>\n",
       "<style scoped>\n",
       "    .dataframe tbody tr th:only-of-type {\n",
       "        vertical-align: middle;\n",
       "    }\n",
       "\n",
       "    .dataframe tbody tr th {\n",
       "        vertical-align: top;\n",
       "    }\n",
       "\n",
       "    .dataframe thead th {\n",
       "        text-align: right;\n",
       "    }\n",
       "</style>\n",
       "<table border=\"1\" class=\"dataframe\">\n",
       "  <thead>\n",
       "    <tr style=\"text-align: right;\">\n",
       "      <th></th>\n",
       "      <th>revenue_generated</th>\n",
       "    </tr>\n",
       "  </thead>\n",
       "  <tbody>\n",
       "    <tr>\n",
       "      <th>count</th>\n",
       "      <td>1784.000000</td>\n",
       "    </tr>\n",
       "    <tr>\n",
       "      <th>mean</th>\n",
       "      <td>3450.487096</td>\n",
       "    </tr>\n",
       "    <tr>\n",
       "      <th>std</th>\n",
       "      <td>10407.172029</td>\n",
       "    </tr>\n",
       "    <tr>\n",
       "      <th>min</th>\n",
       "      <td>3.500000</td>\n",
       "    </tr>\n",
       "    <tr>\n",
       "      <th>25%</th>\n",
       "      <td>205.787502</td>\n",
       "    </tr>\n",
       "    <tr>\n",
       "      <th>50%</th>\n",
       "      <td>771.530024</td>\n",
       "    </tr>\n",
       "    <tr>\n",
       "      <th>75%</th>\n",
       "      <td>2677.642486</td>\n",
       "    </tr>\n",
       "    <tr>\n",
       "      <th>max</th>\n",
       "      <td>181113.919632</td>\n",
       "    </tr>\n",
       "  </tbody>\n",
       "</table>\n",
       "</div>"
      ],
      "text/plain": [
       "       revenue_generated\n",
       "count        1784.000000\n",
       "mean         3450.487096\n",
       "std         10407.172029\n",
       "min             3.500000\n",
       "25%           205.787502\n",
       "50%           771.530024\n",
       "75%          2677.642486\n",
       "max        181113.919632"
      ]
     },
     "execution_count": 35,
     "metadata": {},
     "output_type": "execute_result"
    }
   ],
   "source": [
    "sellers_rev.describe()"
   ]
  },
  {
   "cell_type": "code",
   "execution_count": 37,
   "metadata": {},
   "outputs": [
    {
     "data": {
      "text/plain": [
       "<matplotlib.axes._subplots.AxesSubplot at 0x11c4b6588>"
      ]
     },
     "execution_count": 37,
     "metadata": {},
     "output_type": "execute_result"
    },
    {
     "data": {
      "image/png": "[encoded data removed]",
      "text/plain": [
       "<Figure size 432x288 with 1 Axes>"
      ]
     },
     "metadata": {
      "needs_background": "light"
     },
     "output_type": "display_data"
    }
   ],
   "source": [
    "sellers_rev.plot(kind='box')"
   ]
  },
  {
   "cell_type": "code",
   "execution_count": 38,
   "metadata": {},
   "outputs": [
    {
     "data": {
      "text/plain": [
       "<matplotlib.axes._subplots.AxesSubplot at 0x11d36d198>"
      ]
     },
     "execution_count": 38,
     "metadata": {},
     "output_type": "execute_result"
    },
    {
     "data": {
      "image/png": "[encoded data removed]",
      "text/plain": [
       "<Figure size 432x288 with 1 Axes>"
      ]
     },
     "metadata": {
      "needs_background": "light"
     },
     "output_type": "display_data"
    }
   ],
   "source": [
    "sellers_rev.plot(kind='hist')"
   ]
  },
  {
   "cell_type": "code",
   "execution_count": 40,
   "metadata": {},
   "outputs": [
    {
     "data": {
      "text/plain": [
       "<matplotlib.axes._subplots.AxesSubplot at 0x11d837ac8>"
      ]
     },
     "execution_count": 40,
     "metadata": {},
     "output_type": "execute_result"
    },
    {
     "data": {
      "image/png": "[encoded data removed]",
      "text/plain": [
       "<Figure size 432x288 with 1 Axes>"
      ]
     },
     "metadata": {
      "needs_background": "light"
     },
     "output_type": "display_data"
    }
   ],
   "source": [
    "sellers_rev.plot(kind='hist',bins=700,xlim=(0,10000))"
   ]
  },
  {
   "cell_type": "code",
   "execution_count": 45,
   "metadata": {},
   "outputs": [
    {
     "data": {
      "text/html": [
       "<div>\n",
       "<style scoped>\n",
       "    .dataframe tbody tr th:only-of-type {\n",
       "        vertical-align: middle;\n",
       "    }\n",
       "\n",
       "    .dataframe tbody tr th {\n",
       "        vertical-align: top;\n",
       "    }\n",
       "\n",
       "    .dataframe thead th {\n",
       "        text-align: right;\n",
       "    }\n",
       "</style>\n",
       "<table border=\"1\" class=\"dataframe\">\n",
       "  <thead>\n",
       "    <tr style=\"text-align: right;\">\n",
       "      <th></th>\n",
       "      <th>revenue_generated</th>\n",
       "    </tr>\n",
       "  </thead>\n",
       "  <tbody>\n",
       "    <tr>\n",
       "      <th>0.0</th>\n",
       "      <td>3.500000</td>\n",
       "    </tr>\n",
       "    <tr>\n",
       "      <th>0.1</th>\n",
       "      <td>74.781000</td>\n",
       "    </tr>\n",
       "    <tr>\n",
       "      <th>0.2</th>\n",
       "      <td>151.948000</td>\n",
       "    </tr>\n",
       "    <tr>\n",
       "      <th>0.3</th>\n",
       "      <td>273.880993</td>\n",
       "    </tr>\n",
       "    <tr>\n",
       "      <th>0.4</th>\n",
       "      <td>447.500000</td>\n",
       "    </tr>\n",
       "    <tr>\n",
       "      <th>0.5</th>\n",
       "      <td>771.530024</td>\n",
       "    </tr>\n",
       "    <tr>\n",
       "      <th>0.6</th>\n",
       "      <td>1233.213994</td>\n",
       "    </tr>\n",
       "    <tr>\n",
       "      <th>0.7</th>\n",
       "      <td>2137.986032</td>\n",
       "    </tr>\n",
       "    <tr>\n",
       "      <th>0.8</th>\n",
       "      <td>3598.024061</td>\n",
       "    </tr>\n",
       "    <tr>\n",
       "      <th>0.9</th>\n",
       "      <td>7353.310093</td>\n",
       "    </tr>\n",
       "  </tbody>\n",
       "</table>\n",
       "</div>"
      ],
      "text/plain": [
       "     revenue_generated\n",
       "0.0           3.500000\n",
       "0.1          74.781000\n",
       "0.2         151.948000\n",
       "0.3         273.880993\n",
       "0.4         447.500000\n",
       "0.5         771.530024\n",
       "0.6        1233.213994\n",
       "0.7        2137.986032\n",
       "0.8        3598.024061\n",
       "0.9        7353.310093"
      ]
     },
     "execution_count": 45,
     "metadata": {},
     "output_type": "execute_result"
    }
   ],
   "source": [
    "sellers_rev.quantile(np.arange(0,1,.1))"
   ]
  },
  {
   "cell_type": "code",
   "execution_count": null,
   "metadata": {},
   "outputs": [],
   "source": []
  }
 ],
 "metadata": {
  "kernelspec": {
   "display_name": "Python 3",
   "language": "python",
   "name": "python3"
  },
  "language_info": {
   "codemirror_mode": {
    "name": "ipython",
    "version": 3
   },
   "file_extension": ".py",
   "mimetype": "text/x-python",
   "name": "python",
   "nbconvert_exporter": "python",
   "pygments_lexer": "ipython3",
   "version": "3.5.6"
  }
 },
 "nbformat": 4,
 "nbformat_minor": 2
}
